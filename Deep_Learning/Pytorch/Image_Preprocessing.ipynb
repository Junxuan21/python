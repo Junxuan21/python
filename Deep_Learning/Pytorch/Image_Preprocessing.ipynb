{
  "nbformat": 4,
  "nbformat_minor": 0,
  "metadata": {
    "colab": {
      "name": "ImageProcessing",
      "provenance": [],
      "collapsed_sections": []
    },
    "kernelspec": {
      "name": "python3",
      "display_name": "Python 3"
    }
  },
  "cells": [
    {
      "cell_type": "code",
      "metadata": {
        "id": "aDeMc5f-XzOf",
        "colab_type": "code",
        "colab": {}
      },
      "source": [
        "import sys\n",
        "import numpy as np\n",
        "import pandas as pd\n",
        "import matplotlib.pyplot as plt\n",
        "import copy\n",
        "import cv2\n",
        "import PIL\n",
        "from glob import glob\n",
        "import copy\n",
        "\n",
        "%matplotlib inline"
      ],
      "execution_count": 0,
      "outputs": []
    },
    {
      "cell_type": "code",
      "metadata": {
        "id": "wclyBDKleqC4",
        "colab_type": "code",
        "colab": {}
      },
      "source": [
        "# from dataset.dataset_unet import mask2data\n",
        "# from utils.mask_functions import rle2mask\n",
        "# print ('how many images in trainset folder: ', len(train_fname_list))\n",
        "# print ('how many images in testset folder: ', len(test_fname_list))"
      ],
      "execution_count": 0,
      "outputs": []
    },
    {
      "cell_type": "code",
      "metadata": {
        "id": "nc2kH2kOfAbS",
        "colab_type": "code",
        "colab": {}
      },
      "source": [
        "np.random.seed(108)\n",
        "\n",
        "mask_data - mask2data()\n",
        "\n",
        "def get_mask(frame, mask_data):\n",
        "  img_id = frame.split('/')[-1][:-4]\n",
        "  try:\n",
        "    rle = [m for m in mask_data if m['img_id'==img_id][0]['masks'][0]]\n",
        "    return rle2mask(rle, 1024, 1024)\n",
        "  except:\n",
        "    return np.zeros((1024, 1024))\n",
        "print ('how many masks in trainset: ', len(mask_data))"
      ],
      "execution_count": 0,
      "outputs": []
    },
    {
      "cell_type": "markdown",
      "metadata": {
        "id": "K7deZKI6gaZt",
        "colab_type": "text"
      },
      "source": [
        "Images can be loaded using:\n",
        "1. Matplotlib\n",
        "2. OpenCV\n",
        "3. PIL (Python Image Library)"
      ]
    },
    {
      "cell_type": "code",
      "metadata": {
        "id": "SNqhiLc8gics",
        "colab_type": "code",
        "colab": {}
      },
      "source": [
        "# choose a random image to display\n",
        "fname = np.random.choice(train_fname_list, 1)[0]\n",
        "print(frame)\n",
        "# xxxxxxx.png"
      ],
      "execution_count": 0,
      "outputs": []
    },
    {
      "cell_type": "markdown",
      "metadata": {
        "id": "kw_PU3cMg0CA",
        "colab_type": "text"
      },
      "source": [
        "- Matplotlib"
      ]
    },
    {
      "cell_type": "code",
      "metadata": {
        "id": "SIfkgQcvg2ia",
        "colab_type": "code",
        "colab": {}
      },
      "source": [
        "img = plt.imread(fname)\n",
        "print(type(img)) # <class 'numpy.ndarray'>\n",
        "print(img.shape) # (1024, 1024)\n",
        "print(img.min(), img.max()) # 0.0 1.0\n",
        "\n",
        "fig = plt.imshow(img, cmap = plt.cm.bone)"
      ],
      "execution_count": 0,
      "outputs": []
    },
    {
      "cell_type": "markdown",
      "metadata": {
        "id": "9E3YRs_chav3",
        "colab_type": "text"
      },
      "source": [
        "- OpenCV"
      ]
    },
    {
      "cell_type": "code",
      "metadata": {
        "id": "B8St20DQhcTx",
        "colab_type": "code",
        "colab": {}
      },
      "source": [
        "img = cv2.imread(fname, cv2.IMREAD_GRAYSCALE) # read in bnw\n",
        "print(type(img)) # <class 'numpy.ndarray'>\n",
        "print(img.shape) # (1024, 1024)\n",
        "print(img.min(), img.max()) # 0  255 \n",
        "\n",
        "fig = plt.imshow(img, cmap = plt.cm.bone)"
      ],
      "execution_count": 0,
      "outputs": []
    },
    {
      "cell_type": "markdown",
      "metadata": {
        "id": "KGrSFuqWhyZy",
        "colab_type": "text"
      },
      "source": [
        "- PIL"
      ]
    },
    {
      "cell_type": "code",
      "metadata": {
        "id": "FQ88IQIah06H",
        "colab_type": "code",
        "colab": {}
      },
      "source": [
        "img = PIL.Image.open(fname) \n",
        "print(type(img)) # <class 'PIL.PngImagePlugin.PngImageFile'>\n",
        "img = np.asarray(img) # convert to np array\n",
        "print(type(img)) # <class 'numpy.ndarray'>\n",
        "print(img.shape) # (1024, 1024)\n",
        "print(img.min(), img.max()) # 0  255 \n",
        "\n",
        "fig = plt.imshow(img, cmap = plt.cm.bone)"
      ],
      "execution_count": 0,
      "outputs": []
    },
    {
      "cell_type": "code",
      "metadata": {
        "id": "JR6n4L47iP8F",
        "colab_type": "code",
        "colab": {}
      },
      "source": [
        "# visualization"
      ],
      "execution_count": 0,
      "outputs": []
    },
    {
      "cell_type": "code",
      "metadata": {
        "id": "05rZeCQJiZc1",
        "colab_type": "code",
        "colab": {}
      },
      "source": [
        "mask = get_mask(fname, mask_data)\n",
        "plt.imshow(mask)"
      ],
      "execution_count": 0,
      "outputs": []
    },
    {
      "cell_type": "code",
      "metadata": {
        "id": "1ICmO3B4ieq0",
        "colab_type": "code",
        "colab": {}
      },
      "source": [
        "# get random batch images\n",
        "random_image_list = np.random.choice(train_fname_list, 20)\n",
        "visualize_mask = True\n",
        "\n",
        "# visualize batch of images\n",
        "fig = plt.figure(figsize=(15, 20))\n",
        "\n",
        "for idx, img_fname in enumerate(random_image_list):\n",
        "  img = plt.imread(img_fname)\n",
        "  ax = fig.add_subplot(5, 4, idx+1) # plot images together\n",
        "  plt.imshow(img, plt.cm.bone)\n",
        "\n",
        "  if visualize_mask:\n",
        "    mask = get_mask(img_fname, mask_data)\n",
        "    plt.imshow(mask, alpha = 0.2, cmap = 'Reds')\n",
        "    if mask.sum > 0:\n",
        "      plt.title('Mask')\n",
        "    else:\n",
        "      plt.title('Empty')"
      ],
      "execution_count": 0,
      "outputs": []
    },
    {
      "cell_type": "markdown",
      "metadata": {
        "id": "-TvhlHuDjvZE",
        "colab_type": "text"
      },
      "source": [
        "### RGB 3 Channels V.S. 1 Channel Grayscale Image "
      ]
    },
    {
      "cell_type": "code",
      "metadata": {
        "id": "ASmvUq4Sj9OZ",
        "colab_type": "code",
        "colab": {}
      },
      "source": [
        "# convert from one channel to three channels\n",
        "img = plt.imread(fname)\n",
        "fig = plt.imshow(img, cmap = plt.cm.bone)"
      ],
      "execution_count": 0,
      "outputs": []
    },
    {
      "cell_type": "code",
      "metadata": {
        "id": "FszU6Pv3j01A",
        "colab_type": "code",
        "colab": {}
      },
      "source": [
        "new_img = img.reshape(img.shape[0], img.shape[1], 1) # add one dimension to denote color channel\n",
        "new_img.shape\n",
        "# (1024, 1024, 1) "
      ],
      "execution_count": 0,
      "outputs": []
    },
    {
      "cell_type": "code",
      "metadata": {
        "id": "blVYp0mviewc",
        "colab_type": "code",
        "colab": {}
      },
      "source": [
        "mean = [0.485, 0.456, 0.406]\n",
        "std = [0.229, 0.224, 0.225]\n",
        "\n",
        "img_three_ch = np.concatenate([\n",
        "                               (new_img-mean[0])/std[0],\n",
        "                               (new_img-mean[1])/std[1],\n",
        "                               (new_img-mean[2])/std[2],\n",
        "                               ], axis = 2)\n",
        "img_three_ch = np.clip(img_three_ch, 0, 1)\n",
        "img_three_ch.shape\n",
        "# (1024, 1024, 3) "
      ],
      "execution_count": 0,
      "outputs": []
    },
    {
      "cell_type": "code",
      "metadata": {
        "id": "1072f58biQEl",
        "colab_type": "code",
        "colab": {}
      },
      "source": [
        "fig = plt.imshow(img_three_ch, cmap = plt.cm.bone)"
      ],
      "execution_count": 0,
      "outputs": []
    }
  ]
}