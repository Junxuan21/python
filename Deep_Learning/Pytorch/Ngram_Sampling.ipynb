{
 "cells": [
  {
   "cell_type": "markdown",
   "metadata": {},
   "source": [
    "### This post explores the N-gram model in NLP using the famous Tale of Two Cities from Dickens.\n",
    "\n",
    "#### The N-gram is a very basic model based on Markov chain of order n and has several weaknesses:\n",
    " 1. when n is small, the accuracy is low, when the n is big, resulting too sparse representation, requires huge space and memory\n",
    " 2. does not consider the frequency of some common word --> could use TF-IDF\n",
    " 3. does not consider the similarity between words, ignore the semantic meaning\n",
    " 4. does not consider the earlier words to the next word --> bigram/trigram (too sparse)"
   ]
  },
  {
   "cell_type": "markdown",
   "metadata": {},
   "source": [
    "for example, when n = 2, the probability of a four-word sequence w_1, w_2, w_3, w_4 is like:\n",
    "\n",
    "$$\n",
    "\n",
    "\\begin{align*}\n",
    "P(w_1, w_2, w_3, w_4)\n",
    "&= P(w_1) P(w_2 \\mid w_1) P(w_3 \\mid w_1, w_2) P(w_4 \\mid w_1, w_2, w_3)\\\\\n",
    "&= P(w_1) P(w_2 \\mid w_1) P(w_3 \\mid w_2) P(w_4 \\mid w_3)\n",
    "\\end{align*}\n",
    "\n",
    "$$\n",
    "\n",
    "\n",
    "when n = 1/2/3, the probability of a four-word sequence w_1, w_2, w_3, w_4 is like:\n",
    "\n",
    "$$\n",
    "\n",
    "\\begin{aligned}\n",
    "P(w_1, w_2, w_3, w_4) &=  P(w_1) P(w_2) P(w_3) P(w_4) ,\\\\\n",
    "P(w_1, w_2, w_3, w_4) &=  P(w_1) P(w_2 \\mid w_1) P(w_3 \\mid w_2) P(w_4 \\mid w_3) ,\\\\\n",
    "P(w_1, w_2, w_3, w_4) &=  P(w_1) P(w_2 \\mid w_1) P(w_3 \\mid w_1, w_2) P(w_4 \\mid w_2, w_3) .\n",
    "\\end{aligned}\n",
    "\n",
    "$$\n"
   ]
  },
  {
   "cell_type": "code",
   "execution_count": 2,
   "metadata": {},
   "outputs": [],
   "source": [
    "with open('./tale-of-two-cities.txt') as f:\n",
    "    corpus_chars = f.read()"
   ]
  },
  {
   "cell_type": "code",
   "execution_count": 2,
   "metadata": {},
   "outputs": [
    {
     "name": "stdout",
     "output_type": "stream",
     "text": [
      "758498\n"
     ]
    }
   ],
   "source": [
    "print(len(corpus_chars))"
   ]
  },
  {
   "cell_type": "code",
   "execution_count": 3,
   "metadata": {},
   "outputs": [
    {
     "name": "stdout",
     "output_type": "stream",
     "text": [
      "  IT WAS the best of times, it was the worst of times, it was the\n",
      "age of wisdom, it was the age of foolishness, it was the epoch of\n",
      "belief, it was the epoch of incredulity, it was the season of Light,\n",
      "it was the season of Darkness, it was the spring of hope, it was the\n",
      "winter of despair, we had everything before us, we had nothing\n",
      "before us, we were all going direct to Heaven, we were all going\n",
      "direct the other way- in short, the period was so far like the present\n",
      "period, that some of its noisiest authorities insisted on its being\n",
      "received, for good or for evil, in the superlative degree of\n",
      "comparison only.\n",
      "  There were a king with a large jaw and a queen with a plain face, on\n",
      "the throne of England; there were a king with a large jaw and a\n",
      "queen with a fair face, on the throne of France. In both countries\n",
      "it was clearer than crystal to the lords of the State preserves of\n",
      "loaves and fishes, that things in general were settled for ever.\n",
      "  It was the year of Our Lord one thousand seven hundred and\n",
      "seventy-five. Spiritual revelations were conceded to England at that\n",
      "favoured period, as at this. Mrs. Southcott had recently attained\n",
      "her five-and-twentieth blessed birthday, of whom a prophetic private\n",
      "in the Life Guards had heralded the sublime appearance by announcing\n",
      "that arrangements were made for the swallowing up of London and\n",
      "Westminster. Even the Cock-lane ghost had been laid only a round dozen\n",
      "of years, after rapping out its messages, as the spirits of this\n",
      "very year last past (supernaturally deficient in originality) rapped\n",
      "out theirs. Mere messages in the earthly order of events had lately\n",
      "come to the English Crown and People, from a congress of British\n",
      "subjects in America: which, strange to relate, have proved more\n",
      "important to the human race than any communications yet received\n",
      "through any of the chickens of the Cock-lane brood.\n",
      "  France, less favoured on the whole as to matters spiritual than\n",
      "her sister of the shield and trident, rolled with exceeding smoothness\n",
      "down hill, making paper money and spending it. Under the guidance of\n",
      "her Christian pastors, she entertained herself, besides, with such\n",
      "humane achievements as sentencing a youth to have his hands cut off,\n",
      "his tongue torn out with pincers, and his body burned alive, because\n",
      "he had not kneeled down in the rain to do honour to a dirty procession\n",
      "of monks which passed within his view, at a distance of some fifty\n",
      "or sixty yards. It is likely enough that, rooted in the woods of\n",
      "France and Norway, there were growing trees, when that sufferer was\n",
      "put to death, already marked by the Woodman, Fate, to come down and be\n",
      "sawn into boards, to make a certain movable framework with a sack\n",
      "and a knife in it, terrible in history. It is likely enough that in\n",
      "the rough outhouses of some tillers of the heavy lands adjacent to\n",
      "Paris, there were sheltered from the weather that very day, rude\n",
      "carts, bespattered with rustic mire, snuffed about by pigs, and\n",
      "roosted in by poultry, which the Farmer, Death, had already set\n",
      "apart to be his tumbrils of the Revolution. But that Woodman and\n",
      "that Farmer, though they work unceasingly, work silently and no one\n",
      "heard them as they went about with muffled tread: the rather,\n",
      "forasmuch as to entertain any suspicion that they were awake, was to\n",
      "be atheistical and traitorous.\n",
      "  In England, there was scarcely an amount of order and protection\n",
      "to justify much national boasting. Daring burglaries by armed men, and\n",
      "highway robberies, took place in the capital itself every night;\n",
      "families were publicly cautioned not to go out of town without\n",
      "removing their furniture to upholsterers' warehouses for security; the\n",
      "highwayman in the dark was a City tradesman in the light, and, being\n",
      "recognised and challenged by his fellow-tradesman whom he stopped in\n",
      "his character of \"the Captain,\" gallantly shot him through the head\n",
      "and rode away; the mail was waylaid by seven robbers, and the guard\n",
      "shot three dead, and then got shot dead himself by the other four, \"in\n",
      "consequence of the failure of his ammunition:\" after which the mail\n",
      "was robbed in peace; that magnificent potentate, the Lord Mayor of\n",
      "London, was made to stand and deliver on Turnham Green, by one\n",
      "highwayman, who despoiled the illustrious creature in sight of all his\n",
      "retinue; prisoners in London gaols fought battles with their\n",
      "turkeys, and the majesty of the law fired blunderbusses in among them,\n",
      "loaded with rounds of shot and ball; thieves snipped off diamond\n",
      "crosses from the necks of noble lords at Court drawing-rooms;\n",
      "musketeers went into St. Giles's, to search for contraband goods,\n",
      "and the mob fired on the musketeers, and the musketeers fir on the\n",
      "mob, and nobody thought any of these occurrences much out of the\n",
      "common way. In the midst of them, the hangman, ever busy and ever\n",
      "worse than useless, was in constant requisition; now, stringing up\n",
      "long rows of miscellaneous criminals; now, hanging a housebreaker on\n",
      "Saturday who had been taken on Tuesday; now, burning people in the\n",
      "hand at Newgate by the dozen, and now burning pamphlets at the door of\n",
      "Westminster Hall; to-day, taking the life of an atrocious murderer,\n",
      "and to-morrow of a wretched pilferer who had robbed a farmer's boy\n",
      "of sixpence.\n",
      "  All these things, and a thousand like them, came to pass in and\n",
      "close upon the dear old year one thousand seven hundred and\n",
      "seventy-five. Environed by them, while the Woodman and the Farmer\n",
      "worked unheeded, those two of the large jaws, and those other two of\n",
      "the plain and the fair faces, trod with stir enough, and carried their\n",
      "divine rights with a high hand. Thus did the year one thousand seven\n",
      "hundred and seventy-five conduct their Greatnesses, and myriads of\n",
      "small creatures- the creatures of this chronicle among the rest- along\n",
      "the roads that lay before them.\n",
      "  II\n",
      "  THE MAIL\n",
      "\n",
      "  IT WAS the Dover road that lay, on a Friday night late in\n",
      "November, before the first of the persons with whom this history has\n",
      "business. The Dover road lay, as to him, beyond the Dover mail, as\n",
      "it lumbered up Shooter's Hill. He walked up hill in the mire by the\n",
      "side of the mail, as the rest of the passengers did; not because\n",
      "they had the least relish for walking exercise, under the\n",
      "circumstances, but because the hill, and the harness, and the mud, and\n",
      "the mail, were all so heavy, that the horses had three times already\n",
      "come to a stop, besides once drawing the coach across the road, with\n",
      "the mutinous intent of taking it back to Blackheath. Reins and whip\n",
      "and coachman and guard, however, in combination, had read that article\n",
      "of war which forbade a purpose otherwise strongly in favour of the\n",
      "argument, that some brute animals are endued with Reason; and the team\n",
      "had capitulated and returned to their duty.\n",
      "  With drooping heads and tremulous tails, they mashed their way\n",
      "through the thick mud, floundering and stumbling between whiles, as if\n",
      "they were falling to pieces at the larger joints. As often as the\n",
      "driver rested them and brought them to a stand, with a wary \"Wo-ho!\n",
      "so-ho-then!\" the near leader violently shook his head and everything\n",
      "upon it- like an unusually emphatic horse, denying that the coach\n",
      "could be got up the hill. Whenever the leader made this rattle, the\n",
      "passenger started, as a nervous passenger might, and was disturbed\n",
      "in mind.\n",
      "  There was a steaming mist in all the hollows, and it had roamed in\n",
      "its forlornness up the hill, like an evil spirit, seeking rest and\n",
      "finding none. A clammy and intensely cold mist, it made its slow way\n",
      "through the air in ripples that visibly followed and overspread one\n",
      "another, as the waves of an unwholesome sea might do. It was dense\n",
      "enough to shut out everything from the light of the coach-lamps but\n",
      "these its own workings, and a few yards of road; and the reek of the\n",
      "labouring horses steamed into it, as if they had made it all.\n",
      "  Two other passengers, besides the one, were plodding up the hill\n",
      "by the side of the mail. All three were wrapped to the cheekbones\n",
      "and over the cars, and wore jack-boots. Not one of the three could\n",
      "have said, from anything he saw, what either of the other two was\n",
      "like; and each was hidden under almost as many wrappers from the\n",
      "eyes of the mind, as from the eyes of the body, of his two companions.\n",
      "In those days, travellers were very shy of being confidential on a\n",
      "short notice, for anybody on the road might be a robber or in league\n",
      "with robbers. As to the latter, when every posting-house and ale-house\n",
      "could produce somebody in \"the Captain's\" pay, ranging from the\n",
      "landlord to the lowest stable nondescript, it was the likeliest\n",
      "thing upon the cards. So the guard of the Dover mail thought to\n",
      "himself, that Friday night in November, one thousand seven hundred and\n",
      "seventy-five, lumbering up Shooter's Hill, as he stood on his own\n",
      "particular perch behind the mail, beating his feet, and keeping an eye\n",
      "and a hand on the arm-chest before him, where a loaded blunderbuss lay\n",
      "at the top of six or eight loaded horse-pistols, deposited on a\n",
      "substratum of cutlass.\n",
      "  The Dover mail was in its usual genial position that the guard\n",
      "suspected the passengers, the passengers suspected one another and the\n",
      "guard, they all suspected everybody else, and the coachman was sure of\n",
      "nothing but the horses; as to which cattle he could with a clear\n",
      "conscience have taken his oath on the two Testaments that they were\n",
      "not fit for the journey.\n",
      "  \"Wo-ho!\" said the coachman. \"So, then! One more pull and you're at\n",
      "the top and be damned to you, for I have had trouble enough to get you\n",
      "to it!- Joe!\"\n",
      "  \"Halloa!\" the guard replied.\n",
      "  \"What o'clock do you make it, Joe?\"\n",
      "  \"Ten minutes, good, past eleven.\"\n",
      "  \"My blood!\" ejaculated the vexed coachman, \"and not atop of\n",
      "Shooter's yet! Tst! Yah! Get on with you!\"\n",
      "  The emphatic horse, cut short by the whip in a most decided\n",
      "negative, made a decided scramble for it, and the three other horses\n",
      "followed suit. Once more, the Dover mail struggled on, with the\n",
      "jack-boots of its passengers squashing along by its side. They had\n",
      "stopped when the coach stopped, and they kept\n"
     ]
    }
   ],
   "source": [
    "print(corpus_chars[: 10000])"
   ]
  },
  {
   "cell_type": "code",
   "execution_count": 4,
   "metadata": {},
   "outputs": [],
   "source": [
    "corpus_chars = corpus_chars.replace('\\n', ' ').replace('\\r', ' ').lower()\n",
    "corpus_chars = corpus_chars[: 20000]"
   ]
  },
  {
   "cell_type": "code",
   "execution_count": 5,
   "metadata": {},
   "outputs": [
    {
     "data": {
      "text/plain": [
       "'  it was the best of times, it was the worst of times, it was the age of wisdom, it was the age of foolishness, it was the epoch of belief, it was the epoch of incredulity, it was the season of light, it was the season of darkness, it was the spring of hope, it was the winter of despair, we had everything before us, we had nothing before us, we were all going direct to heaven, we were all going direct the other way- in short, the period was so far like the present period, that some of its noisiest authorities insisted on its being received, for good or for evil, in the superlative degree of comparison only.   there were a king with a large jaw and a queen with a plain face, on the throne of england; there were a king with a large jaw and a queen with a fair face, on the throne of france. in both countries it was clearer than crystal to the lords of the state preserves of loaves and fishes, that things in general were settled for ever.   it was the year of our lord one thousand seven hundred and seventy-five. spiritual revelations were conceded to england at that favoured period, as at this. mrs. southcott had recently attained her five-and-twentieth blessed birthday, of whom a prophetic private in the life guards had heralded the sublime appearance by announcing that arrangements were made for the swallowing up of london and westminster. even the cock-lane ghost had been laid only a round dozen of years, after rapping out its messages, as the spirits of this very year last past (supernaturally deficient in originality) rapped out theirs. mere messages in the earthly order of events had lately come to the english crown and people, from a congress of british subjects in america: which, strange to relate, have proved more important to the human race than any communications yet received through any of the chickens of the cock-lane brood.   france, less favoured on the whole as to matters spiritual than her sister of the shield and trident, rolled with exceeding smoothness down hill, making paper money and spending it. under the guidance of her christian pastors, she entertained herself, besides, with such humane achievements as sentencing a youth to have his hands cut off, his tongue torn out with pincers, and his body burned alive, because he had not kneeled down in the rain to do honour to a dirty procession of monks which passed within his view, at a distance of some fifty or sixty yards. it is likely enough that, rooted in the woods of france and norway, there were growing trees, when that sufferer was put to death, already marked by the woodman, fate, to come down and be sawn into boards, to make a certain movable framework with a sack and a knife in it, terrible in history. it is likely enough that in the rough outhouses of some tillers of the heavy lands adjacent to paris, there were sheltered from the weather that very day, rude carts, bespattered with rustic mire, snuffed about by pigs, and roosted in by poultry, which the farmer, death, had already set apart to be his tumbrils of the revolution. but that woodman and that farmer, though they work unceasingly, work silently and no one heard them as they went about with muffled tread: the rather, forasmuch as to entertain any suspicion that they were awake, was to be atheistical and traitorous.   in england, there was scarcely an amount of order and protection to justify much national boasting. daring burglaries by armed men, and highway robberies, took place in the capital itself every night; families were publicly cautioned not to go out of town without removing their furniture to upholsterers\\' warehouses for security; the highwayman in the dark was a city tradesman in the light, and, being recognised and challenged by his fellow-tradesman whom he stopped in his character of \"the captain,\" gallantly shot him through the head and rode away; the mail was waylaid by seven robbers, and the guard shot three dead, and then got shot dead himself by the other four, \"in consequence of the failure of his ammunition:\" after which the mail was robbed in peace; that magnificent potentate, the lord mayor of london, was made to stand and deliver on turnham green, by one highwayman, who despoiled the illustrious creature in sight of all his retinue; prisoners in london gaols fought battles with their turkeys, and the majesty of the law fired blunderbusses in among them, loaded with rounds of shot and ball; thieves snipped off diamond crosses from the necks of noble lords at court drawing-rooms; musketeers went into st. giles\\'s, to search for contraband goods, and the mob fired on the musketeers, and the musketeers fir on the mob, and nobody thought any of these occurrences much out of the common way. in the midst of them, the hangman, ever busy and ever worse than useless, was in constant requisition; now, stringing up long rows of miscellaneous criminals; now, hanging a housebreaker on saturday who had been taken on tuesday; now, burning people in the hand at newgate by the dozen, and now burning pamphlets at the door of westminster hall; to-day, taking the life of an atrocious murderer, and to-morrow of a wretched pilferer who had robbed a farmer\\'s boy of sixpence.   all these things, and a thousand like them, came to pass in and close upon the dear old year one thousand seven hundred and seventy-five. environed by them, while the woodman and the farmer worked unheeded, those two of the large jaws, and those other two of the plain and the fair faces, trod with stir enough, and carried their divine rights with a high hand. thus did the year one thousand seven hundred and seventy-five conduct their greatnesses, and myriads of small creatures- the creatures of this chronicle among the rest- along the roads that lay before them.   ii   the mail    it was the dover road that lay, on a friday night late in november, before the first of the persons with whom this history has business. the dover road lay, as to him, beyond the dover mail, as it lumbered up shooter\\'s hill. he walked up hill in the mire by the side of the mail, as the rest of the passengers did; not because they had the least relish for walking exercise, under the circumstances, but because the hill, and the harness, and the mud, and the mail, were all so heavy, that the horses had three times already come to a stop, besides once drawing the coach across the road, with the mutinous intent of taking it back to blackheath. reins and whip and coachman and guard, however, in combination, had read that article of war which forbade a purpose otherwise strongly in favour of the argument, that some brute animals are endued with reason; and the team had capitulated and returned to their duty.   with drooping heads and tremulous tails, they mashed their way through the thick mud, floundering and stumbling between whiles, as if they were falling to pieces at the larger joints. as often as the driver rested them and brought them to a stand, with a wary \"wo-ho! so-ho-then!\" the near leader violently shook his head and everything upon it- like an unusually emphatic horse, denying that the coach could be got up the hill. whenever the leader made this rattle, the passenger started, as a nervous passenger might, and was disturbed in mind.   there was a steaming mist in all the hollows, and it had roamed in its forlornness up the hill, like an evil spirit, seeking rest and finding none. a clammy and intensely cold mist, it made its slow way through the air in ripples that visibly followed and overspread one another, as the waves of an unwholesome sea might do. it was dense enough to shut out everything from the light of the coach-lamps but these its own workings, and a few yards of road; and the reek of the labouring horses steamed into it, as if they had made it all.   two other passengers, besides the one, were plodding up the hill by the side of the mail. all three were wrapped to the cheekbones and over the cars, and wore jack-boots. not one of the three could have said, from anything he saw, what either of the other two was like; and each was hidden under almost as many wrappers from the eyes of the mind, as from the eyes of the body, of his two companions. in those days, travellers were very shy of being confidential on a short notice, for anybody on the road might be a robber or in league with robbers. as to the latter, when every posting-house and ale-house could produce somebody in \"the captain\\'s\" pay, ranging from the landlord to the lowest stable nondescript, it was the likeliest thing upon the cards. so the guard of the dover mail thought to himself, that friday night in november, one thousand seven hundred and seventy-five, lumbering up shooter\\'s hill, as he stood on his own particular perch behind the mail, beating his feet, and keeping an eye and a hand on the arm-chest before him, where a loaded blunderbuss lay at the top of six or eight loaded horse-pistols, deposited on a substratum of cutlass.   the dover mail was in its usual genial position that the guard suspected the passengers, the passengers suspected one another and the guard, they all suspected everybody else, and the coachman was sure of nothing but the horses; as to which cattle he could with a clear conscience have taken his oath on the two testaments that they were not fit for the journey.   \"wo-ho!\" said the coachman. \"so, then! one more pull and you\\'re at the top and be damned to you, for i have had trouble enough to get you to it!- joe!\"   \"halloa!\" the guard replied.   \"what o\\'clock do you make it, joe?\"   \"ten minutes, good, past eleven.\"   \"my blood!\" ejaculated the vexed coachman, \"and not atop of shooter\\'s yet! tst! yah! get on with you!\"   the emphatic horse, cut short by the whip in a most decided negative, made a decided scramble for it, and the three other horses followed suit. once more, the dover mail struggled on, with the jack-boots of its passengers squashing along by its side. they had stopped when the coach stopped, and they kept close company with it. if any one of the three had had the hardihood to propose to another to walk on a little ahead into the mist and darkness, he would have put himself in a fair way of getting shot instantly as a highwayman.   the last burst carried the mail to the summit of the hill. the horses stopped to breathe again, and the guard got down to skid the wheel for the descent, and open the coach-door to let the passengers in.   \"tst! joe!\" cried the coachman in a warning voice, looking down from his box.   \"what do you say, tom?\"   they both listened.   \"i say a horse at a canter coming up, joe.\"   \"i say a horse at a gallop, tom,\" returned the guard, leaving his hold of the door, and mounting nimbly to his place. \"gentlemen! in the king\\'s name, all of you!\"   with this hurried adjuration, he cocked his blunderbuss, and stood on the offensive.   the passenger booked by this history, was on the coach-step, getting in; the two other passengers were close behind him, and about to follow. he remained on the step, half in the coach and half out of; they remained in the road below him. they all looked from the coachman to the guard, and from the guard to the coachman, and listened. the coachman looked back and the guard looked back, and even the emphatic leader pricked up his ears and looked back, without contradicting.   the stillness consequent on the cessation of the rumbling and labouring of the coach, added to the stillness of the night, made it very quiet indeed. the panting of the horses communicated a tremulous motion to the coach, as if it were in a state of agitation. the hearts of the passengers beat loud enough perhaps to be heard; but at any rate, the quiet pause was audibly expressive of people out of breath, and holding the breath, and having the pulses quickened by expectation.   the sound of a horse at a gallop came fast and furiously up the hill.   \"so-ho!\" the guard sang out, as loud as he could roar. \"yo there! stand! i shall fire!\"   the pace was suddenly checked, and, with much splashing and floundering, a man\\'s voice called from the mist, \"is that the dover mail?\"   \"never you mind what it is!\" the guard retorted. \"what are you?\"   \"is that the dover mail?\"   \"why do you want to know?\"   \"i want a passenger, if it is.\"   \"what passenger?\"   \"mr. jarvis lorry.\"   our booked passenger showed in a moment that it was his name. the guard, the coachman, and the two other passengers eyed him distrustfully.   \"keep where you are,\" the guard called to the voice in the mist, \"because, if i should make a mistake, it could never be set right in your lifetime. gentleman of the name of lorry answer straight.\"   \"what is the matter?\" asked the passenger, then, with mildly quavering speech. \"who wants me? is it jerry?\"   (\"i don\\'t like jerry\\'s voice, if it is jerry,\" growled the guard to himself. \"he\\'s hoarser than suits me, is jerry.\")   \"yes, mr. lorry.\"   \"what is the matter?\"   \"a despatch sent after you from over yonder. t. and co.\"   \"i know this messenger, guard,\" said mr. lorry, getting down into the road- assisted from behind more swiftly than politely by the other two passengers, who immediately scrambled into the coach, shut the door, and pulled up the window. \"he may come close; there\\'s nothing wrong.\"   \"i hope there ain\\'t, but i can\\'t make so \\'nation sure of that,\" said the guard, in gruff soliloquy. \"hallo you!\"   \"well! and hallo you!\" said jerry, more hoarsely than before.   \"come on at a footpace! d\\'ye mind me? and if you\\'ve got holsters to that saddle o\\' yourn, don\\'t let me see your hand go nigh \\'em. for i\\'m a devil at a quick mistake, and when i make one it takes the form of lead. so now let\\'s look at you.\"   the figures of a horse and rider came slowly through the eddying mist, and came to the side of the mail, where the passenger stood. the rider stooped, and, casting up his eyes at the guard, handed the passenger a small folded paper. the rider\\'s horse was blown, and both horse and rider were covered with mud, from the hoofs of the horse to the hat of the man.   \"guard!\" said the passenger, in a tone of quiet business confidence.   the watchful guard, with his right hand at the stock of his raised blunderbuss, his left at the barrel, and his eye on the horseman, answered curtly, \"sir.\"   \"there is nothing to apprehend. i belong to tellson\\'s bank. you must know tellson\\'s bank in london. i am going to paris on business. a crown to drink. i may read this?\"   \"if so be as you\\'re quick, sir.\"   he opened it in the light of the coach-lamp on that side, and read- first to himself and then aloud: \"\\'wait at dover for mam\\'selle.\\' it\\'s not long, you see, guard. jerry, say that my answer was, recalled to life.\"   jerry started in his saddle. \"that\\'s a blazing strange answer, too,\" said he, at his hoarsest.   \"take that message back, and they will know that i received this, as well as if i wrote. make the best of your way. good night.\"   with those words the passenger opened the coach-door and got in; not at all assisted by his fellow-passengers, who had expeditiously secreted their watches and purses in their boots, and were now making a general pretence of being asleep. with no more definite purpose than to escape the hazard of originating any other kind of action.   the coach lumbered on again, with heavier wreaths of mist closing round it as it began the descent. the guard soon replaced his blunderbuss in his arm-chest, and, having looked to the rest of its contents, and having looked to the supplementary pistols that he wore in his belt, looked to a smaller chest beneath his seat, in which there were a few smith\\'s tools, a couple of torches, and a tinder-box. for he was furnished with that completeness that if the coach-lamps had been blown and stormed out, which did occasionally happen, he had only to shut himself up inside, keep the flint and steel sparks well off the straw, and get a light with tolerable safety and ease (if he were lucky) in five minutes.   \"tom!\" softly over the coach roof.   \"hallo, joe.\"   \"did you hear the message?\"   \"i did, joe.\"   \"what did you make of it, tom?\"   \"nothing at all, joe.\"   \"that\\'s a coincidence, too,\" the guard mused, \"for i made the same of it myself.\"   jerry, left alone in the mist and darkness, dismounted meanwhile, not only to ease his spent horse, but to wipe the mud from his face, and shake the wet out of his hat-brim, which might be capable of holding about half a gallon. after standing with the bridle over his heavily-splashed arm, until the wheels of the mail were no longer within hearing and the night was quite still again, he turned to walk down the hill.   \"after that there gallop from temple bar, old lady, i won\\'t trust your fore-legs till i get you on the level,\" said this hoarse messenger, glancing at his mare. \"\\'recalled to life.\\' that\\'s a blazing strange message. much of that wouldn\\'t do for you, jerry! i say, jerry! you\\'d be in a blazing bad way, if recalling to life was to come into fashion, jerry!\"   iii   the night shadows    a wonderful fact to reflect upon, that every human creature is constituted to be that profound secret and mystery to every other. a solemn consideration, when i enter a great city by night, that every one of those darkly clustered houses encloses its own secret; that every room in every one of them encloses its own secret; that every beating heart in the hundreds of thousands of breasts there, is, in some of its imaginings, a secret to the heart nearest it! something of the awfulness, even of death itself, is referable to this. no more can i turn the leaves of this dear book that i loved, and vainly hope in time to read it all. no more can i look into the depths of this unfathomable water, wherein, as momentary lights glanced into it, i have had glimpses of buried treasure and other things submerged. it was appointed that the book should shut with a spring, for ever and for ever, when i had read but a page. it was appointed that the water should be locked in an eternal frost, when the light was playing on its surface, and i stood in ignorance on the shore. my friend is dead, my neighbour is dead, my love, the darling of my soul, is dead; it is the inexorable consolidation and perpetuation of the secret that was always in that individuality, and which i shall carry in mine to my life\\'s end. in any of the burial-places of this city through which i pass, is there a sleeper more inscrutable than its busy inhabitants are, in their innermost personality, to me, or than i am to them?   as to this, his natural and not to be alienated inheritance, the messenger on horseback had exactly the same possessions as the king, the first minister of state, or the richest merchant in london. so with the three passengers shut up in the narrow compass of one lumbering old mail coach; they were mysteries to one another, as complete as if each had been in his own coach and six, or his own coach and sixty, with the breadth of a county between him and the next.   the messenger rode back at an easy trot, stopping pretty often at alehouses by the way to drink, but evincing a tendency to keep his own counsel, and to keep his hat cocked over his eyes. he had eyes that assorted very well with that decoration, being of a surface black, with no depth in the colour or form, and much too near together- as if they were afraid of being found out in something, singly, if they kept too far apart. they had a sinister expression, under an old cocked-hat like a three-cornered spittoon, and over a great muffler for the chin and throat, which descended nearly to the wearer\\'s knees. when he stopped for drink, he moved this muffler with his left hand, only while he poured his liquor in with his right; as soon as that was done, he muffled again.   \"no, jerry, no!\" said the messenger, harping on one theme as he rode. \"it wouldn\\'t do for you, jerry. jerry, you honest tradesman, it wouldn\\'t suit your line of business! recalled-! bust me if i don\\'t thi'"
      ]
     },
     "execution_count": 5,
     "metadata": {},
     "output_type": "execute_result"
    }
   ],
   "source": [
    "corpus_chars"
   ]
  },
  {
   "cell_type": "markdown",
   "metadata": {},
   "source": [
    "### Create a dict vocab mapping word to index"
   ]
  },
  {
   "cell_type": "code",
   "execution_count": 10,
   "metadata": {},
   "outputs": [
    {
     "name": "stdout",
     "output_type": "stream",
     "text": [
      "38\n",
      "chars:   it was the best of times, it was the worst of times, it was the age of wisdom, it was the age of foolishness, it was the epoch of belief, it was the epoch of incredulity, it was the season of light, it was the season of darkness, it was the spring of hope, it was the winter of despair, we had everything before us, we had nothing before us, we were all going direct to heaven, we were all going direct the other way- in short, the period was so far like the present period, that some of its noisiest authorities insisted on its being received, for good or for evil, in the superlative degree of comparison only.   there were a king with a large jaw and a queen with a plain face, on the throne of england; there were a king with a large jaw and a queen with a fair face, on the throne of france. in both countries it was clearer than crystal to the lords of the state preserves of loaves and fishes, that things in general were settled for ever.   it was the year of our lord one thousand seven hu\n",
      "indices: [30, 30, 37, 22, 30, 25, 19, 15, 30, 22, 10, 7, 30, 32, 7, 15, 22, 30, 8, 0, 30, 22, 37, 3, 7, 15, 20, 30, 37, 22, 30, 25, 19, 15, 30, 22, 10, 7, 30, 25, 8, 31, 15, 22, 30, 8, 0, 30, 22, 37, 3, 7, 15, 20, 30, 37, 22, 30, 25, 19, 15, 30, 22, 10, 7, 30, 19, 35, 7, 30, 8, 0, 30, 25, 37, 15, 11, 8, 3, 20, 30, 37, 22, 30, 25, 19, 15, 30, 22, 10, 7, 30, 19, 35, 7, 30, 8, 0, 30, 0, 8, 8, 27, 37, 15, 10, 9, 7, 15, 15, 20, 30, 37, 22, 30, 25, 19, 15, 30, 22, 10, 7, 30, 7, 33, 8, 28, 10, 30, 8, 0, 30, 32, 7, 27, 37, 7, 0, 20, 30, 37, 22, 30, 25, 19, 15, 30, 22, 10, 7, 30, 7, 33, 8, 28, 10, 30, 8, 0, 30, 37, 9, 28, 31, 7, 11, 14, 27, 37, 22, 21, 20, 30, 37, 22, 30, 25, 19, 15, 30, 22, 10, 7, 30, 15, 7, 19, 15, 8, 9, 30, 8, 0, 30, 27, 37, 35, 10, 22, 20, 30, 37, 22, 30, 25, 19, 15, 30, 22, 10, 7, 30, 15, 7, 19, 15, 8, 9, 30, 8, 0, 30, 11, 19, 31, 17, 9, 7, 15, 15, 20, 30, 37, 22, 30, 25, 19, 15, 30, 22, 10, 7, 30, 15, 33, 31, 37, 9, 35, 30, 8, 0, 30, 10, 8, 33, 7, 20, 30, 37, 22, 30, 25, 19, 15, 30, 22, 10, 7, 30, 25, 37, 9, 22, 7, 31, 30, 8, 0, 30, 11, 7, 15, 33, 19, 37, 31, 20, 30, 25, 7, 30, 10, 19, 11, 30, 7, 16, 7, 31, 21, 22, 10, 37, 9, 35, 30, 32, 7, 0, 8, 31, 7, 30, 14, 15, 20, 30, 25, 7, 30, 10, 19, 11, 30, 9, 8, 22, 10, 37, 9, 35, 30, 32, 7, 0, 8, 31, 7, 30, 14, 15, 20, 30, 25, 7, 30, 25, 7, 31, 7, 30, 19, 27, 27, 30, 35, 8, 37, 9, 35, 30, 11, 37, 31, 7, 28, 22, 30, 22, 8, 30, 10, 7, 19, 16, 7, 9, 20, 30, 25, 7, 30, 25, 7, 31, 7, 30, 19, 27, 27, 30, 35, 8, 37, 9, 35, 30, 11, 37, 31, 7, 28, 22, 30, 22, 10, 7, 30, 8, 22, 10, 7, 31, 30, 25, 19, 21, 23, 30, 37, 9, 30, 15, 10, 8, 31, 22, 20, 30, 22, 10, 7, 30, 33, 7, 31, 37, 8, 11, 30, 25, 19, 15, 30, 15, 8, 30, 0, 19, 31, 30, 27, 37, 17, 7, 30, 22, 10, 7, 30, 33, 31, 7, 15, 7, 9, 22, 30, 33, 7, 31, 37, 8, 11, 20, 30, 22, 10, 19, 22, 30, 15, 8, 3, 7, 30, 8, 0, 30, 37, 22, 15, 30, 9, 8, 37, 15, 37, 7, 15, 22, 30, 19, 14, 22, 10, 8, 31, 37, 22, 37, 7, 15, 30, 37, 9, 15, 37, 15, 22, 7, 11, 30, 8, 9, 30, 37, 22, 15, 30, 32, 7, 37, 9, 35, 30, 31, 7, 28, 7, 37, 16, 7, 11, 20, 30, 0, 8, 31, 30, 35, 8, 8, 11, 30, 8, 31, 30, 0, 8, 31, 30, 7, 16, 37, 27, 20, 30, 37, 9, 30, 22, 10, 7, 30, 15, 14, 33, 7, 31, 27, 19, 22, 37, 16, 7, 30, 11, 7, 35, 31, 7, 7, 30, 8, 0, 30, 28, 8, 3, 33, 19, 31, 37, 15, 8, 9, 30, 8, 9, 27, 21, 34, 30, 30, 30, 22, 10, 7, 31, 7, 30, 25, 7, 31, 7, 30, 19, 30, 17, 37, 9, 35, 30, 25, 37, 22, 10, 30, 19, 30, 27, 19, 31, 35, 7, 30, 18, 19, 25, 30, 19, 9, 11, 30, 19, 30, 24, 14, 7, 7, 9, 30, 25, 37, 22, 10, 30, 19, 30, 33, 27, 19, 37, 9, 30, 0, 19, 28, 7, 20, 30, 8, 9, 30, 22, 10, 7, 30, 22, 10, 31, 8, 9, 7, 30, 8, 0, 30, 7, 9, 35, 27, 19, 9, 11, 12, 30, 22, 10, 7, 31, 7, 30, 25, 7, 31, 7, 30, 19, 30, 17, 37, 9, 35, 30, 25, 37, 22, 10, 30, 19, 30, 27, 19, 31, 35, 7, 30, 18, 19, 25, 30, 19, 9, 11, 30, 19, 30, 24, 14, 7, 7, 9, 30, 25, 37, 22, 10, 30, 19, 30, 0, 19, 37, 31, 30, 0, 19, 28, 7, 20, 30, 8, 9, 30, 22, 10, 7, 30, 22, 10, 31, 8, 9, 7, 30, 8, 0, 30, 0, 31, 19, 9, 28, 7, 34, 30, 37, 9, 30, 32, 8, 22, 10, 30, 28, 8, 14, 9, 22, 31, 37, 7, 15, 30, 37, 22, 30, 25, 19, 15, 30, 28, 27, 7, 19, 31, 7, 31, 30, 22, 10, 19, 9, 30, 28, 31, 21, 15, 22, 19, 27, 30, 22, 8, 30, 22, 10, 7, 30, 27, 8, 31, 11, 15, 30, 8, 0, 30, 22, 10, 7, 30, 15, 22, 19, 22, 7, 30, 33, 31, 7, 15, 7, 31, 16, 7, 15, 30, 8, 0, 30, 27, 8, 19, 16, 7, 15, 30, 19, 9, 11, 30, 0, 37, 15, 10, 7, 15, 20, 30, 22, 10, 19, 22, 30, 22, 10, 37, 9, 35, 15, 30, 37, 9, 30, 35, 7, 9, 7, 31, 19, 27, 30, 25, 7, 31, 7, 30, 15, 7, 22, 22, 27, 7, 11, 30, 0, 8, 31, 30, 7, 16, 7, 31, 34, 30, 30, 30, 37, 22, 30, 25, 19, 15, 30, 22, 10, 7, 30, 21, 7, 19, 31, 30, 8, 0, 30, 8, 14, 31, 30, 27, 8, 31, 11, 30, 8, 9, 7, 30, 22, 10, 8, 14, 15, 19, 9, 11, 30, 15, 7, 16, 7, 9, 30, 10, 14]\n"
     ]
    }
   ],
   "source": [
    "idx_to_char = list(set(corpus_chars)) # remove duplicate, get the mapping of index to char\n",
    "char_to_idx = {char: i for i, char in enumerate(idx_to_char)} # get the mapping of char to index\n",
    "vocab_size = len(char_to_idx)\n",
    "print(vocab_size)\n",
    "\n",
    "corpus_indices = [char_to_idx[char] for char in corpus_chars]  # get list of indices for every char\n",
    "sample = corpus_indices[: 1000]\n",
    "\n",
    "print('chars:', ''.join([idx_to_char[idx] for idx in sample]))\n",
    "print('indices:', sample)"
   ]
  },
  {
   "cell_type": "code",
   "execution_count": 11,
   "metadata": {},
   "outputs": [],
   "source": [
    "def load_data_text():\n",
    "    with open('./tale-of-two-cities.txt') as f:\n",
    "        corpus_chars = f.read()\n",
    "        \n",
    "    corpus_chars = corpus_chars.replace('\\n', ' ').replace('\\r', ' ')\n",
    "    corpus_chars = corpus_chars[0:50000]\n",
    "    idx_to_char = list(set(corpus_chars))\n",
    "    char_to_idx = dict([(char, i) for i, char in enumerate(idx_to_char)])\n",
    "    vocab_size = len(char_to_idx)\n",
    "    corpus_indices = [char_to_idx[char] for char in corpus_chars]\n",
    "    \n",
    "    return corpus_indices, char_to_idx, idx_to_char, vocab_size"
   ]
  },
  {
   "cell_type": "markdown",
   "metadata": {},
   "source": [
    "## Random Sampling"
   ]
  },
  {
   "cell_type": "markdown",
   "metadata": {},
   "source": [
    "In random sampling, each example is a sequence arbitrarily captured on the original sequence. The positions of two adjacent random minibatches on the original sequence are not necessarily adjacent. The target is to predict the next character based on what we have seen so far, hence the labels are the original sequence, shifted by one character."
   ]
  },
  {
   "cell_type": "code",
   "execution_count": 12,
   "metadata": {},
   "outputs": [],
   "source": [
    "import torch\n",
    "import random"
   ]
  },
  {
   "cell_type": "code",
   "execution_count": null,
   "metadata": {},
   "outputs": [],
   "source": [
    "def data_iter_random(corpus_indices, batch_size, num_steps, device=None):\n",
    "    \"\"\"\n",
    "    batch_size: sample number of each batch\n",
    "    num_steps: time steps of each sample\n",
    "    \"\"\"\n",
    "    \n",
    "    num_examples = (len(corpus_indices) - 1) // num_steps # can only have first n-1 examples for a n length senquence\n",
    "    example_indices = [i * num_steps for i in range(num_examples)]  # get index of first char of each sample in corpus_indices\n",
    "    random.shuffle(example_indices)\n",
    "\n",
    "    def _data(i):\n",
    "        # return a sequence length of num_steps from i\n",
    "        return corpus_indices[i: i + num_steps]\n",
    "    \n",
    "    if device is None:\n",
    "        device = torch.device('cuda' if torch.cuda.is_available() else 'cpu')\n",
    "    \n",
    "    for i in range(0, num_examples, batch_size):\n",
    "        # random sample batch_size number of samples\n",
    "        batch_indices = example_indices[i: i + batch_size]  # first char of each sample in current batch\n",
    "        X = [_data(j) for j in batch_indices] # return the data sample\n",
    "        Y = [_data(j + 1) for j in batch_indices] # return the corresponding label(index)\n",
    "        yield torch.tensor(X, device=device), torch.tensor(Y, device=device)"
   ]
  },
  {
   "cell_type": "code",
   "execution_count": 14,
   "metadata": {},
   "outputs": [
    {
     "name": "stdout",
     "output_type": "stream",
     "text": [
      "X:  tensor([[ 0,  1,  2,  3,  4,  5],\n",
      "        [12, 13, 14, 15, 16, 17]]) \n",
      "Y: tensor([[ 1,  2,  3,  4,  5,  6],\n",
      "        [13, 14, 15, 16, 17, 18]]) \n",
      "\n",
      "X:  tensor([[18, 19, 20, 21, 22, 23],\n",
      "        [ 6,  7,  8,  9, 10, 11]]) \n",
      "Y: tensor([[19, 20, 21, 22, 23, 24],\n",
      "        [ 7,  8,  9, 10, 11, 12]]) \n",
      "\n"
     ]
    }
   ],
   "source": [
    "# testing\n",
    "my_seq = list(range(30))\n",
    "\n",
    "for X, Y in data_iter_random(my_seq, batch_size=2, num_steps=6):\n",
    "    print('X: ', X, '\\nY:', Y, '\\n')"
   ]
  },
  {
   "cell_type": "markdown",
   "metadata": {},
   "source": [
    "## Sequential Partitioning"
   ]
  },
  {
   "cell_type": "markdown",
   "metadata": {},
   "source": [
    "In addition to random sampling of the original sequence, we can also make the positions of two adjacent random minibatches adjacent in the original sequence."
   ]
  },
  {
   "cell_type": "code",
   "execution_count": 17,
   "metadata": {},
   "outputs": [],
   "source": [
    "def data_iter_consecutive(corpus_indices, batch_size, num_steps, device=None):\n",
    "    \n",
    "    # does not shuffle to preserve the postion of each sample in the original sequence\n",
    "    \n",
    "    if device is None:\n",
    "        device = torch.device('cuda' if torch.cuda.is_available() else 'cpu')\n",
    "        \n",
    "    corpus_len = len(corpus_indices) // batch_size * batch_size  # the length of sequence to be kept\n",
    "    corpus_indices = corpus_indices[: corpus_len]  # only keep first corpus_len number of char\n",
    "    indices = torch.tensor(corpus_indices, device=device)\n",
    "    indices = indices.view(batch_size, -1)  # resize to 2-dim tensor (batch_size, )\n",
    "    batch_num = (indices.shape[1] - 1) // num_steps # sample can only have first n-1 samples\n",
    "    \n",
    "    for i in range(batch_num):\n",
    "        i = i * num_steps\n",
    "        X = indices[:, i: i + num_steps]\n",
    "        Y = indices[:, i + 1: i + num_steps + 1]\n",
    "        yield X, Y"
   ]
  },
  {
   "cell_type": "code",
   "execution_count": 18,
   "metadata": {},
   "outputs": [
    {
     "name": "stdout",
     "output_type": "stream",
     "text": [
      "X:  tensor([[ 0,  1,  2,  3,  4,  5],\n",
      "        [15, 16, 17, 18, 19, 20]]) \n",
      "Y: tensor([[ 1,  2,  3,  4,  5,  6],\n",
      "        [16, 17, 18, 19, 20, 21]]) \n",
      "\n",
      "X:  tensor([[ 6,  7,  8,  9, 10, 11],\n",
      "        [21, 22, 23, 24, 25, 26]]) \n",
      "Y: tensor([[ 7,  8,  9, 10, 11, 12],\n",
      "        [22, 23, 24, 25, 26, 27]]) \n",
      "\n"
     ]
    }
   ],
   "source": [
    "# testing\n",
    "for X, Y in data_iter_consecutive(my_seq, batch_size=2, num_steps=6):\n",
    "    print('X: ', X, '\\nY:', Y, '\\n')"
   ]
  },
  {
   "cell_type": "markdown",
   "metadata": {},
   "source": [
    "Context-free models such as word2vec or GloVe generate a single word embedding representation for each word in the vocabulary. "
   ]
  },
  {
   "cell_type": "markdown",
   "metadata": {},
   "source": [
    "One of the major advantages of ELMo is that \n",
    "it addresses the problem of polysemy, \n",
    "in which a single word has multiple meanings. \n",
    "ELMo is context-based (not word-based), so different meanings for a word occupy different vectors within the embedding space."
   ]
  }
 ],
 "metadata": {
  "kernelspec": {
   "display_name": "Python 3",
   "language": "python",
   "name": "python3"
  },
  "language_info": {
   "codemirror_mode": {
    "name": "ipython",
    "version": 3
   },
   "file_extension": ".py",
   "mimetype": "text/x-python",
   "name": "python",
   "nbconvert_exporter": "python",
   "pygments_lexer": "ipython3",
   "version": "3.7.3"
  }
 },
 "nbformat": 4,
 "nbformat_minor": 2
}
