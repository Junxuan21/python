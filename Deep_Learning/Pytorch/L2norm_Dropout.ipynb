{
 "cells": [
  {
   "cell_type": "code",
   "execution_count": 5,
   "metadata": {},
   "outputs": [],
   "source": [
    "## example of polynomial model "
   ]
  },
  {
   "cell_type": "code",
   "execution_count": 7,
   "metadata": {},
   "outputs": [
    {
     "name": "stdout",
     "output_type": "stream",
     "text": [
      "1.4.0\n"
     ]
    }
   ],
   "source": [
    "%matplotlib inline\n",
    "import torch\n",
    "import numpy as np\n",
    "import sys\n",
    "import matplotlib.pyplot as plt\n",
    "\n",
    "print(torch.__version__)"
   ]
  },
  {
   "cell_type": "code",
   "execution_count": 3,
   "metadata": {},
   "outputs": [],
   "source": [
    "# initialize params\n",
    "n_train, n_test, true_w, true_b = 100, 100, [1.2, -3.4, 5.6], 5\n",
    "features = torch.randn((n_train + n_test, 1))\n",
    "poly_features = torch.cat((features, torch.pow(features, 2), torch.pow(features, 3)), 1) \n",
    "\n",
    "labels = (true_w[0] * poly_features[:, 0] + true_w[1] * poly_features[:, 1]\n",
    "          + true_w[2] * poly_features[:, 2] + true_b)\n",
    "labels += torch.tensor(np.random.normal(0, 0.01, size=labels.size()), dtype=torch.float)"
   ]
  },
  {
   "cell_type": "code",
   "execution_count": 4,
   "metadata": {},
   "outputs": [
    {
     "data": {
      "text/plain": [
       "(tensor([[-0.5543],\n",
       "         [-0.2845]]), tensor([[-0.5543,  0.3073, -0.1703],\n",
       "         [-0.2845,  0.0810, -0.0230]]), tensor([2.3457, 4.2549]))"
      ]
     },
     "execution_count": 4,
     "metadata": {},
     "output_type": "execute_result"
    }
   ],
   "source": [
    "features[:2], poly_features[:2], labels[:2]"
   ]
  },
  {
   "cell_type": "code",
   "execution_count": 26,
   "metadata": {},
   "outputs": [],
   "source": [
    "# define model\n",
    "def semilogy(x_vals, y_vals, x_label, y_label, x2_vals=None, y2_vals=None,\n",
    "             legend=None, figsize=(3.5, 2.5)):\n",
    "    \n",
    "    plt.figure(figsize = (10,8))\n",
    "    plt.xlabel(x_label)\n",
    "    plt.ylabel(y_label)\n",
    "    plt.semilogy(x_vals, y_vals)\n",
    "    \n",
    "    if x2_vals and y2_vals:\n",
    "        plt.semilogy(x2_vals, y2_vals, linestyle=':')\n",
    "        plt.legend(legend)\n",
    "        \n",
    "    plt.show()"
   ]
  },
  {
   "cell_type": "code",
   "execution_count": 27,
   "metadata": {},
   "outputs": [],
   "source": [
    "num_epochs, loss = 100, torch.nn.MSELoss()\n",
    "\n",
    "def fit_and_plot(train_features, test_features, train_labels, test_labels):\n",
    "    # initialize model\n",
    "    net = torch.nn.Linear(train_features.shape[-1], 1) \n",
    "    \n",
    "    batch_size = min(10, train_labels.shape[0])    \n",
    "    dataset = torch.utils.data.TensorDataset(train_features, train_labels)  \n",
    "    train_iter = torch.utils.data.DataLoader(dataset, batch_size, shuffle=True) \n",
    "    optimizer = torch.optim.SGD(net.parameters(), lr=0.01) \n",
    "    train_ls, test_ls = [], [] # loss function\n",
    "    \n",
    "    for _ in range(num_epochs):\n",
    "        for X, y in train_iter:                                                 \n",
    "            l = loss(net(X), y.view(-1, 1))  # calculate loss \n",
    "            optimizer.zero_grad()    # reset gradient to zero\n",
    "            l.backward()    # calculate gradient\n",
    "            optimizer.step()   # update params \n",
    "            \n",
    "        train_labels = train_labels.view(-1, 1)\n",
    "        test_labels = test_labels.view(-1, 1)\n",
    "        train_ls.append(loss(net(train_features), train_labels).item()) \n",
    "        test_ls.append(loss(net(test_features), test_labels).item())\n",
    "    \n",
    "    print('final epoch: train loss', train_ls[-1], 'test loss', test_ls[-1])    \n",
    "    \n",
    "    semilogy(range(1, num_epochs + 1), train_ls, 'epochs', 'loss',\n",
    "             range(1, num_epochs + 1), test_ls, ['train', 'test'])\n",
    "    \n",
    "    print('weight:', net.weight.data,\n",
    "          '\\nbias:', net.bias.data)"
   ]
  },
  {
   "cell_type": "code",
   "execution_count": 28,
   "metadata": {},
   "outputs": [
    {
     "name": "stdout",
     "output_type": "stream",
     "text": [
      "final epoch: train loss 0.0002704040380194783 test loss 0.0003584642254281789\n"
     ]
    },
    {
     "data": {
      "image/png": "[encoded data removed]",
      "text/plain": [
       "<Figure size 720x576 with 1 Axes>"
      ]
     },
     "metadata": {
      "needs_background": "light"
     },
     "output_type": "display_data"
    },
    {
     "name": "stdout",
     "output_type": "stream",
     "text": [
      "weight: tensor([[ 1.2265, -3.3948,  5.5913]]) \n",
      "bias: tensor([4.9999])\n"
     ]
    }
   ],
   "source": [
    "# plot for normal model\n",
    "\n",
    "fit_and_plot(poly_features[:n_train, :], poly_features[n_train:, :], labels[:n_train], labels[n_train:])"
   ]
  },
  {
   "cell_type": "code",
   "execution_count": 29,
   "metadata": {},
   "outputs": [
    {
     "data": {
      "text/plain": [
       "(tensor([[-0.5543],\n",
       "         [-0.2845],\n",
       "         [ 0.7551],\n",
       "         [-1.1977],\n",
       "         [-0.5766],\n",
       "         [-0.6898],\n",
       "         [-0.7830],\n",
       "         [-0.6414],\n",
       "         [-0.1949],\n",
       "         [ 2.1363],\n",
       "         [ 0.0137],\n",
       "         [ 0.4018],\n",
       "         [ 0.6231],\n",
       "         [-0.4387],\n",
       "         [ 1.1522],\n",
       "         [ 0.2042],\n",
       "         [-0.9549],\n",
       "         [ 0.2666],\n",
       "         [-0.5827],\n",
       "         [-0.2596],\n",
       "         [ 1.9177],\n",
       "         [-0.6824],\n",
       "         [ 1.1398],\n",
       "         [-0.9993],\n",
       "         [ 1.5546],\n",
       "         [-0.8952],\n",
       "         [ 0.1056],\n",
       "         [ 0.5086],\n",
       "         [ 1.8047],\n",
       "         [ 0.4416],\n",
       "         [ 0.1546],\n",
       "         [ 0.7117],\n",
       "         [-0.5303],\n",
       "         [-0.3968],\n",
       "         [ 0.7892],\n",
       "         [-0.5360],\n",
       "         [-0.6966],\n",
       "         [-1.7831],\n",
       "         [-0.4491],\n",
       "         [ 1.1055],\n",
       "         [-1.5025],\n",
       "         [-0.9864],\n",
       "         [ 0.9941],\n",
       "         [-0.5143],\n",
       "         [-0.3051],\n",
       "         [ 0.9382],\n",
       "         [ 0.3095],\n",
       "         [ 0.8685],\n",
       "         [-1.4016],\n",
       "         [-0.7917],\n",
       "         [-1.4224],\n",
       "         [ 1.0507],\n",
       "         [-1.2877],\n",
       "         [ 0.4966],\n",
       "         [ 0.3196],\n",
       "         [ 0.2287],\n",
       "         [-0.3278],\n",
       "         [-1.6058],\n",
       "         [-0.4532],\n",
       "         [ 0.7615],\n",
       "         [-0.9365],\n",
       "         [-0.1443],\n",
       "         [ 0.8043],\n",
       "         [ 0.6479],\n",
       "         [ 0.1822],\n",
       "         [-0.5695],\n",
       "         [ 2.2751],\n",
       "         [-1.1817],\n",
       "         [ 0.8381],\n",
       "         [-1.0084],\n",
       "         [ 1.9624],\n",
       "         [ 0.3121],\n",
       "         [-1.6116],\n",
       "         [ 0.8001],\n",
       "         [ 0.0383],\n",
       "         [ 0.1071],\n",
       "         [-1.9354],\n",
       "         [-0.4252],\n",
       "         [ 0.4533],\n",
       "         [ 2.1637],\n",
       "         [-0.3359],\n",
       "         [ 0.7648],\n",
       "         [-0.8034],\n",
       "         [-0.2380],\n",
       "         [ 0.8407],\n",
       "         [ 0.2003],\n",
       "         [-0.9278],\n",
       "         [-1.2080],\n",
       "         [ 0.5823],\n",
       "         [-1.5184],\n",
       "         [-0.2206],\n",
       "         [-0.2457],\n",
       "         [-0.3258],\n",
       "         [ 0.5529],\n",
       "         [-1.0175],\n",
       "         [-0.2756],\n",
       "         [-0.0962],\n",
       "         [-0.4800],\n",
       "         [ 0.0636],\n",
       "         [-0.7391]]), tensor([[-0.2886],\n",
       "         [ 1.4045],\n",
       "         [ 0.5635],\n",
       "         [-0.1076],\n",
       "         [ 0.2305],\n",
       "         [ 0.3886],\n",
       "         [ 0.9019],\n",
       "         [ 1.7321],\n",
       "         [-1.2238],\n",
       "         [-2.1539],\n",
       "         [-1.2376],\n",
       "         [ 0.1102],\n",
       "         [-1.0633],\n",
       "         [-0.3014],\n",
       "         [-0.5011],\n",
       "         [ 1.0740],\n",
       "         [ 0.6900],\n",
       "         [-0.9222],\n",
       "         [ 2.1522],\n",
       "         [ 1.3483],\n",
       "         [-0.1767],\n",
       "         [-0.1680],\n",
       "         [ 1.0453],\n",
       "         [ 1.2912],\n",
       "         [ 0.2801],\n",
       "         [ 0.3754],\n",
       "         [-1.7567],\n",
       "         [-0.6869],\n",
       "         [ 1.7462],\n",
       "         [ 0.8131],\n",
       "         [ 0.2872],\n",
       "         [ 1.2245],\n",
       "         [-0.3012],\n",
       "         [-0.0572],\n",
       "         [ 0.8267],\n",
       "         [-1.2036],\n",
       "         [ 0.6138],\n",
       "         [ 1.6216],\n",
       "         [-0.3280],\n",
       "         [-1.0048],\n",
       "         [ 0.3325],\n",
       "         [-0.8690],\n",
       "         [-0.6272],\n",
       "         [-2.1971],\n",
       "         [-0.1754],\n",
       "         [-1.1437],\n",
       "         [ 0.4628],\n",
       "         [-1.0206],\n",
       "         [-1.2442],\n",
       "         [-1.4490],\n",
       "         [-0.4870],\n",
       "         [-1.1006],\n",
       "         [-0.4606],\n",
       "         [ 1.5084],\n",
       "         [-0.8835],\n",
       "         [ 0.5944],\n",
       "         [ 0.8894],\n",
       "         [ 0.0716],\n",
       "         [ 0.3441],\n",
       "         [ 0.7946],\n",
       "         [-2.1687],\n",
       "         [ 0.5272],\n",
       "         [ 0.6626],\n",
       "         [ 0.5501],\n",
       "         [ 0.3489],\n",
       "         [ 0.1497],\n",
       "         [ 0.1458],\n",
       "         [-0.6788],\n",
       "         [ 0.9565],\n",
       "         [-0.8746],\n",
       "         [ 0.3721],\n",
       "         [-0.2051],\n",
       "         [ 1.2876],\n",
       "         [-0.8450],\n",
       "         [-1.6359],\n",
       "         [ 0.7982],\n",
       "         [-1.1885],\n",
       "         [-1.1599],\n",
       "         [-1.4343],\n",
       "         [ 0.3380],\n",
       "         [-0.6441],\n",
       "         [ 1.7163],\n",
       "         [-0.7788],\n",
       "         [ 1.4116],\n",
       "         [-2.1034],\n",
       "         [ 0.7618],\n",
       "         [ 0.2506],\n",
       "         [ 0.2129],\n",
       "         [ 0.4852],\n",
       "         [ 0.0199],\n",
       "         [ 1.7439],\n",
       "         [-1.2803],\n",
       "         [ 2.0084],\n",
       "         [ 0.9594],\n",
       "         [ 0.4257],\n",
       "         [ 1.2656],\n",
       "         [-0.6616],\n",
       "         [-0.4527],\n",
       "         [ 0.8647],\n",
       "         [-1.6435]]), tensor([ 2.3457e+00,  4.2549e+00,  6.3844e+00, -1.0933e+01,  2.1113e+00,\n",
       "          7.2158e-01, -7.0416e-01,  1.3423e+00,  4.5815e+00,  4.6643e+01,\n",
       "          5.0124e+00,  5.3115e+00,  5.7777e+00,  3.3492e+00,  1.0433e+01,\n",
       "          5.1418e+00, -4.1160e+00,  5.1708e+00,  2.0338e+00,  4.3823e+00,\n",
       "          3.4281e+01,  8.1604e-01,  1.0244e+01, -5.1566e+00,  1.9696e+01,\n",
       "         -2.8173e+00,  5.1038e+00,  5.4612e+00,  2.9000e+01,  5.3626e+00,\n",
       "          5.1243e+00,  6.1476e+00,  2.5877e+00,  3.6425e+00,  6.6062e+00,\n",
       "          2.5340e+00,  6.2063e-01, -3.9710e+01,  3.2537e+00,  9.7444e+00,\n",
       "         -2.3481e+01, -4.8782e+00,  8.3407e+00,  2.7187e+00,  4.1553e+00,\n",
       "          7.7540e+00,  5.2234e+00,  7.1311e+00, -1.8768e+01, -8.6252e-01,\n",
       "         -1.9709e+01,  9.0241e+00, -1.4138e+01,  5.4453e+00,  5.2315e+00,\n",
       "          5.1599e+00,  4.0376e+00, -2.8871e+01,  3.2317e+00,  6.4255e+00,\n",
       "         -3.6908e+00,  4.7430e+00,  6.6694e+00,  5.8878e+00,  5.1623e+00,\n",
       "          2.1818e+00,  5.6093e+01, -1.0383e+01,  6.9050e+00, -5.4092e+00,\n",
       "          3.6595e+01,  5.2313e+00, -2.9214e+01,  6.6613e+00,  5.0344e+00,\n",
       "          5.0974e+00, -5.0651e+01,  3.4425e+00,  5.3611e+00,  4.8402e+01,\n",
       "          4.0003e+00,  6.4282e+00, -1.0604e+00,  4.4512e+00,  6.9435e+00,\n",
       "          5.1530e+00, -3.4961e+00, -1.1286e+01,  5.6458e+00, -2.4280e+01,\n",
       "          4.5104e+00,  4.4195e+00,  4.0563e+00,  5.5644e+00, -5.6408e+00,\n",
       "          4.3034e+00,  4.8457e+00,  3.0284e+00,  5.0537e+00, -6.9548e-03]), tensor([  4.2355,  15.4905,   5.6035,   4.8352,   5.1683,   5.2730,   7.4166,\n",
       "          25.9854, -11.8219, -69.3115, -12.2939,   5.1099,  -6.8619,   4.1582,\n",
       "           2.8495,   9.2981,   6.0502,  -3.4000,  47.6603,  14.1531,   4.6547,\n",
       "           4.6567,   8.9379,  12.9493,   5.1766,   5.2771, -37.9449,   0.7621,\n",
       "          26.5570,   6.7304,   5.1883,  11.6507,   4.1578,   4.9248,   6.8360,\n",
       "         -11.1371,   5.7423,  21.8775,   4.0481,  -5.3244,   5.2147,  -2.2963,\n",
       "           1.5146, -73.4333,   4.6631,  -9.2018,   5.3777,  -5.7332, -12.5479,\n",
       "         -20.9129,   2.9425,  -7.8951,   3.1722,  18.2851,  -2.5755,   5.6733,\n",
       "           7.3293,   5.0766,   5.2294,   6.6152, -70.7048,   5.5272,   5.9418,\n",
       "           5.5534,   5.2361,   5.1377,   5.1088,   0.8628,   7.9485,  -2.3925,\n",
       "           5.2851,   4.5586,  12.8563,  -1.8155, -30.5581,   6.6388, -10.6237,\n",
       "          -9.7008, -20.2469,   5.2148,   1.3315,  25.3440,  -0.6504,  15.6798,\n",
       "         -64.6721,   6.4272,   5.1882,   5.1600,   5.4077,   5.0172,  26.4633,\n",
       "         -13.8473,  39.0746,   7.9441,   5.3415,  12.4260,   1.0821,   3.2445,\n",
       "           7.1230, -31.0012]))"
      ]
     },
     "execution_count": 29,
     "metadata": {},
     "output_type": "execute_result"
    }
   ],
   "source": [
    "# example of underfitting\n",
    "\n",
    "(features[:n_train, :], features[n_train:, :], labels[:n_train], labels[n_train:])"
   ]
  },
  {
   "cell_type": "code",
   "execution_count": 30,
   "metadata": {},
   "outputs": [
    {
     "name": "stdout",
     "output_type": "stream",
     "text": [
      "final epoch: train loss 1.533076524734497 test loss 459.5708312988281\n"
     ]
    },
    {
     "data": {
      "image/png": "[encoded data removed]",
      "text/plain": [
       "<Figure size 720x576 with 1 Axes>"
      ]
     },
     "metadata": {
      "needs_background": "light"
     },
     "output_type": "display_data"
    },
    {
     "name": "stdout",
     "output_type": "stream",
     "text": [
      "weight: tensor([[-1.0332,  0.6096, -0.4805]]) \n",
      "bias: tensor([2.3906])\n"
     ]
    }
   ],
   "source": [
    "fit_and_plot(poly_features[0:2, :], poly_features[n_train:, :], labels[0:2], labels[n_train:])"
   ]
  },
  {
   "cell_type": "code",
   "execution_count": 32,
   "metadata": {},
   "outputs": [],
   "source": [
    "## regularization example"
   ]
  },
  {
   "cell_type": "code",
   "execution_count": 33,
   "metadata": {},
   "outputs": [],
   "source": [
    "n_train, n_test, num_inputs = 20, 100, 200\n",
    "true_w, true_b = torch.ones(num_inputs, 1) * 0.01, 0.05\n",
    "\n",
    "features = torch.randn((n_train + n_test, num_inputs))\n",
    "labels = torch.matmul(features, true_w) + true_b\n",
    "labels += torch.tensor(np.random.normal(0, 0.01, size=labels.size()), dtype=torch.float)\n",
    "\n",
    "train_features, test_features = features[:n_train, :], features[n_train:, :]\n",
    "train_labels, test_labels = labels[:n_train], labels[n_train:]"
   ]
  },
  {
   "cell_type": "code",
   "execution_count": 34,
   "metadata": {},
   "outputs": [],
   "source": [
    "def init_params():\n",
    "    w = torch.randn((num_inputs, 1), requires_grad=True) # initialize params and with gradient\n",
    "    b = torch.zeros(1, requires_grad=True)\n",
    "    return [w, b]"
   ]
  },
  {
   "cell_type": "code",
   "execution_count": 35,
   "metadata": {},
   "outputs": [],
   "source": [
    "# define L2 regularization\n",
    "def l2_penalty(w):\n",
    "    return (w**2).sum() / 2"
   ]
  },
  {
   "cell_type": "code",
   "execution_count": null,
   "metadata": {},
   "outputs": [],
   "source": [
    "# build model with L2 regularization\n",
    "\n",
    "batch_size, num_epochs, lr = 1, 100, 0.003\n",
    "net, loss = linreg, squared_loss\n",
    "\n",
    "dataset = torch.utils.data.TensorDataset(train_features, train_labels)\n",
    "train_iter = torch.utils.data.DataLoader(dataset, batch_size, shuffle=True)\n",
    "\n",
    "def fit_and_plot(lambd):\n",
    "    w, b = init_params()\n",
    "    train_ls, test_ls = [], []\n",
    "    \n",
    "    for _ in range(num_epochs):\n",
    "        for X, y in train_iter:\n",
    "            l = loss(net(X, w, b), y) + lambd * l2_penalty(w) # with L2 regularization\n",
    "            l = l.sum()\n",
    "            \n",
    "            if w.grad is not None: # reset gradient to zero\n",
    "                w.grad.data.zero_()\n",
    "                b.grad.data.zero_()\n",
    "                \n",
    "            l.backward()\n",
    "            d2l.sgd([w, b], lr, batch_size)\n",
    "            \n",
    "        train_ls.append(loss(net(train_features, w, b), train_labels).mean().item())\n",
    "        test_ls.append(loss(net(test_features, w, b), test_labels).mean().item())\n",
    "        \n",
    "    semilogy(range(1, num_epochs + 1), train_ls, 'epochs', 'loss',\n",
    "                 range(1, num_epochs + 1), test_ls, ['train', 'test'])\n",
    "    print('L2 norm of w:', w.norm().item())"
   ]
  },
  {
   "cell_type": "code",
   "execution_count": 37,
   "metadata": {},
   "outputs": [],
   "source": [
    "## other way built-in weight_decay to perform regularization\n",
    "\n",
    "def fit_and_plot_pytorch(wd):\n",
    "    \n",
    "    net = nn.Linear(num_inputs, 1)\n",
    "    nn.init.normal_(net.weight, mean=0, std=1)\n",
    "    nn.init.normal_(net.bias, mean=0, std=1)\n",
    "    optimizer_w = torch.optim.SGD(params=[net.weight], lr=lr, weight_decay=wd) # perform weight decay for weights\n",
    "    optimizer_b = torch.optim.SGD(params=[net.bias], lr=lr)  # does not perform weight decay for bias\n",
    "    \n",
    "    train_ls, test_ls = [], []\n",
    "    \n",
    "    for _ in range(num_epochs):\n",
    "        for X, y in train_iter:\n",
    "            l = loss(net(X), y).mean()\n",
    "            optimizer_w.zero_grad()\n",
    "            optimizer_b.zero_grad()\n",
    "            \n",
    "            l.backward()\n",
    "            \n",
    "            # uodate weights and bias separately\n",
    "            optimizer_w.step()\n",
    "            optimizer_b.step()\n",
    "            \n",
    "        train_ls.append(loss(net(train_features), train_labels).mean().item())\n",
    "        test_ls.append(loss(net(test_features), test_labels).mean().item())\n",
    "        \n",
    "    semilogy(range(1, num_epochs + 1), train_ls, 'epochs', 'loss',\n",
    "                 range(1, num_epochs + 1), test_ls, ['train', 'test'])\n",
    "    print('L2 norm of w:', net.weight.data.norm().item())"
   ]
  },
  {
   "cell_type": "code",
   "execution_count": 38,
   "metadata": {},
   "outputs": [],
   "source": [
    "## Another regularization method for NN: Dropout"
   ]
  },
  {
   "cell_type": "code",
   "execution_count": 39,
   "metadata": {},
   "outputs": [],
   "source": [
    "# handcode dropout example\n",
    "\n",
    "def dropout(X, drop_prob):\n",
    "    X = X.float()\n",
    "    assert 0 <= drop_prob <= 1\n",
    "    keep_prob = 1 - drop_prob\n",
    "    \n",
    "    if keep_prob == 0: # drop all values\n",
    "        return torch.zeros_like(X)\n",
    "    mask = (torch.rand(X.shape) < keep_prob).float()\n",
    "    \n",
    "    return mask * X / keep_prob"
   ]
  },
  {
   "cell_type": "code",
   "execution_count": 40,
   "metadata": {},
   "outputs": [
    {
     "data": {
      "text/plain": [
       "tensor([[ 0.,  1.,  2.,  3.,  4.,  5.,  6.,  7.],\n",
       "        [ 8.,  9., 10., 11., 12., 13., 14., 15.]])"
      ]
     },
     "execution_count": 40,
     "metadata": {},
     "output_type": "execute_result"
    }
   ],
   "source": [
    "# testing our function\n",
    "X = torch.arange(16).view(2, 8)\n",
    "dropout(X, 0)"
   ]
  },
  {
   "cell_type": "code",
   "execution_count": 41,
   "metadata": {},
   "outputs": [
    {
     "data": {
      "text/plain": [
       "tensor([[ 0.,  0.,  0.,  6.,  8., 10., 12., 14.],\n",
       "        [ 0., 18.,  0., 22.,  0.,  0.,  0.,  0.]])"
      ]
     },
     "execution_count": 41,
     "metadata": {},
     "output_type": "execute_result"
    }
   ],
   "source": [
    "dropout(X, 0.5)"
   ]
  },
  {
   "cell_type": "code",
   "execution_count": 42,
   "metadata": {},
   "outputs": [
    {
     "data": {
      "text/plain": [
       "tensor([[0., 0., 0., 0., 0., 0., 0., 0.],\n",
       "        [0., 0., 0., 0., 0., 0., 0., 0.]])"
      ]
     },
     "execution_count": 42,
     "metadata": {},
     "output_type": "execute_result"
    }
   ],
   "source": [
    "dropout(X, 1.0)"
   ]
  },
  {
   "cell_type": "code",
   "execution_count": 43,
   "metadata": {},
   "outputs": [],
   "source": [
    "num_inputs, num_outputs, num_hiddens1, num_hiddens2 = 784, 10, 256, 256\n",
    "\n",
    "W1 = torch.tensor(np.random.normal(0, 0.01, size=(num_inputs, num_hiddens1)), dtype=torch.float, requires_grad=True)\n",
    "b1 = torch.zeros(num_hiddens1, requires_grad=True)\n",
    "W2 = torch.tensor(np.random.normal(0, 0.01, size=(num_hiddens1, num_hiddens2)), dtype=torch.float, requires_grad=True)\n",
    "b2 = torch.zeros(num_hiddens2, requires_grad=True)\n",
    "W3 = torch.tensor(np.random.normal(0, 0.01, size=(num_hiddens2, num_outputs)), dtype=torch.float, requires_grad=True)\n",
    "b3 = torch.zeros(num_outputs, requires_grad=True)\n",
    "\n",
    "params = [W1, b1, W2, b2, W3, b3]"
   ]
  },
  {
   "cell_type": "code",
   "execution_count": 44,
   "metadata": {},
   "outputs": [],
   "source": [
    "drop_prob1, drop_prob2 = 0.2, 0.5 # initiate values\n",
    "\n",
    "def net(X, is_training=True):\n",
    "    X = X.view(-1, num_inputs)\n",
    "    H1 = (torch.matmul(X, W1) + b1).relu()\n",
    "    if is_training:  # only perform dropout at training\n",
    "        H1 = dropout(H1, drop_prob1)  # dropout after 1st full connection layer\n",
    "    H2 = (torch.matmul(H1, W2) + b2).relu()\n",
    "    if is_training:\n",
    "        H2 = dropout(H2, drop_prob2)  # dropout again after 2nd full connection layer\n",
    "    \n",
    "    return torch.matmul(H2, W3) + b3"
   ]
  },
  {
   "cell_type": "code",
   "execution_count": 45,
   "metadata": {},
   "outputs": [],
   "source": [
    "def evaluate_accuracy(data_iter, net):\n",
    "    \n",
    "    acc_sum, n = 0.0, 0\n",
    "    \n",
    "    for X, y in data_iter:\n",
    "        if isinstance(net, torch.nn.Module):\n",
    "            net.eval() # in evaluation mode, no dropout\n",
    "            acc_sum += (net(X).argmax(dim=1) == y).float().sum().item()\n",
    "            net.train() # back to train mode\n",
    "        else: \n",
    "            if('is_training' in net.__code__.co_varnames): # set 'is_training' to false\n",
    "                acc_sum += (net(X, is_training=False).argmax(dim=1) == y).float().sum().item() \n",
    "            else:\n",
    "                acc_sum += (net(X).argmax(dim=1) == y).float().sum().item() \n",
    "        \n",
    "        n += y.shape[0]\n",
    "    \n",
    "    return acc_sum / n"
   ]
  },
  {
   "cell_type": "code",
   "execution_count": null,
   "metadata": {},
   "outputs": [],
   "source": [
    "# try on the FashionMNIST dataset\n",
    "num_epochs, lr, batch_size = 5, 100.0, 256  \n",
    "loss = torch.nn.CrossEntropyLoss()\n",
    "train_iter, test_iter = d2l.load_data_fashion_mnist(batch_size, root='./data')\n",
    "train_ch3(\n",
    "    net,\n",
    "    train_iter,\n",
    "    test_iter,\n",
    "    loss,\n",
    "    num_epochs,\n",
    "    batch_size,\n",
    "    params,\n",
    "    lr)"
   ]
  },
  {
   "cell_type": "code",
   "execution_count": null,
   "metadata": {},
   "outputs": [],
   "source": [
    "# built-in dropout torch nn example\n",
    "\n",
    "net = nn.Sequential(\n",
    "        d2l.FlattenLayer(),\n",
    "        nn.Linear(num_inputs, num_hiddens1),\n",
    "        nn.ReLU(),\n",
    "        nn.Dropout(drop_prob1),\n",
    "        nn.Linear(num_hiddens1, num_hiddens2), \n",
    "        nn.ReLU(),\n",
    "        nn.Dropout(drop_prob2), # built-in feature \n",
    "        nn.Linear(num_hiddens2, 10)\n",
    "        )\n",
    "\n",
    "for param in net.parameters():\n",
    "    nn.init.normal_(param, mean=0, std=0.01)"
   ]
  },
  {
   "cell_type": "code",
   "execution_count": null,
   "metadata": {},
   "outputs": [],
   "source": [
    "optimizer = torch.optim.SGD(net.parameters(), lr=0.5)\n",
    "\n",
    "train_ch3(net, train_iter, test_iter, loss, num_epochs, batch_size, None, None, optimizer)"
   ]
  }
 ],
 "metadata": {
  "kernelspec": {
   "display_name": "Python 3",
   "language": "python",
   "name": "python3"
  },
  "language_info": {
   "codemirror_mode": {
    "name": "ipython",
    "version": 3
   },
   "file_extension": ".py",
   "mimetype": "text/x-python",
   "name": "python",
   "nbconvert_exporter": "python",
   "pygments_lexer": "ipython3",
   "version": "3.7.3"
  }
 },
 "nbformat": 4,
 "nbformat_minor": 2
}
