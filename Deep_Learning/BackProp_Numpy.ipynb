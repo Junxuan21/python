{
 "cells": [
  {
   "cell_type": "markdown",
   "metadata": {
    "_cell_guid": "b1076dfc-b9ad-4769-8c92-a6c4dae69d19",
    "_uuid": "8f2839f25d086af736a60e9eeb907d3b93b6e0e5"
   },
   "source": [
    "## Back Propogation for Activation Function and Multi-Layer Perceptron"
   ]
  },
  {
   "cell_type": "markdown",
   "metadata": {},
   "source": [
    "This post illustrates the basic implementation of realizing Back Prop using Numpy for study purpose."
   ]
  },
  {
   "cell_type": "code",
   "execution_count": 1,
   "metadata": {
    "_cell_guid": "79c7e3d0-c299-4dcb-8224-4455121ee9b0",
    "_uuid": "d629ff2d2480ee46fbb7e2d37f6b5fab8052498a"
   },
   "outputs": [],
   "source": [
    "import numpy as np\n",
    "from matplotlib import pyplot as plt"
   ]
  },
  {
   "attachments": {
    "layer.png": {
     "image/png": "[encoded data removed]"
    }
   },
   "cell_type": "markdown",
   "metadata": {},
   "source": [
    "A layer in neural network\n",
    "![layer.png](attachment:layer.png)"
   ]
  },
  {
   "cell_type": "code",
   "execution_count": 2,
   "metadata": {},
   "outputs": [],
   "source": [
    "# base class for neural network layers\n",
    "class Layer():\n",
    "    def __init__(self):\n",
    "        pass\n",
    "    \n",
    "    # forward pass\n",
    "    # compute output value y given input x\n",
    "    def forward(self, x):\n",
    "        raise NotImplementedError\n",
    "    \n",
    "    # backward pass\n",
    "    # compute gradient for weight variables dE/dW\n",
    "    # and compute gradient for input dE/dx\n",
    "    # given 'node_grad' which is the gradient passed from previous layers dE/dy\n",
    "    def backward(self, node_grad):\n",
    "        raise NotImplementedError\n",
    "    \n",
    "    # update weight variables based on gradients\n",
    "    def update(self, learning_rate):\n",
    "        raise NotImplementedError"
   ]
  },
  {
   "cell_type": "markdown",
   "metadata": {},
   "source": [
    "### Sigmoid Function\n",
    "\n",
    "$$y = \\frac{1}{1+e^{-x}}$$\n",
    "\n",
    "- Gradients \n",
    "\n",
    "$$\\frac{\\partial{y}}{\\partial{x}}=y*(1-y)$$\n",
    "\n",
    "- Backpropogation\n",
    "\n",
    "$$\\frac{\\partial{E}}{\\partial{x}}=\\frac{\\partial{E}}{\\partial{y}}*y*(1-y)$$"
   ]
  },
  {
   "cell_type": "code",
   "execution_count": 3,
   "metadata": {},
   "outputs": [],
   "source": [
    "class Sigmoid(Layer):    \n",
    "    def forward(self, x): # only for data sample, different if using batches\n",
    "        self.y = 1 / (1 + np.exp(-x))\n",
    "        return self.y\n",
    "    \n",
    "    def backward(self, node_grad):\n",
    "        return node_grad * (self.y * (1-self.y))\n",
    "    \n",
    "    # no parameters to train\n",
    "    def update(self, learning_rate):\n",
    "        pass"
   ]
  },
  {
   "cell_type": "markdown",
   "metadata": {},
   "source": [
    "### Relu Function\n",
    "\n",
    "$$\n",
    "y= \n",
    "\\begin{cases}\n",
    "    x, & \\text{if } x\\gt 0\\\\\n",
    "    0, & \\text{otherwise}\n",
    "\\end{cases}\n",
    "$$\n",
    "\n",
    "- Gradients \n",
    "\n",
    "$$\n",
    "\\frac{\\partial{y}}{\\partial{x}}= \n",
    "\\begin{cases}\n",
    "    1, & \\text{if } x\\gt 0\\\\\n",
    "    0, & \\text{otherwise}\n",
    "\\end{cases}\n",
    "$$\n",
    "\n",
    "- Backpropogation\n",
    "\n",
    "$$\n",
    "\\frac{\\partial{E}}{\\partial{x}}= \n",
    "\\begin{cases}\n",
    "    \\frac{\\partial{E}}{\\partial{y}}, & \\text{if } x\\gt 0\\\\\n",
    "    0, & \\text{otherwise}\n",
    "\\end{cases}\n",
    "$$"
   ]
  },
  {
   "cell_type": "code",
   "execution_count": 4,
   "metadata": {},
   "outputs": [],
   "source": [
    "class Relu():        \n",
    "    def forward(self, x):\n",
    "        self.x = x\n",
    "        return np.maximum(x, 0)\n",
    "    \n",
    "    def backward(self, node_grad):\n",
    "        return node_grad * (self.x > 0)\n",
    "    \n",
    "    def update(self, learning_rate):\n",
    "        pass"
   ]
  },
  {
   "cell_type": "markdown",
   "metadata": {},
   "source": [
    "### Softmax + CrossEntropy\n",
    "\n",
    "For forward and backward computation, please check https://deepnotes.io/softmax-crossentropy\n",
    "\n",
    "Cross Entropy Loss with Softmax function are used as the output layer extensively. So here, I will use the derivative of softmax to easiy derive the derivative of the cross entropy loss function as the post suggests."
   ]
  },
  {
   "cell_type": "code",
   "execution_count": 5,
   "metadata": {},
   "outputs": [],
   "source": [
    "class Softmax_Cross_Entropy():    \n",
    "\n",
    "    \"\"\"\n",
    "    usually, the function code for forward pass is like this:\n",
    "    def softmax(X):\n",
    "    exps = np.exp(X)\n",
    "    return exps / np.sum(exps)\n",
    "    \n",
    "    because the numerical range of floating point numbers in numpy is limited,\n",
    "    for float64 is 10^308, exp with too large x will yield inf\n",
    "    so need to normalize value to avoid overflow\n",
    "    \"\"\"\n",
    "    \n",
    "    def forward(self, x):\n",
    "        exps = np.exp(x - np.max(x)) # to stabilize softmax function\n",
    "        self.y = exps / np.sum(exps)\n",
    "        return self.y\n",
    "    \n",
    "    # backward pass\n",
    "    # compute gradient of softmax+crossentropy simultaneously\n",
    "    def backward(self, label):\n",
    "        self.out_grad = self.y - label   # which is a very simple and elegant expression\n",
    "        return self.out_grad\n",
    "    \n",
    "    def update(self, learning_rate):\n",
    "        pass"
   ]
  },
  {
   "cell_type": "markdown",
   "metadata": {},
   "source": [
    "### Linear Layer\n",
    "\n",
    "For forward and backward computation for dense layer, please check http://cs231n.stanford.edu/handouts/linear-backprop.pdf"
   ]
  },
  {
   "cell_type": "code",
   "execution_count": 6,
   "metadata": {},
   "outputs": [],
   "source": [
    "class Linear(Layer):\n",
    "    def __init__(self, size_in, size_out, with_bias): # params\n",
    "        self.size_in = size_in \n",
    "        self.size_out = size_out\n",
    "        self.with_bias = with_bias\n",
    "        self.W = self.initialize_weight() \n",
    "        if with_bias:\n",
    "            self.b = np.zeros(size_out)\n",
    "    \n",
    "    # weight initialization\n",
    "    def initialize_weight(self):\n",
    "        epsilon = np.sqrt(2.0 / (self.size_in + self.size_out))\n",
    "        return epsilon * (np.random.rand(self.size_in, self.size_out) * 2 - 1) \n",
    "        \n",
    "    def forward(self, x):\n",
    "        self.x = x\n",
    "        self.y = x @ self.W + self.b  # @ is shortcut for matrix multiplication\n",
    "        return self.y\n",
    "    \n",
    "    def backward(self, node_grad):\n",
    "        self.G_W = np.outer(self.x, node_grad)  # derivative for weight matrix\n",
    "        if self.with_bias: # derivative for bias\n",
    "            self.G_b = node_grad\n",
    "        return node_grad @ self.W.T\n",
    "    \n",
    "    # update weight params, perform gradient descent\n",
    "    def update(self, learning_rate):\n",
    "        self.W -= learning_rate * self.G_W\n",
    "        if self.with_bias:\n",
    "            self.b -= learning_rate * self.G_b"
   ]
  },
  {
   "cell_type": "code",
   "execution_count": 7,
   "metadata": {},
   "outputs": [],
   "source": [
    "class MLP():\n",
    "    \n",
    "    def __init__(self, layer_size, with_bias=True, activation=\"sigmoid\", learning_rate=1):\n",
    "        assert len(layer_size) >= 2  # at least input+output\n",
    "        self.layer_size = layer_size\n",
    "        self.with_bias = with_bias\n",
    "        if activation == \"sigmoid\":\n",
    "            self.activation = Sigmoid\n",
    "        elif activation == \"relu\":\n",
    "            self.activation = Relu\n",
    "        else:\n",
    "            raise Exception(\"activation not implemented\")\n",
    "        self.learning_rate = learning_rate\n",
    "        self.build_model() # help function to build model\n",
    "        \n",
    "    def build_model(self):\n",
    "        self.layers = [] # initializing layer list\n",
    "        \n",
    "        size_in = self.layer_size[0] # for first input layer\n",
    "        \n",
    "        for hidden_unit in self.layer_size[1:-1]: # loop thru 2nd layer to the last but 2 layer\n",
    "            self.layers.append(Linear(size_in, hidden_unit, self.with_bias))\n",
    "            self.layers.append(self.activation())\n",
    "            size_in = hidden_unit\n",
    "            \n",
    "        # for final output layer, use softmax + cross entropy\n",
    "        self.layers.append(Linear(size_in, self.layer_size[-1], self.with_bias))\n",
    "        self.layers.append(Softmax_Cross_Entropy())\n",
    "       \n",
    "    \n",
    "    def forward(self, x):\n",
    "        for layer in self.layers:\n",
    "            x = layer.forward(x)\n",
    "        return x\n",
    "    \n",
    "    def backward(self, label):\n",
    "        node_grad = label\n",
    "        for layer in reversed(self.layers): # backprop thru layers\n",
    "            node_grad = layer.backward(node_grad)\n",
    "            \n",
    "    def update(self, learning_rate):\n",
    "        for layer in self.layers:\n",
    "            layer.update(learning_rate)\n",
    "            \n",
    "    def train(self, x, label):\n",
    "        y = self.forward(x)\n",
    "        self.backward(label)\n",
    "        self.update(self.learning_rate)\n",
    "    \n",
    "    def predict(self, x):\n",
    "        for layer in self.layers:\n",
    "            x = layer.forward(x)\n",
    "        return np.argmax(x)\n",
    "    \n",
    "    def loss(self, x, label):\n",
    "        y = self.forward(x)\n",
    "        return -np.log(y) @ label # cross entropy loss"
   ]
  },
  {
   "attachments": {
    "xor.png": {
     "image/png": "[encoded data removed]"
    }
   },
   "cell_type": "markdown",
   "metadata": {},
   "source": [
    "#### Create a simple dataset (XOR) to test our function\n",
    "![xor.png](attachment:xor.png)"
   ]
  },
  {
   "cell_type": "code",
   "execution_count": 8,
   "metadata": {},
   "outputs": [],
   "source": [
    "X = np.array([\n",
    "    [0, 0],\n",
    "    [0, 1],\n",
    "    [1, 0],\n",
    "    [1, 1]\n",
    "])\n",
    "Y = np.array([\n",
    "    [0, 1],\n",
    "    [1, 0],\n",
    "    [1, 0],\n",
    "    [0, 1]\n",
    "])"
   ]
  },
  {
   "cell_type": "code",
   "execution_count": 9,
   "metadata": {},
   "outputs": [
    {
     "data": {
      "text/plain": [
       "[<matplotlib.lines.Line2D at 0x117789e80>]"
      ]
     },
     "execution_count": 9,
     "metadata": {},
     "output_type": "execute_result"
    },
    {
     "data": {
      "image/png": "[encoded data removed]",
      "text/plain": [
       "<Figure size 432x288 with 1 Axes>"
      ]
     },
     "metadata": {
      "needs_background": "light"
     },
     "output_type": "display_data"
    }
   ],
   "source": [
    "np.random.seed(208) \n",
    "epoch = 1000 \n",
    "N = X.shape[0] # get number of training data\n",
    "\n",
    "# craete a MLP with layer size [2,4,2] and learning_rate 0.1\n",
    "mlp = MLP([2, 4, 2], learning_rate=.1, activation=\"relu\")\n",
    "\n",
    "loss = np.zeros(epoch) # store losses\n",
    "\n",
    "for ep in range(epoch):\n",
    "    # train on each training data\n",
    "    for i in range(N):\n",
    "        mlp.train(X[i], Y[i])\n",
    "        \n",
    "    # compute loss\n",
    "    for i in range(N):\n",
    "        loss[ep] += mlp.loss(X[i], Y[i])\n",
    "        \n",
    "    loss[ep] /= N\n",
    "    \n",
    "# plot loss curve\n",
    "plt.figure()\n",
    "ix = np.arange(epoch)\n",
    "plt.plot(ix, loss)"
   ]
  },
  {
   "cell_type": "markdown",
   "metadata": {},
   "source": [
    "## Using built-in Keras module"
   ]
  },
  {
   "cell_type": "code",
   "execution_count": null,
   "metadata": {},
   "outputs": [
    {
     "name": "stderr",
     "output_type": "stream",
     "text": [
      "WARNING: Logging before flag parsing goes to stderr.\n",
      "W0305 12:05:52.668808 4512511424 deprecation.py:506] From /Users/junxxx/anaconda3/lib/python3.7/site-packages/tensorflow/python/ops/init_ops.py:1251: calling VarianceScaling.__init__ (from tensorflow.python.ops.init_ops) with dtype is deprecated and will be removed in a future version.\n",
      "Instructions for updating:\n",
      "Call initializer instance with the dtype argument instead of passing it to the constructor\n"
     ]
    }
   ],
   "source": [
    "from tensorflow.keras.models import Sequential\n",
    "from tensorflow.keras.layers import Dense\n",
    "from tensorflow.keras.optimizers import SGD\n",
    "\n",
    "model = Sequential()\n",
    "model.add(Dense(8, input_dim=2, activation=\"relu\"))\n",
    "model.add(Dense(2, activation=\"softmax\"))\n",
    "\n",
    "sgd = SGD(lr=.1)\n",
    "\n",
    "model.compile(optimizer=sgd,\n",
    "              loss='categorical_crossentropy',\n",
    "              metrics=['accuracy'])\n",
    "\n",
    "history = model.fit(X, Y, epochs=200)"
   ]
  },
  {
   "cell_type": "markdown",
   "metadata": {},
   "source": [
    "The speed of Keras is much faster than the implementation in Numpy with an unbeatable performance, so in real life we tend to use built-in librares/modules to build and train our neural network models!"
   ]
  }
 ],
 "metadata": {
  "kernelspec": {
   "display_name": "Python 3",
   "language": "python",
   "name": "python3"
  },
  "language_info": {
   "codemirror_mode": {
    "name": "ipython",
    "version": 3
   },
   "file_extension": ".py",
   "mimetype": "text/x-python",
   "name": "python",
   "nbconvert_exporter": "python",
   "pygments_lexer": "ipython3",
   "version": "3.7.3"
  }
 },
 "nbformat": 4,
 "nbformat_minor": 4
}
