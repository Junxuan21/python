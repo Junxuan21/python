{
 "cells": [
  {
   "cell_type": "markdown",
   "metadata": {},
   "source": [
    "### A post to practice Gaussian Mixture Model using EM"
   ]
  },
  {
   "cell_type": "code",
   "execution_count": 3,
   "metadata": {},
   "outputs": [],
   "source": [
    "import numpy as np\n",
    "import scipy.stats as st\n",
    "import matplotlib.pyplot as plt"
   ]
  },
  {
   "cell_type": "code",
   "execution_count": 4,
   "metadata": {},
   "outputs": [],
   "source": [
    "K = 2\n",
    "\n",
    "# Generate data\n",
    "X1 = np.random.multivariate_normal([5, 5], np.diag([0.5, 0.5]), size=20)\n",
    "X2 = np.random.multivariate_normal([8, 8], np.diag([0.5, 0.5]), size=20)\n",
    "X = np.vstack([X1, X2])\n",
    "\n",
    "N = X.shape[0]"
   ]
  },
  {
   "cell_type": "code",
   "execution_count": 5,
   "metadata": {},
   "outputs": [
    {
     "name": "stdout",
     "output_type": "stream",
     "text": [
      "Log-likelihood: -1302.6742\n",
      "Mus: [[ 1.  1.]\n",
      " [15. 15.]]\n",
      "\n",
      "Log-likelihood: -124.2553\n",
      "Mus: [[5.94001586 5.86489076]\n",
      " [8.40852776 8.28000838]]\n",
      "\n",
      "Log-likelihood: -123.9929\n",
      "Mus: [[5.96182549 5.91252835]\n",
      " [8.42093682 8.19798915]]\n",
      "\n",
      "Log-likelihood: -123.9347\n",
      "Mus: [[5.96831067 5.92960074]\n",
      " [8.42740071 8.1638339 ]]\n",
      "\n",
      "Log-likelihood: -123.8766\n",
      "Mus: [[5.96743264 5.93607224]\n",
      " [8.43018681 8.13993819]]\n",
      "\n"
     ]
    }
   ],
   "source": [
    "# GMM params\n",
    "mus = np.array([[1, 1], [15, 15]], dtype='float')\n",
    "sigmas = np.array([np.diag([1, 1]), np.diag([1, 1])], dtype='float')\n",
    "pis = np.array([0.5, 0.5])\n",
    "\n",
    "\n",
    "for it in range(5):\n",
    "    # E-step\n",
    "    gammas = np.zeros([N, K])\n",
    "\n",
    "    for k in range(K):\n",
    "        lik = st.multivariate_normal.pdf(X, mean=mus[k], cov=sigmas[k])\n",
    "        gammas[:, k] = pis[k] * lik\n",
    "\n",
    "    # Evaluate\n",
    "    loglik = np.sum(np.log(np.sum(gammas, axis=1)))\n",
    "    print('Log-likelihood: {:.4f}'.format(loglik))\n",
    "    print('Mus: {}'.format(mus))\n",
    "    print()\n",
    "\n",
    "    # Normalize gamma\n",
    "    gammas = gammas / np.sum(gammas, axis=1)[:, np.newaxis]\n",
    "\n",
    "    # M-step\n",
    "    for k in range(K):\n",
    "        Nk = np.sum(gammas[:, k])\n",
    "\n",
    "        mu = 1/Nk * np.sum(gammas[:, k][:, np.newaxis] * X, axis=0)\n",
    "\n",
    "        Xmu = (X - mu)[:, :, np.newaxis]\n",
    "        sigma = 1/Nk * np.sum([gammas[i, k] * Xmu[i] @ Xmu[i].T for i in range(N)], axis=0)\n",
    "\n",
    "        pi = Nk / N\n",
    "\n",
    "        mus[k] = mu\n",
    "        sigmas[k] = sigma\n",
    "        pis[k] = pi"
   ]
  }
 ],
 "metadata": {
  "kernelspec": {
   "display_name": "Python 3",
   "language": "python",
   "name": "python3"
  },
  "language_info": {
   "codemirror_mode": {
    "name": "ipython",
    "version": 3
   },
   "file_extension": ".py",
   "mimetype": "text/x-python",
   "name": "python",
   "nbconvert_exporter": "python",
   "pygments_lexer": "ipython3",
   "version": "3.7.3"
  }
 },
 "nbformat": 4,
 "nbformat_minor": 2
}
