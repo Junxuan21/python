{
 "cells": [
  {
   "cell_type": "code",
   "execution_count": 1,
   "metadata": {},
   "outputs": [],
   "source": [
    "import numpy as np\n",
    "import pandas as pd\n",
    "from sklearn import preprocessing\n",
    "import matplotlib.pyplot as plt"
   ]
  },
  {
   "cell_type": "code",
   "execution_count": 3,
   "metadata": {},
   "outputs": [
    {
     "name": "stdout",
     "output_type": "stream",
     "text": [
      "Input\n",
      "Avg. Area Income\n",
      "Avg. Area House Age\n",
      "Avg. Area Number of Rooms\n",
      "Avg. Area Number of Bedrooms\n",
      "Area Population\n",
      "Labels\n",
      "Price\n"
     ]
    }
   ],
   "source": [
    "lines=np.loadtxt('data/USA_Housing.csv', delimiter=',', dtype='str')\n",
    "\n",
    "print(\"Input\")\n",
    "for i in range(lines.shape[1]-1):\n",
    "    print(lines[0, i])\n",
    "    \n",
    "    \n",
    "print(\"Labels\")\n",
    "print(lines[0,-1])"
   ]
  },
  {
   "cell_type": "code",
   "execution_count": 6,
   "metadata": {},
   "outputs": [],
   "source": [
    "\n",
    "x_total = lines[1:, :5].astype('float')\n",
    "y_total = lines[1:, 5:].astype('float').flatten()"
   ]
  },
  {
   "cell_type": "code",
   "execution_count": 7,
   "metadata": {},
   "outputs": [
    {
     "name": "stdout",
     "output_type": "stream",
     "text": [
      "Train set size:  4000\n",
      "Test set size 1000\n"
     ]
    }
   ],
   "source": [
    "x_total = preprocessing.scale(x_total)\n",
    "y_total = preprocessing.scale(y_total)\n",
    "\n",
    "x_train = x_total[:4000]\n",
    "x_test = x_total[4000:]\n",
    "y_train = y_total[:4000]\n",
    "y_test = y_total[4000:]\n",
    "\n",
    "print('Train set size: ', x_train.shape[0])\n",
    "print('Test set size', x_test.shape[0])"
   ]
  },
  {
   "cell_type": "markdown",
   "metadata": {},
   "source": [
    "### Normal Equation"
   ]
  },
  {
   "cell_type": "code",
   "execution_count": 8,
   "metadata": {},
   "outputs": [
    {
     "name": "stdout",
     "output_type": "stream",
     "text": [
      "[[0.65361133]\n",
      " [0.46378742]\n",
      " [0.34520317]\n",
      " [0.00353179]\n",
      " [0.42506886]\n",
      " [0.00270682]]\n",
      "rmse_loss: 0.28904225054224564\n"
     ]
    }
   ],
   "source": [
    "X_train = np.hstack([x_train, np.ones((x_train.shape[0], 1))])\n",
    "NE_solution = np.dot(np.dot(np.linalg.inv(np.dot(np.transpose(X_train), X_train)), np.transpose(X_train)), y_train.reshape([-1, 1]))\n",
    "print(NE_solution)\n",
    "\n",
    "X_test = np.hstack([x_test, np.ones((x_test.shape[0], 1))])\n",
    "y_pred_test = np.dot(X_test, NE_solution).flatten()\n",
    "\n",
    "rmse_loss = np.sqrt(np.square(y_test - y_pred_test).mean())\n",
    "print('rmse_loss:', rmse_loss)"
   ]
  },
  {
   "cell_type": "markdown",
   "metadata": {},
   "source": [
    "### Sklearn module"
   ]
  },
  {
   "cell_type": "code",
   "execution_count": 9,
   "metadata": {},
   "outputs": [
    {
     "name": "stdout",
     "output_type": "stream",
     "text": [
      "[0.65361133 0.46378742 0.34520317 0.00353179 0.42506886]\n",
      "0.0027068226957548706\n",
      "rmse_loss: 0.2890422505422456\n"
     ]
    }
   ],
   "source": [
    "from sklearn import linear_model\n",
    "\n",
    "linreg = linear_model.LinearRegression()\n",
    "linreg.fit(x_train, y_train)\n",
    "print(linreg.coef_)\n",
    "print(linreg.intercept_)\n",
    "y_pred_test = linreg.predict(x_test)\n",
    "\n",
    "rmse_loss = np.sqrt(np.square(y_test - y_pred_test).mean())\n",
    "print('rmse_loss:', rmse_loss)"
   ]
  },
  {
   "cell_type": "markdown",
   "metadata": {},
   "source": [
    "### Gradient Descent"
   ]
  },
  {
   "cell_type": "code",
   "execution_count": 10,
   "metadata": {},
   "outputs": [],
   "source": [
    "def shuffle_aligned_list(data):    \n",
    "    num = data[0].shape[0]\n",
    "    shuffle_index = np.random.permutation(num)\n",
    "    return [d[shuffle_index] for d in data]\n",
    "\n",
    "def batch_generator(data, batch_size, shuffle=True):\n",
    "    batch_count = 0\n",
    "    while True:\n",
    "        if batch_count * batch_size + batch_size >= data[0].shape[0]:\n",
    "            batch_count = 0\n",
    "            if shuffle:\n",
    "                data = shuffle_aligned_list(data)\n",
    "        start = batch_count * batch_size\n",
    "        end = start + batch_size\n",
    "        batch_count += 1\n",
    "        yield [d[start:end] for d in data]"
   ]
  },
  {
   "cell_type": "markdown",
   "metadata": {},
   "source": [
    "### Training"
   ]
  },
  {
   "cell_type": "code",
   "execution_count": 11,
   "metadata": {},
   "outputs": [
    {
     "name": "stdout",
     "output_type": "stream",
     "text": [
      "weight: [0.65099761 0.46219012 0.33801997 0.01077995 0.42683162 0.00206267]\n",
      "rmse_loss: 0.28878914008243806\n"
     ]
    },
    {
     "data": {
      "image/png": "[encoded data removed]",
      "text/plain": [
       "<Figure size 432x288 with 1 Axes>"
      ]
     },
     "metadata": {
      "needs_background": "light"
     },
     "output_type": "display_data"
    }
   ],
   "source": [
    "num_steps = 600\n",
    "learning_rate = 0.01\n",
    "batch_size = 40\n",
    "\n",
    "weight = np.zeros(6)\n",
    "np.random.seed(0)\n",
    "batch_g = batch_generator([x_train, y_train], batch_size, shuffle=True)\n",
    "x_test_concat = np.hstack([x_test, np.ones([x_test.shape[0], 1])])\n",
    "\n",
    "loss_list = []\n",
    "\n",
    "for i in range(num_steps):\n",
    "    rmse_loss = np.sqrt(np.square(np.dot(x_test_concat, weight) - y_test).mean())\n",
    "    loss_list.append(rmse_loss)\n",
    "    \n",
    "    x_batch, y_batch = batch_g.__next__()\n",
    "    x_batch = np.hstack([x_batch, np.ones([batch_size, 1])])\n",
    "    y_pred = np.dot(x_batch, weight)\n",
    "    w_gradient = (x_batch * np.tile((y_pred - y_batch).reshape([-1, 1]), 6)).mean(axis=0)\n",
    "    weight = weight - learning_rate * w_gradient \n",
    "\n",
    "print('weight:', weight)\n",
    "print('rmse_loss:', rmse_loss)\n",
    "    \n",
    "loss_array = np.array(loss_list)\n",
    "plt.plot(np.arange(num_steps), loss_array)\n",
    "plt.show()\n"
   ]
  },
  {
   "cell_type": "code",
   "execution_count": null,
   "metadata": {},
   "outputs": [],
   "source": []
  }
 ],
 "metadata": {
  "kernelspec": {
   "display_name": "Python 3",
   "language": "python",
   "name": "python3"
  },
  "language_info": {
   "codemirror_mode": {
    "name": "ipython",
    "version": 3
   },
   "file_extension": ".py",
   "mimetype": "text/x-python",
   "name": "python",
   "nbconvert_exporter": "python",
   "pygments_lexer": "ipython3",
   "version": "3.7.3"
  }
 },
 "nbformat": 4,
 "nbformat_minor": 2
}
