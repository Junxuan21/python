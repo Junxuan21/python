{
 "cells": [
  {
   "cell_type": "code",
   "execution_count": 1,
   "metadata": {},
   "outputs": [],
   "source": [
    "import pandas as pd\n",
    "import numpy as np\n",
    "import scipy.stats as sps \n",
    "import matplotlib.pyplot as plt \n",
    "import seaborn as sns\n",
    "import sklearn as skl\n",
    "from sklearn import preprocessing \n",
    "%matplotlib inline "
   ]
  },
  {
   "cell_type": "code",
   "execution_count": 76,
   "metadata": {},
   "outputs": [
    {
     "name": "stdout",
     "output_type": "stream",
     "text": [
      "CPU times: user 2.14 s, sys: 239 ms, total: 2.38 s\n",
      "Wall time: 2.36 s\n"
     ]
    }
   ],
   "source": [
    "%%time\n",
    "mydata = pd.read_csv('applications data.csv')"
   ]
  },
  {
   "cell_type": "code",
   "execution_count": 77,
   "metadata": {},
   "outputs": [
    {
     "data": {
      "text/html": [
       "<div>\n",
       "<style scoped>\n",
       "    .dataframe tbody tr th:only-of-type {\n",
       "        vertical-align: middle;\n",
       "    }\n",
       "\n",
       "    .dataframe tbody tr th {\n",
       "        vertical-align: top;\n",
       "    }\n",
       "\n",
       "    .dataframe thead th {\n",
       "        text-align: right;\n",
       "    }\n",
       "</style>\n",
       "<table border=\"1\" class=\"dataframe\">\n",
       "  <thead>\n",
       "    <tr style=\"text-align: right;\">\n",
       "      <th></th>\n",
       "      <th>record</th>\n",
       "      <th>date</th>\n",
       "      <th>ssn</th>\n",
       "      <th>firstname</th>\n",
       "      <th>lastname</th>\n",
       "      <th>address</th>\n",
       "      <th>zip5</th>\n",
       "      <th>dob</th>\n",
       "      <th>homephone</th>\n",
       "      <th>fraud_label</th>\n",
       "    </tr>\n",
       "  </thead>\n",
       "  <tbody>\n",
       "    <tr>\n",
       "      <th>0</th>\n",
       "      <td>1</td>\n",
       "      <td>20160101</td>\n",
       "      <td>379070012</td>\n",
       "      <td>XRRAMMTR</td>\n",
       "      <td>SMJETJMJ</td>\n",
       "      <td>6861 EUTST PL</td>\n",
       "      <td>2765</td>\n",
       "      <td>19070626</td>\n",
       "      <td>1797504115</td>\n",
       "      <td>0</td>\n",
       "    </tr>\n",
       "    <tr>\n",
       "      <th>1</th>\n",
       "      <td>2</td>\n",
       "      <td>20160101</td>\n",
       "      <td>387482503</td>\n",
       "      <td>MAMSTUJR</td>\n",
       "      <td>RTTEMRRR</td>\n",
       "      <td>7280 URASA PL</td>\n",
       "      <td>57169</td>\n",
       "      <td>19340615</td>\n",
       "      <td>4164239415</td>\n",
       "      <td>1</td>\n",
       "    </tr>\n",
       "    <tr>\n",
       "      <th>2</th>\n",
       "      <td>3</td>\n",
       "      <td>20160101</td>\n",
       "      <td>200332444</td>\n",
       "      <td>SZMMUJEZS</td>\n",
       "      <td>EUSEZRAE</td>\n",
       "      <td>5581 RSREX LN</td>\n",
       "      <td>56721</td>\n",
       "      <td>19070626</td>\n",
       "      <td>216537580</td>\n",
       "      <td>0</td>\n",
       "    </tr>\n",
       "    <tr>\n",
       "      <th>3</th>\n",
       "      <td>4</td>\n",
       "      <td>20160101</td>\n",
       "      <td>747451317</td>\n",
       "      <td>SJJZSXRSZ</td>\n",
       "      <td>ETJXTXXS</td>\n",
       "      <td>1387 UJZXJ RD</td>\n",
       "      <td>35286</td>\n",
       "      <td>19440430</td>\n",
       "      <td>132144161</td>\n",
       "      <td>0</td>\n",
       "    </tr>\n",
       "    <tr>\n",
       "      <th>4</th>\n",
       "      <td>5</td>\n",
       "      <td>20160101</td>\n",
       "      <td>24065868</td>\n",
       "      <td>SSSXUEJMS</td>\n",
       "      <td>SSUUJXUZ</td>\n",
       "      <td>279 EAASA WY</td>\n",
       "      <td>3173</td>\n",
       "      <td>19980315</td>\n",
       "      <td>6101082272</td>\n",
       "      <td>0</td>\n",
       "    </tr>\n",
       "  </tbody>\n",
       "</table>\n",
       "</div>"
      ],
      "text/plain": [
       "   record      date        ssn  firstname  lastname        address   zip5  \\\n",
       "0       1  20160101  379070012   XRRAMMTR  SMJETJMJ  6861 EUTST PL   2765   \n",
       "1       2  20160101  387482503   MAMSTUJR  RTTEMRRR  7280 URASA PL  57169   \n",
       "2       3  20160101  200332444  SZMMUJEZS  EUSEZRAE  5581 RSREX LN  56721   \n",
       "3       4  20160101  747451317  SJJZSXRSZ  ETJXTXXS  1387 UJZXJ RD  35286   \n",
       "4       5  20160101   24065868  SSSXUEJMS  SSUUJXUZ   279 EAASA WY   3173   \n",
       "\n",
       "        dob   homephone  fraud_label  \n",
       "0  19070626  1797504115            0  \n",
       "1  19340615  4164239415            1  \n",
       "2  19070626   216537580            0  \n",
       "3  19440430   132144161            0  \n",
       "4  19980315  6101082272            0  "
      ]
     },
     "execution_count": 77,
     "metadata": {},
     "output_type": "execute_result"
    }
   ],
   "source": [
    "mydata.head()"
   ]
  },
  {
   "cell_type": "code",
   "execution_count": 8,
   "metadata": {},
   "outputs": [
    {
     "name": "stdout",
     "output_type": "stream",
     "text": [
      "<class 'pandas.core.frame.DataFrame'>\n",
      "RangeIndex: 1000000 entries, 0 to 999999\n",
      "Data columns (total 11 columns):\n",
      "record         1000000 non-null int64\n",
      "date           1000000 non-null int64\n",
      "ssn            1000000 non-null int64\n",
      "firstname      1000000 non-null object\n",
      "lastname       1000000 non-null object\n",
      "address        1000000 non-null object\n",
      "zip5           1000000 non-null int64\n",
      "dob            1000000 non-null int64\n",
      "homephone      1000000 non-null int64\n",
      "fraud_label    1000000 non-null int64\n",
      "nameDOB        1000000 non-null object\n",
      "dtypes: int64(7), object(4)\n",
      "memory usage: 83.9+ MB\n"
     ]
    }
   ],
   "source": [
    "mydata.info()"
   ]
  },
  {
   "cell_type": "code",
   "execution_count": 16,
   "metadata": {},
   "outputs": [
    {
     "data": {
      "text/html": [
       "<div>\n",
       "<style scoped>\n",
       "    .dataframe tbody tr th:only-of-type {\n",
       "        vertical-align: middle;\n",
       "    }\n",
       "\n",
       "    .dataframe tbody tr th {\n",
       "        vertical-align: top;\n",
       "    }\n",
       "\n",
       "    .dataframe thead th {\n",
       "        text-align: right;\n",
       "    }\n",
       "</style>\n",
       "<table border=\"1\" class=\"dataframe\">\n",
       "  <thead>\n",
       "    <tr style=\"text-align: right;\">\n",
       "      <th></th>\n",
       "      <th>record</th>\n",
       "      <th>date</th>\n",
       "      <th>ssn</th>\n",
       "      <th>firstname</th>\n",
       "      <th>lastname</th>\n",
       "      <th>address</th>\n",
       "      <th>zip5</th>\n",
       "      <th>dob</th>\n",
       "      <th>homephone</th>\n",
       "      <th>fraud_label</th>\n",
       "      <th>nameDOB</th>\n",
       "      <th>fulladdress</th>\n",
       "    </tr>\n",
       "  </thead>\n",
       "  <tbody>\n",
       "    <tr>\n",
       "      <th>0</th>\n",
       "      <td>1</td>\n",
       "      <td>20160101</td>\n",
       "      <td>379070012</td>\n",
       "      <td>XRRAMMTR</td>\n",
       "      <td>SMJETJMJ</td>\n",
       "      <td>6861 EUTST PL</td>\n",
       "      <td>2765</td>\n",
       "      <td>19070626</td>\n",
       "      <td>1797504115</td>\n",
       "      <td>0</td>\n",
       "      <td>XRRAMMTR_SMJETJMJ_19070626</td>\n",
       "      <td>6861 EUTST PL_2765</td>\n",
       "    </tr>\n",
       "    <tr>\n",
       "      <th>1</th>\n",
       "      <td>2</td>\n",
       "      <td>20160101</td>\n",
       "      <td>387482503</td>\n",
       "      <td>MAMSTUJR</td>\n",
       "      <td>RTTEMRRR</td>\n",
       "      <td>7280 URASA PL</td>\n",
       "      <td>57169</td>\n",
       "      <td>19340615</td>\n",
       "      <td>4164239415</td>\n",
       "      <td>1</td>\n",
       "      <td>MAMSTUJR_RTTEMRRR_19340615</td>\n",
       "      <td>7280 URASA PL_57169</td>\n",
       "    </tr>\n",
       "    <tr>\n",
       "      <th>2</th>\n",
       "      <td>3</td>\n",
       "      <td>20160101</td>\n",
       "      <td>200332444</td>\n",
       "      <td>SZMMUJEZS</td>\n",
       "      <td>EUSEZRAE</td>\n",
       "      <td>5581 RSREX LN</td>\n",
       "      <td>56721</td>\n",
       "      <td>19070626</td>\n",
       "      <td>216537580</td>\n",
       "      <td>0</td>\n",
       "      <td>SZMMUJEZS_EUSEZRAE_19070626</td>\n",
       "      <td>5581 RSREX LN_56721</td>\n",
       "    </tr>\n",
       "    <tr>\n",
       "      <th>3</th>\n",
       "      <td>4</td>\n",
       "      <td>20160101</td>\n",
       "      <td>747451317</td>\n",
       "      <td>SJJZSXRSZ</td>\n",
       "      <td>ETJXTXXS</td>\n",
       "      <td>1387 UJZXJ RD</td>\n",
       "      <td>35286</td>\n",
       "      <td>19440430</td>\n",
       "      <td>132144161</td>\n",
       "      <td>0</td>\n",
       "      <td>SJJZSXRSZ_ETJXTXXS_19440430</td>\n",
       "      <td>1387 UJZXJ RD_35286</td>\n",
       "    </tr>\n",
       "    <tr>\n",
       "      <th>4</th>\n",
       "      <td>5</td>\n",
       "      <td>20160101</td>\n",
       "      <td>24065868</td>\n",
       "      <td>SSSXUEJMS</td>\n",
       "      <td>SSUUJXUZ</td>\n",
       "      <td>279 EAASA WY</td>\n",
       "      <td>3173</td>\n",
       "      <td>19980315</td>\n",
       "      <td>6101082272</td>\n",
       "      <td>0</td>\n",
       "      <td>SSSXUEJMS_SSUUJXUZ_19980315</td>\n",
       "      <td>279 EAASA WY_3173</td>\n",
       "    </tr>\n",
       "  </tbody>\n",
       "</table>\n",
       "</div>"
      ],
      "text/plain": [
       "   record      date        ssn  firstname  lastname        address   zip5  \\\n",
       "0       1  20160101  379070012   XRRAMMTR  SMJETJMJ  6861 EUTST PL   2765   \n",
       "1       2  20160101  387482503   MAMSTUJR  RTTEMRRR  7280 URASA PL  57169   \n",
       "2       3  20160101  200332444  SZMMUJEZS  EUSEZRAE  5581 RSREX LN  56721   \n",
       "3       4  20160101  747451317  SJJZSXRSZ  ETJXTXXS  1387 UJZXJ RD  35286   \n",
       "4       5  20160101   24065868  SSSXUEJMS  SSUUJXUZ   279 EAASA WY   3173   \n",
       "\n",
       "        dob   homephone  fraud_label                      nameDOB  \\\n",
       "0  19070626  1797504115            0   XRRAMMTR_SMJETJMJ_19070626   \n",
       "1  19340615  4164239415            1   MAMSTUJR_RTTEMRRR_19340615   \n",
       "2  19070626   216537580            0  SZMMUJEZS_EUSEZRAE_19070626   \n",
       "3  19440430   132144161            0  SJJZSXRSZ_ETJXTXXS_19440430   \n",
       "4  19980315  6101082272            0  SSSXUEJMS_SSUUJXUZ_19980315   \n",
       "\n",
       "           fulladdress  \n",
       "0   6861 EUTST PL_2765  \n",
       "1  7280 URASA PL_57169  \n",
       "2  5581 RSREX LN_56721  \n",
       "3  1387 UJZXJ RD_35286  \n",
       "4    279 EAASA WY_3173  "
      ]
     },
     "execution_count": 16,
     "metadata": {},
     "output_type": "execute_result"
    }
   ],
   "source": [
    "mydata.head()"
   ]
  },
  {
   "cell_type": "code",
   "execution_count": null,
   "metadata": {},
   "outputs": [],
   "source": [
    "for i in data.index:\n",
    "    mydata.at[i,'ssn']=str(mydata.at[i,'ssn']) if len(str(mydata.at[i,'ssn']))==10 else str(mydata.at[i,'ssn']).rjust(10,'0')"
   ]
  },
  {
   "cell_type": "code",
   "execution_count": null,
   "metadata": {},
   "outputs": [],
   "source": [
    "for i in range(0,1000000):\n",
    "    mydata['zip5'][i]=format(int(mydata['zip5'][i]), \"05\") if len(mydata['zip5'][i])<5 else mydata['zip5'][i]==mydata['zip5'][i]"
   ]
  },
  {
   "cell_type": "code",
   "execution_count": 78,
   "metadata": {},
   "outputs": [
    {
     "name": "stdout",
     "output_type": "stream",
     "text": [
      "CPU times: user 14 s, sys: 378 ms, total: 14.3 s\n",
      "Wall time: 14.6 s\n"
     ]
    }
   ],
   "source": [
    "%%time\n",
    "mydata['zip5']= mydata.apply(lambda row: str(row['zip5']).zfill(5), axis=1)"
   ]
  },
  {
   "cell_type": "code",
   "execution_count": 79,
   "metadata": {},
   "outputs": [
    {
     "data": {
      "text/plain": [
       "0         02765\n",
       "1         57169\n",
       "2         56721\n",
       "3         35286\n",
       "4         03173\n",
       "5         08391\n",
       "6         41640\n",
       "7         60567\n",
       "8         37934\n",
       "9         93751\n",
       "10        92129\n",
       "11        09531\n",
       "12        82369\n",
       "13        66204\n",
       "14        61344\n",
       "15        43912\n",
       "16        29576\n",
       "17        51486\n",
       "18        93301\n",
       "19        25166\n",
       "20        14589\n",
       "21        21860\n",
       "22        45982\n",
       "23        94373\n",
       "24        59453\n",
       "25        83363\n",
       "26        51395\n",
       "27        93806\n",
       "28        21920\n",
       "29        02214\n",
       "          ...  \n",
       "999970    05196\n",
       "999971    25115\n",
       "999972    84983\n",
       "999973    08343\n",
       "999974    50193\n",
       "999975    07662\n",
       "999976    12921\n",
       "999977    59998\n",
       "999978    14736\n",
       "999979    90077\n",
       "999980    43787\n",
       "999981    11343\n",
       "999982    59614\n",
       "999983    04890\n",
       "999984    23831\n",
       "999985    22378\n",
       "999986    25898\n",
       "999987    21879\n",
       "999988    48650\n",
       "999989    77781\n",
       "999990    12921\n",
       "999991    56999\n",
       "999992    23960\n",
       "999993    43552\n",
       "999994    54964\n",
       "999995    54890\n",
       "999996    74683\n",
       "999997    86805\n",
       "999998    49183\n",
       "999999    39491\n",
       "Name: zip5, Length: 1000000, dtype: object"
      ]
     },
     "execution_count": 79,
     "metadata": {},
     "output_type": "execute_result"
    }
   ],
   "source": [
    "mydata['zip5']"
   ]
  },
  {
   "cell_type": "code",
   "execution_count": null,
   "metadata": {},
   "outputs": [],
   "source": [
    "#R fill\n",
    "#library(stringr)\n",
    "#application$ssn=as.character(application$ssn)\n",
    "#application$ssn=str_pad(application$ssn, 9, pad = \"0\")"
   ]
  },
  {
   "cell_type": "code",
   "execution_count": 80,
   "metadata": {},
   "outputs": [],
   "source": [
    "for i in mydata.index:\n",
    "    if mydata.at[i,'ssn']==999999999:\n",
    "        mydata.at[i,'ssn']=mydata.at[i,'record']"
   ]
  },
  {
   "cell_type": "code",
   "execution_count": 81,
   "metadata": {},
   "outputs": [],
   "source": [
    "for i in mydata.index:\n",
    "    if mydata.at[i,'homephone']==9999999999:\n",
    "        mydata.at[i,'homephone']=mydata.at[i,'record']"
   ]
  },
  {
   "cell_type": "code",
   "execution_count": 82,
   "metadata": {},
   "outputs": [
    {
     "name": "stdout",
     "output_type": "stream",
     "text": [
      "CPU times: user 13.7 s, sys: 309 ms, total: 14 s\n",
      "Wall time: 14.1 s\n"
     ]
    }
   ],
   "source": [
    "%%time\n",
    "mydata['ssn']= mydata.apply(lambda row: str(row['ssn']).zfill(9), axis=1)"
   ]
  },
  {
   "cell_type": "code",
   "execution_count": 83,
   "metadata": {},
   "outputs": [],
   "source": [
    "mydata['homephone'] = mydata.apply(lambda row: str(row['homephone']).zfill(10), axis=1)"
   ]
  },
  {
   "cell_type": "code",
   "execution_count": 84,
   "metadata": {},
   "outputs": [],
   "source": [
    "mydata['nameDOB']=mydata['firstname']+'_'+mydata['lastname']+'_'+mydata['dob'].astype(str)"
   ]
  },
  {
   "cell_type": "code",
   "execution_count": 85,
   "metadata": {},
   "outputs": [],
   "source": [
    "mydata['fulladdress']=mydata['address']+'_'+mydata['zip5'].astype(str)"
   ]
  },
  {
   "cell_type": "code",
   "execution_count": 86,
   "metadata": {},
   "outputs": [
    {
     "name": "stdout",
     "output_type": "stream",
     "text": [
      "<class 'pandas.core.frame.DataFrame'>\n",
      "RangeIndex: 1000000 entries, 0 to 999999\n",
      "Data columns (total 12 columns):\n",
      "record         1000000 non-null int64\n",
      "date           1000000 non-null int64\n",
      "ssn            1000000 non-null object\n",
      "firstname      1000000 non-null object\n",
      "lastname       1000000 non-null object\n",
      "address        1000000 non-null object\n",
      "zip5           1000000 non-null object\n",
      "dob            1000000 non-null int64\n",
      "homephone      1000000 non-null object\n",
      "fraud_label    1000000 non-null int64\n",
      "nameDOB        1000000 non-null object\n",
      "fulladdress    1000000 non-null object\n",
      "dtypes: int64(4), object(8)\n",
      "memory usage: 91.6+ MB\n"
     ]
    }
   ],
   "source": [
    "mydata.info()"
   ]
  },
  {
   "cell_type": "code",
   "execution_count": 87,
   "metadata": {},
   "outputs": [
    {
     "data": {
      "text/html": [
       "<div>\n",
       "<style scoped>\n",
       "    .dataframe tbody tr th:only-of-type {\n",
       "        vertical-align: middle;\n",
       "    }\n",
       "\n",
       "    .dataframe tbody tr th {\n",
       "        vertical-align: top;\n",
       "    }\n",
       "\n",
       "    .dataframe thead th {\n",
       "        text-align: right;\n",
       "    }\n",
       "</style>\n",
       "<table border=\"1\" class=\"dataframe\">\n",
       "  <thead>\n",
       "    <tr style=\"text-align: right;\">\n",
       "      <th></th>\n",
       "      <th>record</th>\n",
       "      <th>date</th>\n",
       "      <th>ssn</th>\n",
       "      <th>firstname</th>\n",
       "      <th>lastname</th>\n",
       "      <th>address</th>\n",
       "      <th>zip5</th>\n",
       "      <th>dob</th>\n",
       "      <th>homephone</th>\n",
       "      <th>fraud_label</th>\n",
       "      <th>nameDOB</th>\n",
       "      <th>fulladdress</th>\n",
       "    </tr>\n",
       "  </thead>\n",
       "  <tbody>\n",
       "    <tr>\n",
       "      <th>0</th>\n",
       "      <td>1</td>\n",
       "      <td>20160101</td>\n",
       "      <td>379070012</td>\n",
       "      <td>XRRAMMTR</td>\n",
       "      <td>SMJETJMJ</td>\n",
       "      <td>6861 EUTST PL</td>\n",
       "      <td>02765</td>\n",
       "      <td>19070626</td>\n",
       "      <td>1797504115</td>\n",
       "      <td>0</td>\n",
       "      <td>XRRAMMTR_SMJETJMJ_19070626</td>\n",
       "      <td>6861 EUTST PL_02765</td>\n",
       "    </tr>\n",
       "    <tr>\n",
       "      <th>1</th>\n",
       "      <td>2</td>\n",
       "      <td>20160101</td>\n",
       "      <td>387482503</td>\n",
       "      <td>MAMSTUJR</td>\n",
       "      <td>RTTEMRRR</td>\n",
       "      <td>7280 URASA PL</td>\n",
       "      <td>57169</td>\n",
       "      <td>19340615</td>\n",
       "      <td>4164239415</td>\n",
       "      <td>1</td>\n",
       "      <td>MAMSTUJR_RTTEMRRR_19340615</td>\n",
       "      <td>7280 URASA PL_57169</td>\n",
       "    </tr>\n",
       "    <tr>\n",
       "      <th>2</th>\n",
       "      <td>3</td>\n",
       "      <td>20160101</td>\n",
       "      <td>200332444</td>\n",
       "      <td>SZMMUJEZS</td>\n",
       "      <td>EUSEZRAE</td>\n",
       "      <td>5581 RSREX LN</td>\n",
       "      <td>56721</td>\n",
       "      <td>19070626</td>\n",
       "      <td>0216537580</td>\n",
       "      <td>0</td>\n",
       "      <td>SZMMUJEZS_EUSEZRAE_19070626</td>\n",
       "      <td>5581 RSREX LN_56721</td>\n",
       "    </tr>\n",
       "    <tr>\n",
       "      <th>3</th>\n",
       "      <td>4</td>\n",
       "      <td>20160101</td>\n",
       "      <td>747451317</td>\n",
       "      <td>SJJZSXRSZ</td>\n",
       "      <td>ETJXTXXS</td>\n",
       "      <td>1387 UJZXJ RD</td>\n",
       "      <td>35286</td>\n",
       "      <td>19440430</td>\n",
       "      <td>0132144161</td>\n",
       "      <td>0</td>\n",
       "      <td>SJJZSXRSZ_ETJXTXXS_19440430</td>\n",
       "      <td>1387 UJZXJ RD_35286</td>\n",
       "    </tr>\n",
       "    <tr>\n",
       "      <th>4</th>\n",
       "      <td>5</td>\n",
       "      <td>20160101</td>\n",
       "      <td>024065868</td>\n",
       "      <td>SSSXUEJMS</td>\n",
       "      <td>SSUUJXUZ</td>\n",
       "      <td>279 EAASA WY</td>\n",
       "      <td>03173</td>\n",
       "      <td>19980315</td>\n",
       "      <td>6101082272</td>\n",
       "      <td>0</td>\n",
       "      <td>SSSXUEJMS_SSUUJXUZ_19980315</td>\n",
       "      <td>279 EAASA WY_03173</td>\n",
       "    </tr>\n",
       "  </tbody>\n",
       "</table>\n",
       "</div>"
      ],
      "text/plain": [
       "   record      date        ssn  firstname  lastname        address   zip5  \\\n",
       "0       1  20160101  379070012   XRRAMMTR  SMJETJMJ  6861 EUTST PL  02765   \n",
       "1       2  20160101  387482503   MAMSTUJR  RTTEMRRR  7280 URASA PL  57169   \n",
       "2       3  20160101  200332444  SZMMUJEZS  EUSEZRAE  5581 RSREX LN  56721   \n",
       "3       4  20160101  747451317  SJJZSXRSZ  ETJXTXXS  1387 UJZXJ RD  35286   \n",
       "4       5  20160101  024065868  SSSXUEJMS  SSUUJXUZ   279 EAASA WY  03173   \n",
       "\n",
       "        dob   homephone  fraud_label                      nameDOB  \\\n",
       "0  19070626  1797504115            0   XRRAMMTR_SMJETJMJ_19070626   \n",
       "1  19340615  4164239415            1   MAMSTUJR_RTTEMRRR_19340615   \n",
       "2  19070626  0216537580            0  SZMMUJEZS_EUSEZRAE_19070626   \n",
       "3  19440430  0132144161            0  SJJZSXRSZ_ETJXTXXS_19440430   \n",
       "4  19980315  6101082272            0  SSSXUEJMS_SSUUJXUZ_19980315   \n",
       "\n",
       "           fulladdress  \n",
       "0  6861 EUTST PL_02765  \n",
       "1  7280 URASA PL_57169  \n",
       "2  5581 RSREX LN_56721  \n",
       "3  1387 UJZXJ RD_35286  \n",
       "4   279 EAASA WY_03173  "
      ]
     },
     "execution_count": 87,
     "metadata": {},
     "output_type": "execute_result"
    }
   ],
   "source": [
    "mydata.head()"
   ]
  },
  {
   "cell_type": "code",
   "execution_count": 89,
   "metadata": {},
   "outputs": [],
   "source": [
    "mydata['date'] = pd.to_datetime(pd.Series(mydata['date']), format='%Y%m%d')\n",
    "mydata['dob'] = pd.to_datetime(pd.Series(mydata['dob']), format='%Y%m%d')"
   ]
  },
  {
   "cell_type": "code",
   "execution_count": 90,
   "metadata": {},
   "outputs": [],
   "source": [
    "mydata.to_csv('before create variables.csv')"
   ]
  },
  {
   "cell_type": "code",
   "execution_count": null,
   "metadata": {},
   "outputs": [],
   "source": []
  }
 ],
 "metadata": {
  "kernelspec": {
   "display_name": "Python 3",
   "language": "python",
   "name": "python3"
  },
  "language_info": {
   "codemirror_mode": {
    "name": "ipython",
    "version": 3
   },
   "file_extension": ".py",
   "mimetype": "text/x-python",
   "name": "python",
   "nbconvert_exporter": "python",
   "pygments_lexer": "ipython3",
   "version": "3.7.2"
  }
 },
 "nbformat": 4,
 "nbformat_minor": 2
}
