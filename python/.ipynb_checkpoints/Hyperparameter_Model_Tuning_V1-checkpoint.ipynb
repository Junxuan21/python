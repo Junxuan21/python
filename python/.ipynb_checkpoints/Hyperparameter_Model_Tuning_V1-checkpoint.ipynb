{
 "cells": [
  {
   "cell_type": "code",
   "execution_count": 1,
   "metadata": {
    "colab": {
     "base_uri": "https://localhost:8080/",
     "height": 71
    },
    "colab_type": "code",
    "id": "0_g4FP8rMsBh",
    "outputId": "c0b10307-1a6e-4958-c513-7f3e18072890"
   },
   "outputs": [
    {
     "name": "stderr",
     "output_type": "stream",
     "text": [
      "/usr/local/lib/python3.6/dist-packages/statsmodels/tools/_testing.py:19: FutureWarning: pandas.util.testing is deprecated. Use the functions in the public API at pandas.testing instead.\n",
      "  import pandas.util.testing as tm\n"
     ]
    }
   ],
   "source": [
    "import numpy as np\n",
    "import pandas as pd\n",
    "import warnings\n",
    "import matplotlib\n",
    "import matplotlib.pyplot as plt\n",
    "import seaborn as sns\n",
    "\n",
    "warnings.filterwarnings('ignore')\n",
    "%matplotlib inline"
   ]
  },
  {
   "cell_type": "code",
   "execution_count": 2,
   "metadata": {
    "colab": {
     "base_uri": "https://localhost:8080/",
     "height": 71,
     "resources": {
      "http://localhost:8080/nbextensions/google.colab/files.js": {
       "data": "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",
       "headers": [
        [
         "content-type",
         "application/javascript"
        ]
       ],
       "ok": true,
       "status": 200,
       "status_text": ""
      }
     }
    },
    "colab_type": "code",
    "id": "nV0LKRPUM1nE",
    "outputId": "503d0322-c512-4cf3-8b11-45546c239565"
   },
   "outputs": [
    {
     "data": {
      "text/html": [
       "\n",
       "     <input type=\"file\" id=\"files-e4dec8e2-1b09-4975-8f02-f6971fc4d35d\" name=\"files[]\" multiple disabled />\n",
       "     <output id=\"result-e4dec8e2-1b09-4975-8f02-f6971fc4d35d\">\n",
       "      Upload widget is only available when the cell has been executed in the\n",
       "      current browser session. Please rerun this cell to enable.\n",
       "      </output>\n",
       "      <script src=\"/nbextensions/google.colab/files.js\"></script> "
      ],
      "text/plain": [
       "<IPython.core.display.HTML object>"
      ]
     },
     "metadata": {
      "tags": []
     },
     "output_type": "display_data"
    },
    {
     "name": "stdout",
     "output_type": "stream",
     "text": [
      "Saving data_for_tree.csv to data_for_tree.csv\n"
     ]
    }
   ],
   "source": [
    "# from google.colab import files\n",
    "# uploaded = files.upload()"
   ]
  },
  {
   "cell_type": "code",
   "execution_count": 0,
   "metadata": {
    "colab": {},
    "colab_type": "code",
    "id": "I6rbChTeMsBm"
   },
   "outputs": [],
   "source": [
    "def reduce_mem_usage(df):\n",
    "    \"\"\" iterate through all the columns of a dataframe and modify the data type\n",
    "        to reduce memory usage.        \n",
    "    \"\"\"\n",
    "    start_mem = df.memory_usage().sum() \n",
    "    print('Memory usage of dataframe is {:.2f} MB'.format(start_mem))\n",
    "    \n",
    "    for col in df.columns:\n",
    "        col_type = df[col].dtype\n",
    "        \n",
    "        if col_type != object:\n",
    "            c_min = df[col].min()\n",
    "            c_max = df[col].max()\n",
    "            if str(col_type)[:3] == 'int':\n",
    "                if c_min > np.iinfo(np.int8).min and c_max < np.iinfo(np.int8).max:\n",
    "                    df[col] = df[col].astype(np.int8)\n",
    "                elif c_min > np.iinfo(np.int16).min and c_max < np.iinfo(np.int16).max:\n",
    "                    df[col] = df[col].astype(np.int16)\n",
    "                elif c_min > np.iinfo(np.int32).min and c_max < np.iinfo(np.int32).max:\n",
    "                    df[col] = df[col].astype(np.int32)\n",
    "                elif c_min > np.iinfo(np.int64).min and c_max < np.iinfo(np.int64).max:\n",
    "                    df[col] = df[col].astype(np.int64)  \n",
    "            else:\n",
    "                if c_min > np.finfo(np.float16).min and c_max < np.finfo(np.float16).max:\n",
    "                    df[col] = df[col].astype(np.float16)\n",
    "                elif c_min > np.finfo(np.float32).min and c_max < np.finfo(np.float32).max:\n",
    "                    df[col] = df[col].astype(np.float32)\n",
    "                else:\n",
    "                    df[col] = df[col].astype(np.float64)\n",
    "        else:\n",
    "            df[col] = df[col].astype('category')\n",
    "\n",
    "    end_mem = df.memory_usage().sum() \n",
    "    print('Memory usage after optimization is: {:.2f} MB'.format(end_mem))\n",
    "    print('Decreased by {:.1f}%'.format(100 * (start_mem - end_mem) / start_mem))\n",
    "    return df"
   ]
  },
  {
   "cell_type": "code",
   "execution_count": 0,
   "metadata": {
    "colab": {},
    "colab_type": "code",
    "id": "P7NQITdXMsBp"
   },
   "outputs": [],
   "source": []
  },
  {
   "cell_type": "code",
   "execution_count": 4,
   "metadata": {
    "colab": {
     "base_uri": "https://localhost:8080/",
     "height": 68
    },
    "colab_type": "code",
    "id": "FD40ekqBMsBu",
    "outputId": "7f92b68e-797f-448b-c755-03bbe6f24a6a"
   },
   "outputs": [
    {
     "name": "stdout",
     "output_type": "stream",
     "text": [
      "Memory usage of dataframe is 51200128.00 MB\n",
      "Memory usage after optimization is: 13000232.00 MB\n",
      "Decreased by 74.6%\n"
     ]
    }
   ],
   "source": [
    "sample_feature = reduce_mem_usage(pd.read_csv('data_for_tree.csv'))"
   ]
  },
  {
   "cell_type": "markdown",
   "metadata": {
    "colab_type": "text",
    "id": "odIUkKcsMsB1"
   },
   "source": [
    "### 1. Linear models & K-fold validation "
   ]
  },
  {
   "cell_type": "code",
   "execution_count": 0,
   "metadata": {
    "colab": {},
    "colab_type": "code",
    "id": "fQWR9NAuMsBx"
   },
   "outputs": [],
   "source": [
    "continuous_feature_names = [x for x in sample_feature.columns if x not in ['price','brand','model']]"
   ]
  },
  {
   "cell_type": "code",
   "execution_count": 0,
   "metadata": {
    "colab": {},
    "colab_type": "code",
    "id": "-gMdAR_HMsB1"
   },
   "outputs": [],
   "source": [
    "sample_feature = sample_feature.dropna().replace('-', 0).reset_index(drop=True)\n",
    "sample_feature['notRepairedDamage'] = sample_feature['notRepairedDamage'].astype(np.float32)\n",
    "\n",
    "train = sample_feature[continuous_feature_names + ['price']]\n",
    "train_X = train[continuous_feature_names]\n",
    "train_y = train['price']"
   ]
  },
  {
   "cell_type": "code",
   "execution_count": 0,
   "metadata": {
    "colab": {},
    "colab_type": "code",
    "id": "AuQcLL76MsB-"
   },
   "outputs": [],
   "source": [
    "from sklearn.linear_model import LinearRegression\n",
    "model = LinearRegression(normalize=True)\n",
    "model_1 = model.fit(train_X, train_y)"
   ]
  },
  {
   "cell_type": "code",
   "execution_count": 11,
   "metadata": {
    "colab": {
     "base_uri": "https://localhost:8080/",
     "height": 527
    },
    "colab_type": "code",
    "id": "QaH012VjMsCA",
    "outputId": "93e99b67-5063-4518-b099-fe7f24df1a1f"
   },
   "outputs": [
    {
     "name": "stdout",
     "output_type": "stream",
     "text": [
      "intercept:-90863.01041236233\n"
     ]
    },
    {
     "data": {
      "text/plain": [
       "[('v_6', 3338225.290330016),\n",
       " ('v_8', 710015.465829061),\n",
       " ('v_9', 269138.5087381901),\n",
       " ('v_12', 62497.089621002575),\n",
       " ('v_3', 44884.99008782551),\n",
       " ('v_7', 40444.625009098636),\n",
       " ('v_11', 30420.7536305818),\n",
       " ('v_13', 26646.74723731282),\n",
       " ('v_5', 23226.942436523368),\n",
       " ('v_10', 11117.740629485948),\n",
       " ('gearbox', 760.7064101105134),\n",
       " ('fuelType', 383.2261096665202),\n",
       " ('bodyType', 188.4910374178149),\n",
       " ('city', 59.113322234680375),\n",
       " ('power', 37.87317546304756),\n",
       " ('used_time', 0.03108745156737054),\n",
       " ('SaleID', 8.633764555981459e-05),\n",
       " ('train', 2.1816231310367584e-06),\n",
       " ('seller', 2.0114239305257797e-06),\n",
       " ('offerType', -1.2886011973023415e-06),\n",
       " ('name', -0.0005608494805797309),\n",
       " ('power_bin', -129.87583379574056),\n",
       " ('kilometer', -362.64712644934446),\n",
       " ('notRepairedDamage', -484.6125098361409),\n",
       " ('v_14', -1320.7150139880014),\n",
       " ('v_0', -2747.0536000205952),\n",
       " ('v_4', -29752.304269617485),\n",
       " ('v_1', -40826.6107940511),\n",
       " ('v_2', -65122.22365574414)]"
      ]
     },
     "execution_count": 11,
     "metadata": {
      "tags": []
     },
     "output_type": "execute_result"
    }
   ],
   "source": [
    "print('intercept:'+ str(model_1.intercept_))\n",
    "\n",
    "sorted(dict(zip(continuous_feature_names, model_1.coef_)).items(),\n",
    "       key=lambda x:x[1], reverse=True)"
   ]
  },
  {
   "cell_type": "code",
   "execution_count": 0,
   "metadata": {
    "colab": {},
    "colab_type": "code",
    "id": "x83srSvjMsCC"
   },
   "outputs": [],
   "source": [
    "from matplotlib import pyplot as plt\n",
    "subsample_index = np.random.randint(low=0, high=len(train_y), size=50)"
   ]
  },
  {
   "cell_type": "code",
   "execution_count": 13,
   "metadata": {
    "colab": {
     "base_uri": "https://localhost:8080/",
     "height": 297
    },
    "colab_type": "code",
    "id": "qCZZWNO1MsCG",
    "outputId": "653cff79-cdb7-448f-f062-b6f14d56b025"
   },
   "outputs": [
    {
     "name": "stdout",
     "output_type": "stream",
     "text": [
      "The predicted price is obvious different from true price\n"
     ]
    },
    {
     "data": {
      "image/png": "[encoded data removed]",
      "text/plain": [
       "<Figure size 432x288 with 1 Axes>"
      ]
     },
     "metadata": {
      "tags": []
     },
     "output_type": "display_data"
    }
   ],
   "source": [
    "plt.scatter(train_X['v_9'][subsample_index], train_y[subsample_index], color='black')\n",
    "plt.scatter(train_X['v_9'][subsample_index], model.predict(train_X.loc[subsample_index]), color='blue')\n",
    "plt.xlabel('v_9')\n",
    "plt.ylabel('price')\n",
    "plt.legend(['True Price','Predicted Price'],loc='upper right')\n",
    "\n",
    "print('The predicted price is obvious different from true price')\n",
    "\n",
    "plt.show()"
   ]
  },
  {
   "cell_type": "code",
   "execution_count": 0,
   "metadata": {
    "colab": {},
    "colab_type": "code",
    "id": "eNXVO8b_MsCK"
   },
   "outputs": [],
   "source": []
  },
  {
   "cell_type": "code",
   "execution_count": 14,
   "metadata": {
    "colab": {
     "base_uri": "https://localhost:8080/",
     "height": 368
    },
    "colab_type": "code",
    "id": "Kc3umxDNMsCN",
    "outputId": "a0633013-af33-4661-de4e-494fad002d94"
   },
   "outputs": [
    {
     "name": "stdout",
     "output_type": "stream",
     "text": [
      "It is clear to see the price shows a typical exponential distribution\n"
     ]
    },
    {
     "data": {
      "text/plain": [
       "<matplotlib.axes._subplots.AxesSubplot at 0x7f4e0dd535f8>"
      ]
     },
     "execution_count": 14,
     "metadata": {
      "tags": []
     },
     "output_type": "execute_result"
    },
    {
     "data": {
      "image/png": "[encoded data removed]",
      "text/plain": [
       "<Figure size 1080x360 with 2 Axes>"
      ]
     },
     "metadata": {
      "tags": []
     },
     "output_type": "display_data"
    }
   ],
   "source": [
    "print('It is clear to see the price shows a typical exponential distribution')\n",
    "plt.figure(figsize=(15,5))\n",
    "plt.subplot(1,2,1)\n",
    "sns.distplot(train_y)\n",
    "plt.subplot(1,2,2)\n",
    "sns.distplot(train_y[train_y < np.quantile(train_y, 0.9)])"
   ]
  },
  {
   "cell_type": "code",
   "execution_count": 0,
   "metadata": {
    "colab": {},
    "colab_type": "code",
    "id": "ESRH6z4kMsCQ"
   },
   "outputs": [],
   "source": [
    "train_y_ln = np.log(train_y + 1)"
   ]
  },
  {
   "cell_type": "code",
   "execution_count": 16,
   "metadata": {
    "colab": {
     "base_uri": "https://localhost:8080/",
     "height": 369
    },
    "colab_type": "code",
    "id": "od2G3F16MsCS",
    "outputId": "358f5295-e2ba-49ad-ddcd-e85667c11a14"
   },
   "outputs": [
    {
     "name": "stdout",
     "output_type": "stream",
     "text": [
      "The transformed price seems like normal distribution\n"
     ]
    },
    {
     "data": {
      "text/plain": [
       "<matplotlib.axes._subplots.AxesSubplot at 0x7f4e0d62abe0>"
      ]
     },
     "execution_count": 16,
     "metadata": {
      "tags": []
     },
     "output_type": "execute_result"
    },
    {
     "data": {
      "image/png": "[encoded data removed]",
      "text/plain": [
       "<Figure size 1080x360 with 2 Axes>"
      ]
     },
     "metadata": {
      "tags": []
     },
     "output_type": "display_data"
    }
   ],
   "source": [
    "print('The transformed price seems like normal distribution')\n",
    "\n",
    "plt.figure(figsize=(15,5))\n",
    "plt.subplot(1,2,1)\n",
    "sns.distplot(train_y_ln)\n",
    "plt.subplot(1,2,2)\n",
    "sns.distplot(train_y_ln[train_y_ln < np.quantile(train_y_ln, 0.9)])"
   ]
  },
  {
   "cell_type": "code",
   "execution_count": 17,
   "metadata": {
    "colab": {
     "base_uri": "https://localhost:8080/",
     "height": 527
    },
    "colab_type": "code",
    "id": "-qBxm7JdMsCW",
    "outputId": "07eb9900-ce37-4265-f12e-e94f1f8caa41"
   },
   "outputs": [
    {
     "name": "stdout",
     "output_type": "stream",
     "text": [
      "intercept:17.657318143550462\n"
     ]
    },
    {
     "data": {
      "text/plain": [
       "[('v_5', 10.122226895898347),\n",
       " ('v_9', 8.525934742036272),\n",
       " ('v_12', 1.773532884117753),\n",
       " ('v_1', 1.6099354680320899),\n",
       " ('v_7', 1.3744548996172994),\n",
       " ('v_13', 1.3577216769565725),\n",
       " ('v_11', 1.0338948786905546),\n",
       " ('v_3', 0.9834785225930494),\n",
       " ('fuelType', 0.008582047060076111),\n",
       " ('power_bin', 0.005890963909162343),\n",
       " ('gearbox', 0.004061205779353332),\n",
       " ('v_0', 0.003991552327967325),\n",
       " ('bodyType', 0.0033076995336302566),\n",
       " ('power', 0.0009287491110033387),\n",
       " ('SaleID', 2.0894309409281467e-08),\n",
       " ('seller', 2.1238122371869395e-11),\n",
       " ('offerType', -3.319300390103308e-11),\n",
       " ('train', -7.577227734145708e-11),\n",
       " ('name', -8.350551138612822e-08),\n",
       " ('used_time', -1.2740300280897424e-06),\n",
       " ('city', -0.0016642136412074232),\n",
       " ('kilometer', -0.01314212772461931),\n",
       " ('v_14', -0.041530509951525),\n",
       " ('notRepairedDamage', -0.26982811336266943),\n",
       " ('v_2', -0.9074331111983894),\n",
       " ('v_4', -1.175000807368827),\n",
       " ('v_10', -1.5368125671372679),\n",
       " ('v_8', -38.35096071088152),\n",
       " ('v_6', -238.023331440435)]"
      ]
     },
     "execution_count": 17,
     "metadata": {
      "tags": []
     },
     "output_type": "execute_result"
    }
   ],
   "source": [
    "model_2 = model.fit(train_X, train_y_ln)\n",
    "\n",
    "print('intercept:'+ str(model_2.intercept_))\n",
    "sorted(dict(zip(continuous_feature_names, model_2.coef_)).items(), key=lambda x:x[1], reverse=True)"
   ]
  },
  {
   "cell_type": "code",
   "execution_count": 18,
   "metadata": {
    "colab": {
     "base_uri": "https://localhost:8080/",
     "height": 297
    },
    "colab_type": "code",
    "id": "UNPvBCwRMsCY",
    "outputId": "edbbd3d4-ca73-4762-91c9-f4041081788a"
   },
   "outputs": [
    {
     "name": "stdout",
     "output_type": "stream",
     "text": [
      "The predicted price seems normal after np.log transforming\n"
     ]
    },
    {
     "data": {
      "image/png": "[encoded data removed]",
      "text/plain": [
       "<Figure size 432x288 with 1 Axes>"
      ]
     },
     "metadata": {
      "tags": []
     },
     "output_type": "display_data"
    }
   ],
   "source": [
    "plt.scatter(train_X['v_9'][subsample_index], train_y[subsample_index], color='black')\n",
    "plt.scatter(train_X['v_9'][subsample_index], np.exp(model.predict(train_X.loc[subsample_index])), color='blue')\n",
    "plt.xlabel('v_9')\n",
    "plt.ylabel('price')\n",
    "plt.legend(['True Price','Predicted Price'],loc='upper right')\n",
    "\n",
    "print('The predicted price seems normal after np.log transforming')\n",
    "\n",
    "plt.show()"
   ]
  },
  {
   "cell_type": "code",
   "execution_count": 0,
   "metadata": {
    "colab": {},
    "colab_type": "code",
    "id": "AnnPtlOCMsCf"
   },
   "outputs": [],
   "source": []
  },
  {
   "cell_type": "code",
   "execution_count": 0,
   "metadata": {
    "colab": {},
    "colab_type": "code",
    "id": "VpqvksqnMsCi"
   },
   "outputs": [],
   "source": [
    "from sklearn.model_selection import cross_val_score\n",
    "from sklearn.metrics import mean_absolute_error,  make_scorer"
   ]
  },
  {
   "cell_type": "code",
   "execution_count": 0,
   "metadata": {
    "colab": {},
    "colab_type": "code",
    "id": "-OFHfLM_MsCl"
   },
   "outputs": [],
   "source": [
    "def log_transfer(func):\n",
    "    \n",
    "    def wrapper(y, yhat):\n",
    "        result = func(np.log(y), np.nan_to_num(np.log(yhat)))\n",
    "        return result\n",
    "    \n",
    "    return wrapper"
   ]
  },
  {
   "cell_type": "code",
   "execution_count": 21,
   "metadata": {
    "colab": {
     "base_uri": "https://localhost:8080/",
     "height": 68
    },
    "colab_type": "code",
    "id": "ZTbX6V5PMsCp",
    "outputId": "6c01ba74-afac-479a-d586-3d3cb19b4164"
   },
   "outputs": [
    {
     "name": "stderr",
     "output_type": "stream",
     "text": [
      "[Parallel(n_jobs=1)]: Using backend SequentialBackend with 1 concurrent workers.\n"
     ]
    },
    {
     "name": "stdout",
     "output_type": "stream",
     "text": [
      "AVG: 1.3890676637565442\n"
     ]
    },
    {
     "name": "stderr",
     "output_type": "stream",
     "text": [
      "[Parallel(n_jobs=1)]: Done   5 out of   5 | elapsed:    0.6s finished\n"
     ]
    }
   ],
   "source": [
    "# 5-fold validation on non-log-transformed y labels\n",
    "scores_1 = cross_val_score(model_1, X=train_X, y=train_y, verbose=1,\n",
    "                         cv = 5, scoring=make_scorer(log_transfer(mean_absolute_error)))\n",
    "\n",
    "print('AVG:', np.mean(scores_1))"
   ]
  },
  {
   "cell_type": "code",
   "execution_count": 22,
   "metadata": {
    "colab": {
     "base_uri": "https://localhost:8080/",
     "height": 68
    },
    "colab_type": "code",
    "id": "eW4ZxydiMsCr",
    "outputId": "22f1bfeb-0214-46a8-e59c-f0828ae9c8c6"
   },
   "outputs": [
    {
     "name": "stderr",
     "output_type": "stream",
     "text": [
      "[Parallel(n_jobs=1)]: Using backend SequentialBackend with 1 concurrent workers.\n"
     ]
    },
    {
     "name": "stdout",
     "output_type": "stream",
     "text": [
      "AVG: 0.024910011805825815\n"
     ]
    },
    {
     "name": "stderr",
     "output_type": "stream",
     "text": [
      "[Parallel(n_jobs=1)]: Done   5 out of   5 | elapsed:    0.6s finished\n"
     ]
    }
   ],
   "source": [
    "# 5-fold validation on log-transformed y labels\n",
    "scores_2 = cross_val_score(model_2, X=train_X, y=train_y_ln, verbose=1,\n",
    "                         cv = 5, scoring=make_scorer(log_transfer(mean_absolute_error)))\n",
    "\n",
    "print('AVG:', np.mean(scores_2))"
   ]
  },
  {
   "cell_type": "code",
   "execution_count": 23,
   "metadata": {
    "colab": {
     "base_uri": "https://localhost:8080/",
     "height": 80
    },
    "colab_type": "code",
    "id": "A02KDhxqMsCu",
    "outputId": "10c206cb-6f27-48c4-9b2b-ee5c93f4c877"
   },
   "outputs": [
    {
     "data": {
      "text/html": [
       "<div>\n",
       "<style scoped>\n",
       "    .dataframe tbody tr th:only-of-type {\n",
       "        vertical-align: middle;\n",
       "    }\n",
       "\n",
       "    .dataframe tbody tr th {\n",
       "        vertical-align: top;\n",
       "    }\n",
       "\n",
       "    .dataframe thead th {\n",
       "        text-align: right;\n",
       "    }\n",
       "</style>\n",
       "<table border=\"1\" class=\"dataframe\">\n",
       "  <thead>\n",
       "    <tr style=\"text-align: right;\">\n",
       "      <th></th>\n",
       "      <th>cv1</th>\n",
       "      <th>cv2</th>\n",
       "      <th>cv3</th>\n",
       "      <th>cv4</th>\n",
       "      <th>cv5</th>\n",
       "    </tr>\n",
       "  </thead>\n",
       "  <tbody>\n",
       "    <tr>\n",
       "      <th>MAE</th>\n",
       "      <td>0.024534</td>\n",
       "      <td>0.024982</td>\n",
       "      <td>0.025116</td>\n",
       "      <td>0.024704</td>\n",
       "      <td>0.025214</td>\n",
       "    </tr>\n",
       "  </tbody>\n",
       "</table>\n",
       "</div>"
      ],
      "text/plain": [
       "          cv1       cv2       cv3       cv4       cv5\n",
       "MAE  0.024534  0.024982  0.025116  0.024704  0.025214"
      ]
     },
     "execution_count": 23,
     "metadata": {
      "tags": []
     },
     "output_type": "execute_result"
    }
   ],
   "source": [
    "scores_2 = pd.DataFrame(scores_2.reshape(1,-1))\n",
    "scores_2.columns = ['cv' + str(x) for x in range(1, 6)]\n",
    "scores_2.index = ['MAE']\n",
    "scores_2"
   ]
  },
  {
   "cell_type": "code",
   "execution_count": 0,
   "metadata": {
    "colab": {},
    "colab_type": "code",
    "id": "-5x1S2hhMsCx"
   },
   "outputs": [],
   "source": []
  },
  {
   "cell_type": "markdown",
   "metadata": {
    "colab_type": "text",
    "id": "iDabvXy422nI"
   },
   "source": [
    "Using Sklearn K-fold Validation Package"
   ]
  },
  {
   "cell_type": "code",
   "execution_count": 0,
   "metadata": {
    "colab": {},
    "colab_type": "code",
    "id": "yGnxYG61215r"
   },
   "outputs": [],
   "source": [
    "from sklearn.model_selection import StratifiedKFold\n",
    "from sklearn import metrics\n",
    "from sklearn.model_selection import train_test_split\n",
    "import lightgbm as lgb\n",
    "#pd.set_option('display.max_columns', 100)"
   ]
  },
  {
   "cell_type": "code",
   "execution_count": 69,
   "metadata": {
    "colab": {
     "base_uri": "https://localhost:8080/",
     "height": 68
    },
    "colab_type": "code",
    "id": "sUA8sCk_3Fbz",
    "outputId": "388831f6-18c1-4254-9df9-024208e57747"
   },
   "outputs": [
    {
     "name": "stdout",
     "output_type": "stream",
     "text": [
      "Memory usage of dataframe is 51200128.00 MB\n",
      "Memory usage after optimization is: 13000232.00 MB\n",
      "Decreased by 74.6%\n"
     ]
    }
   ],
   "source": [
    "data = reduce_mem_usage(pd.read_csv('data_for_tree.csv'))\n",
    "\n",
    "train_data = data[data['train']==1]\n",
    "test_data = data[data['train']==0]\n",
    "\n",
    "features = [x for x in data.columns if x not in ['price','SaleID']]\n",
    "# price = np.log(train_data['price']+1)\n",
    "\n",
    "\n",
    "X = train_data[features]\n",
    "# y = np.log(train_data['price']+1)\n",
    "y = train_data['price']"
   ]
  },
  {
   "cell_type": "code",
   "execution_count": 70,
   "metadata": {
    "colab": {
     "base_uri": "https://localhost:8080/",
     "height": 1000
    },
    "colab_type": "code",
    "id": "SVooCH9F218o",
    "outputId": "3e059a2a-d83b-4334-95f0-17bbdb94cf0b"
   },
   "outputs": [
    {
     "name": "stdout",
     "output_type": "stream",
     "text": [
      "[1]\tvalid_0's l2: 5.22107e+07\tvalid_0's l1: 4776.59\n",
      "Training until validation scores don't improve for 5 rounds.\n",
      "[2]\tvalid_0's l2: 4.77588e+07\tvalid_0's l1: 4559.84\n",
      "[3]\tvalid_0's l2: 4.37352e+07\tvalid_0's l1: 4351.61\n",
      "[4]\tvalid_0's l2: 4.00848e+07\tvalid_0's l1: 4156.42\n",
      "[5]\tvalid_0's l2: 3.68091e+07\tvalid_0's l1: 3970.94\n",
      "[6]\tvalid_0's l2: 3.37983e+07\tvalid_0's l1: 3796.21\n",
      "[7]\tvalid_0's l2: 3.11013e+07\tvalid_0's l1: 3629.78\n",
      "[8]\tvalid_0's l2: 2.86222e+07\tvalid_0's l1: 3472.68\n",
      "[9]\tvalid_0's l2: 2.63884e+07\tvalid_0's l1: 3323.9\n",
      "[10]\tvalid_0's l2: 2.43377e+07\tvalid_0's l1: 3182.29\n",
      "[11]\tvalid_0's l2: 2.25124e+07\tvalid_0's l1: 3049.47\n",
      "[12]\tvalid_0's l2: 2.08193e+07\tvalid_0's l1: 2923.21\n",
      "[13]\tvalid_0's l2: 1.93008e+07\tvalid_0's l1: 2803.29\n",
      "[14]\tvalid_0's l2: 1.79234e+07\tvalid_0's l1: 2691.74\n",
      "[15]\tvalid_0's l2: 1.66652e+07\tvalid_0's l1: 2586.12\n",
      "[16]\tvalid_0's l2: 1.55196e+07\tvalid_0's l1: 2485.08\n",
      "[17]\tvalid_0's l2: 1.44684e+07\tvalid_0's l1: 2389.57\n",
      "[18]\tvalid_0's l2: 1.35078e+07\tvalid_0's l1: 2300.31\n",
      "[19]\tvalid_0's l2: 1.26213e+07\tvalid_0's l1: 2215.19\n",
      "[20]\tvalid_0's l2: 1.182e+07\tvalid_0's l1: 2134.63\n",
      "[21]\tvalid_0's l2: 1.10894e+07\tvalid_0's l1: 2057.78\n",
      "[22]\tvalid_0's l2: 1.04218e+07\tvalid_0's l1: 1986.49\n",
      "[23]\tvalid_0's l2: 9.81006e+06\tvalid_0's l1: 1918.38\n",
      "[24]\tvalid_0's l2: 9.25969e+06\tvalid_0's l1: 1855.71\n",
      "[25]\tvalid_0's l2: 8.76814e+06\tvalid_0's l1: 1795.86\n",
      "[26]\tvalid_0's l2: 8.30833e+06\tvalid_0's l1: 1738.89\n",
      "[27]\tvalid_0's l2: 7.88332e+06\tvalid_0's l1: 1685.06\n",
      "[28]\tvalid_0's l2: 7.49194e+06\tvalid_0's l1: 1634.77\n",
      "[29]\tvalid_0's l2: 7.13154e+06\tvalid_0's l1: 1586.44\n",
      "[30]\tvalid_0's l2: 6.79237e+06\tvalid_0's l1: 1540.73\n",
      "[31]\tvalid_0's l2: 6.46994e+06\tvalid_0's l1: 1496.53\n",
      "[32]\tvalid_0's l2: 6.19536e+06\tvalid_0's l1: 1456.84\n",
      "[33]\tvalid_0's l2: 5.93776e+06\tvalid_0's l1: 1418.58\n",
      "[34]\tvalid_0's l2: 5.69109e+06\tvalid_0's l1: 1382.61\n",
      "[35]\tvalid_0's l2: 5.46055e+06\tvalid_0's l1: 1347.52\n",
      "[36]\tvalid_0's l2: 5.25723e+06\tvalid_0's l1: 1315.51\n",
      "[37]\tvalid_0's l2: 5.06495e+06\tvalid_0's l1: 1284.57\n",
      "[38]\tvalid_0's l2: 4.89417e+06\tvalid_0's l1: 1255.83\n",
      "[39]\tvalid_0's l2: 4.73771e+06\tvalid_0's l1: 1229.48\n",
      "[40]\tvalid_0's l2: 4.59144e+06\tvalid_0's l1: 1204.04\n",
      "[41]\tvalid_0's l2: 4.45109e+06\tvalid_0's l1: 1179.33\n",
      "[42]\tvalid_0's l2: 4.32161e+06\tvalid_0's l1: 1156.25\n",
      "[43]\tvalid_0's l2: 4.20798e+06\tvalid_0's l1: 1134.72\n",
      "[44]\tvalid_0's l2: 4.09864e+06\tvalid_0's l1: 1115.23\n",
      "[45]\tvalid_0's l2: 3.99134e+06\tvalid_0's l1: 1096.09\n",
      "[46]\tvalid_0's l2: 3.89791e+06\tvalid_0's l1: 1078.17\n",
      "[47]\tvalid_0's l2: 3.80989e+06\tvalid_0's l1: 1062.49\n",
      "[48]\tvalid_0's l2: 3.72584e+06\tvalid_0's l1: 1045.79\n",
      "[49]\tvalid_0's l2: 3.64219e+06\tvalid_0's l1: 1030.82\n",
      "[50]\tvalid_0's l2: 3.56543e+06\tvalid_0's l1: 1015.91\n",
      "[51]\tvalid_0's l2: 3.49414e+06\tvalid_0's l1: 1002.49\n",
      "[52]\tvalid_0's l2: 3.42999e+06\tvalid_0's l1: 989.264\n",
      "[53]\tvalid_0's l2: 3.37025e+06\tvalid_0's l1: 977.187\n",
      "[54]\tvalid_0's l2: 3.31444e+06\tvalid_0's l1: 964.486\n",
      "[55]\tvalid_0's l2: 3.26195e+06\tvalid_0's l1: 954.533\n",
      "[56]\tvalid_0's l2: 3.20836e+06\tvalid_0's l1: 944.327\n",
      "[57]\tvalid_0's l2: 3.158e+06\tvalid_0's l1: 934.143\n",
      "[58]\tvalid_0's l2: 3.11563e+06\tvalid_0's l1: 924.658\n",
      "[59]\tvalid_0's l2: 3.07097e+06\tvalid_0's l1: 916.388\n",
      "[60]\tvalid_0's l2: 3.03336e+06\tvalid_0's l1: 908.806\n",
      "[61]\tvalid_0's l2: 2.99451e+06\tvalid_0's l1: 900.265\n",
      "[62]\tvalid_0's l2: 2.95908e+06\tvalid_0's l1: 893.679\n",
      "[63]\tvalid_0's l2: 2.92809e+06\tvalid_0's l1: 886.683\n",
      "[64]\tvalid_0's l2: 2.89799e+06\tvalid_0's l1: 879.854\n",
      "[65]\tvalid_0's l2: 2.86737e+06\tvalid_0's l1: 873.56\n",
      "[66]\tvalid_0's l2: 2.83924e+06\tvalid_0's l1: 867.47\n",
      "[67]\tvalid_0's l2: 2.81194e+06\tvalid_0's l1: 862.253\n",
      "[68]\tvalid_0's l2: 2.78665e+06\tvalid_0's l1: 857.455\n",
      "[69]\tvalid_0's l2: 2.76187e+06\tvalid_0's l1: 852.808\n",
      "[70]\tvalid_0's l2: 2.73699e+06\tvalid_0's l1: 847.405\n",
      "[71]\tvalid_0's l2: 2.71837e+06\tvalid_0's l1: 843.325\n",
      "[72]\tvalid_0's l2: 2.69625e+06\tvalid_0's l1: 838.615\n",
      "[73]\tvalid_0's l2: 2.67794e+06\tvalid_0's l1: 834.737\n",
      "[74]\tvalid_0's l2: 2.6601e+06\tvalid_0's l1: 831.242\n",
      "[75]\tvalid_0's l2: 2.63972e+06\tvalid_0's l1: 826.512\n",
      "[76]\tvalid_0's l2: 2.62379e+06\tvalid_0's l1: 823.302\n",
      "[77]\tvalid_0's l2: 2.60835e+06\tvalid_0's l1: 820.044\n",
      "[78]\tvalid_0's l2: 2.59519e+06\tvalid_0's l1: 817.315\n",
      "[79]\tvalid_0's l2: 2.58284e+06\tvalid_0's l1: 814.254\n",
      "[80]\tvalid_0's l2: 2.56935e+06\tvalid_0's l1: 811.239\n",
      "[81]\tvalid_0's l2: 2.55369e+06\tvalid_0's l1: 807.84\n",
      "[82]\tvalid_0's l2: 2.54236e+06\tvalid_0's l1: 805.165\n",
      "[83]\tvalid_0's l2: 2.53069e+06\tvalid_0's l1: 802.499\n",
      "[84]\tvalid_0's l2: 2.52025e+06\tvalid_0's l1: 800.428\n",
      "[85]\tvalid_0's l2: 2.50875e+06\tvalid_0's l1: 797.429\n",
      "[86]\tvalid_0's l2: 2.49925e+06\tvalid_0's l1: 795.194\n",
      "[87]\tvalid_0's l2: 2.48546e+06\tvalid_0's l1: 792.646\n",
      "[88]\tvalid_0's l2: 2.47333e+06\tvalid_0's l1: 789.889\n",
      "[89]\tvalid_0's l2: 2.46501e+06\tvalid_0's l1: 787.869\n",
      "[90]\tvalid_0's l2: 2.4546e+06\tvalid_0's l1: 786.2\n",
      "[91]\tvalid_0's l2: 2.44525e+06\tvalid_0's l1: 784.387\n",
      "[92]\tvalid_0's l2: 2.43472e+06\tvalid_0's l1: 782.395\n",
      "[93]\tvalid_0's l2: 2.42667e+06\tvalid_0's l1: 780.736\n",
      "[94]\tvalid_0's l2: 2.41808e+06\tvalid_0's l1: 779.013\n",
      "[95]\tvalid_0's l2: 2.40942e+06\tvalid_0's l1: 777.156\n",
      "[96]\tvalid_0's l2: 2.40037e+06\tvalid_0's l1: 775.503\n",
      "[97]\tvalid_0's l2: 2.39174e+06\tvalid_0's l1: 773.974\n",
      "[98]\tvalid_0's l2: 2.38414e+06\tvalid_0's l1: 772.939\n",
      "[99]\tvalid_0's l2: 2.37667e+06\tvalid_0's l1: 771.388\n",
      "[100]\tvalid_0's l2: 2.36947e+06\tvalid_0's l1: 769.903\n",
      "[101]\tvalid_0's l2: 2.36214e+06\tvalid_0's l1: 768.32\n",
      "[102]\tvalid_0's l2: 2.3555e+06\tvalid_0's l1: 767.224\n",
      "[103]\tvalid_0's l2: 2.3463e+06\tvalid_0's l1: 765.074\n",
      "[104]\tvalid_0's l2: 2.3417e+06\tvalid_0's l1: 764.121\n",
      "[105]\tvalid_0's l2: 2.33392e+06\tvalid_0's l1: 762.346\n",
      "[106]\tvalid_0's l2: 2.32782e+06\tvalid_0's l1: 761.644\n",
      "[107]\tvalid_0's l2: 2.32155e+06\tvalid_0's l1: 760.435\n",
      "[108]\tvalid_0's l2: 2.31467e+06\tvalid_0's l1: 759.367\n",
      "[109]\tvalid_0's l2: 2.30806e+06\tvalid_0's l1: 757.971\n",
      "[110]\tvalid_0's l2: 2.30274e+06\tvalid_0's l1: 757.095\n",
      "[111]\tvalid_0's l2: 2.29571e+06\tvalid_0's l1: 755.283\n",
      "[112]\tvalid_0's l2: 2.28943e+06\tvalid_0's l1: 754.199\n",
      "[113]\tvalid_0's l2: 2.28517e+06\tvalid_0's l1: 753.48\n",
      "[114]\tvalid_0's l2: 2.27927e+06\tvalid_0's l1: 752.382\n",
      "[115]\tvalid_0's l2: 2.27562e+06\tvalid_0's l1: 751.509\n",
      "[116]\tvalid_0's l2: 2.27065e+06\tvalid_0's l1: 750.45\n",
      "[117]\tvalid_0's l2: 2.26498e+06\tvalid_0's l1: 749.533\n",
      "[118]\tvalid_0's l2: 2.26052e+06\tvalid_0's l1: 748.401\n",
      "[119]\tvalid_0's l2: 2.25336e+06\tvalid_0's l1: 746.837\n",
      "[120]\tvalid_0's l2: 2.24941e+06\tvalid_0's l1: 746.308\n",
      "[121]\tvalid_0's l2: 2.24572e+06\tvalid_0's l1: 745.521\n",
      "[122]\tvalid_0's l2: 2.2433e+06\tvalid_0's l1: 744.972\n",
      "[123]\tvalid_0's l2: 2.23792e+06\tvalid_0's l1: 743.897\n",
      "[124]\tvalid_0's l2: 2.23196e+06\tvalid_0's l1: 742.888\n",
      "[125]\tvalid_0's l2: 2.22704e+06\tvalid_0's l1: 741.531\n",
      "[126]\tvalid_0's l2: 2.22492e+06\tvalid_0's l1: 740.924\n",
      "[127]\tvalid_0's l2: 2.22119e+06\tvalid_0's l1: 740.222\n",
      "[128]\tvalid_0's l2: 2.21763e+06\tvalid_0's l1: 739.271\n",
      "[129]\tvalid_0's l2: 2.2123e+06\tvalid_0's l1: 738.269\n",
      "[130]\tvalid_0's l2: 2.20669e+06\tvalid_0's l1: 737.193\n",
      "[131]\tvalid_0's l2: 2.20289e+06\tvalid_0's l1: 736.453\n",
      "[132]\tvalid_0's l2: 2.19991e+06\tvalid_0's l1: 735.837\n",
      "[133]\tvalid_0's l2: 2.19404e+06\tvalid_0's l1: 735.27\n",
      "[134]\tvalid_0's l2: 2.18963e+06\tvalid_0's l1: 734.595\n",
      "[135]\tvalid_0's l2: 2.18607e+06\tvalid_0's l1: 734.143\n",
      "[136]\tvalid_0's l2: 2.18307e+06\tvalid_0's l1: 733.486\n",
      "[137]\tvalid_0's l2: 2.1807e+06\tvalid_0's l1: 732.92\n",
      "[138]\tvalid_0's l2: 2.17465e+06\tvalid_0's l1: 732.105\n",
      "[139]\tvalid_0's l2: 2.17031e+06\tvalid_0's l1: 731.546\n",
      "[140]\tvalid_0's l2: 2.16636e+06\tvalid_0's l1: 730.333\n",
      "[141]\tvalid_0's l2: 2.16189e+06\tvalid_0's l1: 729.476\n",
      "[142]\tvalid_0's l2: 2.15863e+06\tvalid_0's l1: 728.758\n",
      "[143]\tvalid_0's l2: 2.15541e+06\tvalid_0's l1: 728.086\n",
      "[144]\tvalid_0's l2: 2.1524e+06\tvalid_0's l1: 727.589\n",
      "[145]\tvalid_0's l2: 2.14872e+06\tvalid_0's l1: 726.854\n",
      "[146]\tvalid_0's l2: 2.14649e+06\tvalid_0's l1: 726.546\n",
      "[147]\tvalid_0's l2: 2.14393e+06\tvalid_0's l1: 725.698\n",
      "[148]\tvalid_0's l2: 2.14084e+06\tvalid_0's l1: 725.065\n",
      "[149]\tvalid_0's l2: 2.13899e+06\tvalid_0's l1: 724.641\n",
      "[150]\tvalid_0's l2: 2.13519e+06\tvalid_0's l1: 724.076\n",
      "[151]\tvalid_0's l2: 2.1338e+06\tvalid_0's l1: 723.772\n",
      "[152]\tvalid_0's l2: 2.12975e+06\tvalid_0's l1: 722.462\n",
      "[153]\tvalid_0's l2: 2.12721e+06\tvalid_0's l1: 722.07\n",
      "[154]\tvalid_0's l2: 2.12455e+06\tvalid_0's l1: 721.365\n",
      "[155]\tvalid_0's l2: 2.12155e+06\tvalid_0's l1: 720.771\n",
      "[156]\tvalid_0's l2: 2.11981e+06\tvalid_0's l1: 720.108\n",
      "[157]\tvalid_0's l2: 2.11665e+06\tvalid_0's l1: 719.441\n",
      "[158]\tvalid_0's l2: 2.11375e+06\tvalid_0's l1: 718.792\n",
      "[159]\tvalid_0's l2: 2.11104e+06\tvalid_0's l1: 718.136\n",
      "[160]\tvalid_0's l2: 2.10814e+06\tvalid_0's l1: 717.659\n",
      "[161]\tvalid_0's l2: 2.10549e+06\tvalid_0's l1: 717.045\n",
      "[162]\tvalid_0's l2: 2.10272e+06\tvalid_0's l1: 716.713\n",
      "[163]\tvalid_0's l2: 2.0994e+06\tvalid_0's l1: 716.311\n",
      "[164]\tvalid_0's l2: 2.09649e+06\tvalid_0's l1: 715.629\n",
      "[165]\tvalid_0's l2: 2.09517e+06\tvalid_0's l1: 715.408\n",
      "[166]\tvalid_0's l2: 2.09289e+06\tvalid_0's l1: 714.951\n",
      "[167]\tvalid_0's l2: 2.09104e+06\tvalid_0's l1: 714.548\n",
      "[168]\tvalid_0's l2: 2.08824e+06\tvalid_0's l1: 714.269\n",
      "[169]\tvalid_0's l2: 2.08597e+06\tvalid_0's l1: 713.857\n",
      "[170]\tvalid_0's l2: 2.08354e+06\tvalid_0's l1: 713.211\n",
      "[171]\tvalid_0's l2: 2.08154e+06\tvalid_0's l1: 712.854\n",
      "[172]\tvalid_0's l2: 2.07901e+06\tvalid_0's l1: 712.413\n",
      "[173]\tvalid_0's l2: 2.0772e+06\tvalid_0's l1: 712.152\n",
      "[174]\tvalid_0's l2: 2.07491e+06\tvalid_0's l1: 711.738\n",
      "[175]\tvalid_0's l2: 2.07285e+06\tvalid_0's l1: 711.326\n",
      "[176]\tvalid_0's l2: 2.06971e+06\tvalid_0's l1: 710.54\n",
      "[177]\tvalid_0's l2: 2.06827e+06\tvalid_0's l1: 710.133\n",
      "[178]\tvalid_0's l2: 2.0664e+06\tvalid_0's l1: 709.72\n",
      "[179]\tvalid_0's l2: 2.06482e+06\tvalid_0's l1: 709.403\n",
      "[180]\tvalid_0's l2: 2.06254e+06\tvalid_0's l1: 709.099\n",
      "[181]\tvalid_0's l2: 2.06097e+06\tvalid_0's l1: 708.785\n",
      "[182]\tvalid_0's l2: 2.05806e+06\tvalid_0's l1: 708.414\n",
      "[183]\tvalid_0's l2: 2.05605e+06\tvalid_0's l1: 707.808\n",
      "[184]\tvalid_0's l2: 2.05411e+06\tvalid_0's l1: 707.351\n",
      "[185]\tvalid_0's l2: 2.05111e+06\tvalid_0's l1: 706.665\n",
      "[186]\tvalid_0's l2: 2.04885e+06\tvalid_0's l1: 706.163\n",
      "[187]\tvalid_0's l2: 2.04669e+06\tvalid_0's l1: 705.835\n",
      "[188]\tvalid_0's l2: 2.04526e+06\tvalid_0's l1: 705.508\n",
      "[189]\tvalid_0's l2: 2.04367e+06\tvalid_0's l1: 705.285\n",
      "[190]\tvalid_0's l2: 2.04158e+06\tvalid_0's l1: 704.91\n",
      "[191]\tvalid_0's l2: 2.03978e+06\tvalid_0's l1: 704.585\n",
      "[192]\tvalid_0's l2: 2.03704e+06\tvalid_0's l1: 703.969\n",
      "[193]\tvalid_0's l2: 2.03574e+06\tvalid_0's l1: 703.809\n",
      "[194]\tvalid_0's l2: 2.03415e+06\tvalid_0's l1: 703.354\n",
      "[195]\tvalid_0's l2: 2.0315e+06\tvalid_0's l1: 702.336\n",
      "[196]\tvalid_0's l2: 2.02991e+06\tvalid_0's l1: 701.766\n",
      "[197]\tvalid_0's l2: 2.02943e+06\tvalid_0's l1: 701.687\n",
      "[198]\tvalid_0's l2: 2.02645e+06\tvalid_0's l1: 701.128\n",
      "[199]\tvalid_0's l2: 2.02342e+06\tvalid_0's l1: 699.985\n",
      "[200]\tvalid_0's l2: 2.02181e+06\tvalid_0's l1: 699.577\n",
      "[201]\tvalid_0's l2: 2.02031e+06\tvalid_0's l1: 699.249\n",
      "[202]\tvalid_0's l2: 2.01815e+06\tvalid_0's l1: 698.968\n",
      "[203]\tvalid_0's l2: 2.0171e+06\tvalid_0's l1: 698.761\n",
      "[204]\tvalid_0's l2: 2.01427e+06\tvalid_0's l1: 697.996\n",
      "[205]\tvalid_0's l2: 2.01127e+06\tvalid_0's l1: 696.969\n",
      "[206]\tvalid_0's l2: 2.00877e+06\tvalid_0's l1: 696.218\n",
      "[207]\tvalid_0's l2: 2.00752e+06\tvalid_0's l1: 696.034\n",
      "[208]\tvalid_0's l2: 2.00539e+06\tvalid_0's l1: 695.829\n",
      "[209]\tvalid_0's l2: 2.00477e+06\tvalid_0's l1: 695.622\n",
      "[210]\tvalid_0's l2: 2.00233e+06\tvalid_0's l1: 695.203\n",
      "[211]\tvalid_0's l2: 2.00071e+06\tvalid_0's l1: 694.894\n",
      "[212]\tvalid_0's l2: 1.99943e+06\tvalid_0's l1: 694.536\n",
      "[213]\tvalid_0's l2: 1.99854e+06\tvalid_0's l1: 694.361\n",
      "[214]\tvalid_0's l2: 1.99746e+06\tvalid_0's l1: 694.139\n",
      "[215]\tvalid_0's l2: 1.99708e+06\tvalid_0's l1: 694.069\n",
      "[216]\tvalid_0's l2: 1.99646e+06\tvalid_0's l1: 693.961\n",
      "[217]\tvalid_0's l2: 1.99448e+06\tvalid_0's l1: 693.517\n",
      "[218]\tvalid_0's l2: 1.99289e+06\tvalid_0's l1: 693.294\n",
      "[219]\tvalid_0's l2: 1.9918e+06\tvalid_0's l1: 693.158\n",
      "[220]\tvalid_0's l2: 1.9906e+06\tvalid_0's l1: 692.986\n",
      "[221]\tvalid_0's l2: 1.98955e+06\tvalid_0's l1: 692.692\n",
      "[222]\tvalid_0's l2: 1.98712e+06\tvalid_0's l1: 691.865\n",
      "[223]\tvalid_0's l2: 1.98504e+06\tvalid_0's l1: 691.398\n",
      "[224]\tvalid_0's l2: 1.98295e+06\tvalid_0's l1: 690.771\n",
      "[225]\tvalid_0's l2: 1.98191e+06\tvalid_0's l1: 690.509\n",
      "[226]\tvalid_0's l2: 1.98044e+06\tvalid_0's l1: 690.216\n",
      "[227]\tvalid_0's l2: 1.98028e+06\tvalid_0's l1: 690.046\n",
      "[228]\tvalid_0's l2: 1.97838e+06\tvalid_0's l1: 689.757\n",
      "[229]\tvalid_0's l2: 1.97751e+06\tvalid_0's l1: 689.625\n",
      "[230]\tvalid_0's l2: 1.97626e+06\tvalid_0's l1: 689.392\n",
      "[231]\tvalid_0's l2: 1.97467e+06\tvalid_0's l1: 689.161\n",
      "[232]\tvalid_0's l2: 1.97277e+06\tvalid_0's l1: 688.605\n",
      "[233]\tvalid_0's l2: 1.97107e+06\tvalid_0's l1: 688.394\n",
      "[234]\tvalid_0's l2: 1.96888e+06\tvalid_0's l1: 687.8\n",
      "[235]\tvalid_0's l2: 1.96741e+06\tvalid_0's l1: 687.562\n",
      "[236]\tvalid_0's l2: 1.96686e+06\tvalid_0's l1: 687.39\n",
      "[237]\tvalid_0's l2: 1.96646e+06\tvalid_0's l1: 687.295\n",
      "[238]\tvalid_0's l2: 1.96493e+06\tvalid_0's l1: 686.995\n",
      "[239]\tvalid_0's l2: 1.96264e+06\tvalid_0's l1: 685.901\n",
      "[240]\tvalid_0's l2: 1.9613e+06\tvalid_0's l1: 685.722\n",
      "[241]\tvalid_0's l2: 1.96051e+06\tvalid_0's l1: 685.402\n",
      "[242]\tvalid_0's l2: 1.9594e+06\tvalid_0's l1: 685.112\n",
      "[243]\tvalid_0's l2: 1.95758e+06\tvalid_0's l1: 684.556\n",
      "[244]\tvalid_0's l2: 1.9569e+06\tvalid_0's l1: 684.258\n",
      "[245]\tvalid_0's l2: 1.95561e+06\tvalid_0's l1: 683.9\n",
      "[246]\tvalid_0's l2: 1.95375e+06\tvalid_0's l1: 683.739\n",
      "[247]\tvalid_0's l2: 1.95313e+06\tvalid_0's l1: 683.499\n",
      "[248]\tvalid_0's l2: 1.95131e+06\tvalid_0's l1: 683.012\n",
      "[249]\tvalid_0's l2: 1.95022e+06\tvalid_0's l1: 682.73\n",
      "[250]\tvalid_0's l2: 1.9476e+06\tvalid_0's l1: 681.925\n",
      "[251]\tvalid_0's l2: 1.94628e+06\tvalid_0's l1: 681.48\n",
      "[252]\tvalid_0's l2: 1.94514e+06\tvalid_0's l1: 680.966\n",
      "[253]\tvalid_0's l2: 1.94393e+06\tvalid_0's l1: 680.795\n",
      "[254]\tvalid_0's l2: 1.9435e+06\tvalid_0's l1: 680.672\n",
      "[255]\tvalid_0's l2: 1.94379e+06\tvalid_0's l1: 680.599\n",
      "[256]\tvalid_0's l2: 1.9429e+06\tvalid_0's l1: 680.409\n",
      "[257]\tvalid_0's l2: 1.94147e+06\tvalid_0's l1: 680.075\n",
      "[258]\tvalid_0's l2: 1.94033e+06\tvalid_0's l1: 679.855\n",
      "[259]\tvalid_0's l2: 1.93968e+06\tvalid_0's l1: 679.745\n",
      "[260]\tvalid_0's l2: 1.93854e+06\tvalid_0's l1: 679.403\n",
      "[261]\tvalid_0's l2: 1.93794e+06\tvalid_0's l1: 679.264\n",
      "[262]\tvalid_0's l2: 1.93751e+06\tvalid_0's l1: 679.238\n",
      "[263]\tvalid_0's l2: 1.93712e+06\tvalid_0's l1: 679.098\n",
      "[264]\tvalid_0's l2: 1.93624e+06\tvalid_0's l1: 678.816\n",
      "[265]\tvalid_0's l2: 1.93436e+06\tvalid_0's l1: 677.922\n",
      "[266]\tvalid_0's l2: 1.93329e+06\tvalid_0's l1: 677.785\n",
      "[267]\tvalid_0's l2: 1.9316e+06\tvalid_0's l1: 677.157\n",
      "[268]\tvalid_0's l2: 1.9308e+06\tvalid_0's l1: 676.912\n",
      "[269]\tvalid_0's l2: 1.92907e+06\tvalid_0's l1: 676.789\n",
      "[270]\tvalid_0's l2: 1.92763e+06\tvalid_0's l1: 676.381\n",
      "[271]\tvalid_0's l2: 1.92637e+06\tvalid_0's l1: 676.158\n",
      "[272]\tvalid_0's l2: 1.92427e+06\tvalid_0's l1: 675.652\n",
      "[273]\tvalid_0's l2: 1.92381e+06\tvalid_0's l1: 675.597\n",
      "[274]\tvalid_0's l2: 1.9232e+06\tvalid_0's l1: 675.482\n",
      "[275]\tvalid_0's l2: 1.92277e+06\tvalid_0's l1: 675.332\n",
      "[276]\tvalid_0's l2: 1.92092e+06\tvalid_0's l1: 674.696\n",
      "[277]\tvalid_0's l2: 1.91945e+06\tvalid_0's l1: 674.214\n",
      "[278]\tvalid_0's l2: 1.91851e+06\tvalid_0's l1: 674.092\n",
      "[279]\tvalid_0's l2: 1.91834e+06\tvalid_0's l1: 674.073\n",
      "[280]\tvalid_0's l2: 1.9176e+06\tvalid_0's l1: 673.74\n",
      "[281]\tvalid_0's l2: 1.91727e+06\tvalid_0's l1: 673.617\n",
      "[282]\tvalid_0's l2: 1.91647e+06\tvalid_0's l1: 673.405\n",
      "[283]\tvalid_0's l2: 1.91602e+06\tvalid_0's l1: 673.385\n",
      "[284]\tvalid_0's l2: 1.91427e+06\tvalid_0's l1: 672.991\n",
      "[285]\tvalid_0's l2: 1.91343e+06\tvalid_0's l1: 672.869\n",
      "[286]\tvalid_0's l2: 1.91138e+06\tvalid_0's l1: 672.244\n",
      "[287]\tvalid_0's l2: 1.91068e+06\tvalid_0's l1: 671.813\n",
      "[288]\tvalid_0's l2: 1.90917e+06\tvalid_0's l1: 671.524\n",
      "[289]\tvalid_0's l2: 1.90797e+06\tvalid_0's l1: 671.42\n",
      "[290]\tvalid_0's l2: 1.90684e+06\tvalid_0's l1: 670.885\n",
      "[291]\tvalid_0's l2: 1.90542e+06\tvalid_0's l1: 670.702\n",
      "[292]\tvalid_0's l2: 1.90504e+06\tvalid_0's l1: 670.543\n",
      "[293]\tvalid_0's l2: 1.90428e+06\tvalid_0's l1: 670.274\n",
      "[294]\tvalid_0's l2: 1.90389e+06\tvalid_0's l1: 670.105\n",
      "[295]\tvalid_0's l2: 1.90359e+06\tvalid_0's l1: 669.947\n",
      "[296]\tvalid_0's l2: 1.90321e+06\tvalid_0's l1: 669.856\n",
      "[297]\tvalid_0's l2: 1.90259e+06\tvalid_0's l1: 669.701\n",
      "[298]\tvalid_0's l2: 1.90152e+06\tvalid_0's l1: 668.961\n",
      "[299]\tvalid_0's l2: 1.90165e+06\tvalid_0's l1: 668.975\n",
      "[300]\tvalid_0's l2: 1.90102e+06\tvalid_0's l1: 668.825\n",
      "[301]\tvalid_0's l2: 1.90005e+06\tvalid_0's l1: 668.497\n",
      "[302]\tvalid_0's l2: 1.89847e+06\tvalid_0's l1: 667.931\n",
      "[303]\tvalid_0's l2: 1.8977e+06\tvalid_0's l1: 667.754\n",
      "[304]\tvalid_0's l2: 1.89725e+06\tvalid_0's l1: 667.584\n",
      "[305]\tvalid_0's l2: 1.89561e+06\tvalid_0's l1: 666.727\n",
      "[306]\tvalid_0's l2: 1.89492e+06\tvalid_0's l1: 666.558\n",
      "[307]\tvalid_0's l2: 1.89349e+06\tvalid_0's l1: 666.225\n",
      "[308]\tvalid_0's l2: 1.89284e+06\tvalid_0's l1: 666.109\n",
      "[309]\tvalid_0's l2: 1.89327e+06\tvalid_0's l1: 666.02\n",
      "[310]\tvalid_0's l2: 1.89336e+06\tvalid_0's l1: 665.982\n",
      "[311]\tvalid_0's l2: 1.8923e+06\tvalid_0's l1: 665.834\n",
      "[312]\tvalid_0's l2: 1.89056e+06\tvalid_0's l1: 665.422\n",
      "[313]\tvalid_0's l2: 1.88955e+06\tvalid_0's l1: 665.148\n",
      "[314]\tvalid_0's l2: 1.88811e+06\tvalid_0's l1: 664.683\n",
      "[315]\tvalid_0's l2: 1.88704e+06\tvalid_0's l1: 664.241\n",
      "[316]\tvalid_0's l2: 1.88624e+06\tvalid_0's l1: 664.115\n",
      "[317]\tvalid_0's l2: 1.88546e+06\tvalid_0's l1: 663.938\n",
      "[318]\tvalid_0's l2: 1.8838e+06\tvalid_0's l1: 663.432\n",
      "[319]\tvalid_0's l2: 1.8833e+06\tvalid_0's l1: 663.352\n",
      "[320]\tvalid_0's l2: 1.88186e+06\tvalid_0's l1: 662.76\n",
      "[321]\tvalid_0's l2: 1.88176e+06\tvalid_0's l1: 662.677\n",
      "[322]\tvalid_0's l2: 1.88108e+06\tvalid_0's l1: 662.528\n",
      "[323]\tvalid_0's l2: 1.87977e+06\tvalid_0's l1: 662.287\n",
      "[324]\tvalid_0's l2: 1.87952e+06\tvalid_0's l1: 662.243\n",
      "[325]\tvalid_0's l2: 1.87812e+06\tvalid_0's l1: 662.136\n",
      "[326]\tvalid_0's l2: 1.87785e+06\tvalid_0's l1: 662.073\n",
      "[327]\tvalid_0's l2: 1.87745e+06\tvalid_0's l1: 661.976\n",
      "[328]\tvalid_0's l2: 1.87717e+06\tvalid_0's l1: 661.964\n",
      "[329]\tvalid_0's l2: 1.87667e+06\tvalid_0's l1: 661.853\n",
      "[330]\tvalid_0's l2: 1.8774e+06\tvalid_0's l1: 661.856\n",
      "[331]\tvalid_0's l2: 1.87692e+06\tvalid_0's l1: 661.615\n",
      "[332]\tvalid_0's l2: 1.87554e+06\tvalid_0's l1: 661.211\n",
      "[333]\tvalid_0's l2: 1.87431e+06\tvalid_0's l1: 660.828\n",
      "[334]\tvalid_0's l2: 1.87359e+06\tvalid_0's l1: 660.758\n",
      "[335]\tvalid_0's l2: 1.87209e+06\tvalid_0's l1: 660.45\n",
      "[336]\tvalid_0's l2: 1.87034e+06\tvalid_0's l1: 660.334\n",
      "[337]\tvalid_0's l2: 1.86904e+06\tvalid_0's l1: 659.856\n",
      "[338]\tvalid_0's l2: 1.86814e+06\tvalid_0's l1: 659.484\n",
      "[339]\tvalid_0's l2: 1.86788e+06\tvalid_0's l1: 659.429\n",
      "[340]\tvalid_0's l2: 1.8669e+06\tvalid_0's l1: 659.279\n",
      "[341]\tvalid_0's l2: 1.86638e+06\tvalid_0's l1: 659.105\n",
      "[342]\tvalid_0's l2: 1.86553e+06\tvalid_0's l1: 658.8\n",
      "[343]\tvalid_0's l2: 1.86558e+06\tvalid_0's l1: 658.782\n",
      "[344]\tvalid_0's l2: 1.86499e+06\tvalid_0's l1: 658.619\n",
      "[345]\tvalid_0's l2: 1.86449e+06\tvalid_0's l1: 658.543\n",
      "[346]\tvalid_0's l2: 1.86388e+06\tvalid_0's l1: 658.366\n",
      "[347]\tvalid_0's l2: 1.86356e+06\tvalid_0's l1: 658.214\n",
      "[348]\tvalid_0's l2: 1.86349e+06\tvalid_0's l1: 658.141\n",
      "[349]\tvalid_0's l2: 1.86245e+06\tvalid_0's l1: 657.678\n",
      "[350]\tvalid_0's l2: 1.86116e+06\tvalid_0's l1: 657.584\n",
      "[351]\tvalid_0's l2: 1.86015e+06\tvalid_0's l1: 657.011\n",
      "[352]\tvalid_0's l2: 1.85934e+06\tvalid_0's l1: 656.869\n",
      "[353]\tvalid_0's l2: 1.8592e+06\tvalid_0's l1: 656.85\n",
      "[354]\tvalid_0's l2: 1.85873e+06\tvalid_0's l1: 656.725\n",
      "[355]\tvalid_0's l2: 1.85762e+06\tvalid_0's l1: 656.393\n",
      "[356]\tvalid_0's l2: 1.85612e+06\tvalid_0's l1: 656.257\n",
      "[357]\tvalid_0's l2: 1.85641e+06\tvalid_0's l1: 656.188\n",
      "[358]\tvalid_0's l2: 1.85558e+06\tvalid_0's l1: 655.98\n",
      "[359]\tvalid_0's l2: 1.85625e+06\tvalid_0's l1: 656.001\n",
      "[360]\tvalid_0's l2: 1.85533e+06\tvalid_0's l1: 655.687\n",
      "[361]\tvalid_0's l2: 1.85473e+06\tvalid_0's l1: 655.68\n",
      "[362]\tvalid_0's l2: 1.8536e+06\tvalid_0's l1: 655.165\n",
      "[363]\tvalid_0's l2: 1.8524e+06\tvalid_0's l1: 654.697\n",
      "[364]\tvalid_0's l2: 1.85143e+06\tvalid_0's l1: 654.471\n",
      "[365]\tvalid_0's l2: 1.85177e+06\tvalid_0's l1: 654.487\n",
      "[366]\tvalid_0's l2: 1.85175e+06\tvalid_0's l1: 654.396\n",
      "[367]\tvalid_0's l2: 1.85171e+06\tvalid_0's l1: 654.296\n",
      "[368]\tvalid_0's l2: 1.85178e+06\tvalid_0's l1: 654.23\n",
      "[369]\tvalid_0's l2: 1.85135e+06\tvalid_0's l1: 654.134\n",
      "[370]\tvalid_0's l2: 1.85066e+06\tvalid_0's l1: 653.776\n",
      "[371]\tvalid_0's l2: 1.85051e+06\tvalid_0's l1: 653.701\n",
      "[372]\tvalid_0's l2: 1.85076e+06\tvalid_0's l1: 653.636\n",
      "[373]\tvalid_0's l2: 1.8486e+06\tvalid_0's l1: 653.275\n",
      "[374]\tvalid_0's l2: 1.84749e+06\tvalid_0's l1: 653.126\n",
      "[375]\tvalid_0's l2: 1.84693e+06\tvalid_0's l1: 652.901\n",
      "[376]\tvalid_0's l2: 1.84674e+06\tvalid_0's l1: 652.919\n",
      "[377]\tvalid_0's l2: 1.84594e+06\tvalid_0's l1: 652.792\n",
      "[378]\tvalid_0's l2: 1.84508e+06\tvalid_0's l1: 652.492\n",
      "[379]\tvalid_0's l2: 1.84483e+06\tvalid_0's l1: 652.402\n",
      "[380]\tvalid_0's l2: 1.8447e+06\tvalid_0's l1: 652.385\n",
      "[381]\tvalid_0's l2: 1.84358e+06\tvalid_0's l1: 652.22\n",
      "[382]\tvalid_0's l2: 1.84381e+06\tvalid_0's l1: 652.203\n",
      "[383]\tvalid_0's l2: 1.84174e+06\tvalid_0's l1: 651.855\n",
      "[384]\tvalid_0's l2: 1.84144e+06\tvalid_0's l1: 651.749\n",
      "[385]\tvalid_0's l2: 1.84131e+06\tvalid_0's l1: 651.646\n",
      "[386]\tvalid_0's l2: 1.84172e+06\tvalid_0's l1: 651.62\n",
      "[387]\tvalid_0's l2: 1.84127e+06\tvalid_0's l1: 651.491\n",
      "[388]\tvalid_0's l2: 1.84e+06\tvalid_0's l1: 651.044\n",
      "[389]\tvalid_0's l2: 1.83873e+06\tvalid_0's l1: 650.757\n",
      "[390]\tvalid_0's l2: 1.83795e+06\tvalid_0's l1: 650.144\n",
      "[391]\tvalid_0's l2: 1.83742e+06\tvalid_0's l1: 649.93\n",
      "[392]\tvalid_0's l2: 1.83671e+06\tvalid_0's l1: 649.885\n",
      "[393]\tvalid_0's l2: 1.83611e+06\tvalid_0's l1: 649.822\n",
      "[394]\tvalid_0's l2: 1.83535e+06\tvalid_0's l1: 649.394\n",
      "[395]\tvalid_0's l2: 1.83538e+06\tvalid_0's l1: 649.361\n",
      "[396]\tvalid_0's l2: 1.83483e+06\tvalid_0's l1: 649.221\n",
      "[397]\tvalid_0's l2: 1.83402e+06\tvalid_0's l1: 648.9\n",
      "[398]\tvalid_0's l2: 1.83302e+06\tvalid_0's l1: 648.655\n",
      "[399]\tvalid_0's l2: 1.83258e+06\tvalid_0's l1: 648.507\n",
      "[400]\tvalid_0's l2: 1.83214e+06\tvalid_0's l1: 648.284\n",
      "[401]\tvalid_0's l2: 1.83108e+06\tvalid_0's l1: 647.99\n",
      "[402]\tvalid_0's l2: 1.83113e+06\tvalid_0's l1: 647.945\n",
      "[403]\tvalid_0's l2: 1.83049e+06\tvalid_0's l1: 647.871\n",
      "[404]\tvalid_0's l2: 1.82962e+06\tvalid_0's l1: 647.554\n",
      "[405]\tvalid_0's l2: 1.82905e+06\tvalid_0's l1: 647.01\n",
      "[406]\tvalid_0's l2: 1.82861e+06\tvalid_0's l1: 646.929\n",
      "[407]\tvalid_0's l2: 1.82813e+06\tvalid_0's l1: 646.85\n",
      "[408]\tvalid_0's l2: 1.82783e+06\tvalid_0's l1: 646.806\n",
      "[409]\tvalid_0's l2: 1.82703e+06\tvalid_0's l1: 646.602\n",
      "[410]\tvalid_0's l2: 1.82601e+06\tvalid_0's l1: 646.532\n",
      "[411]\tvalid_0's l2: 1.82514e+06\tvalid_0's l1: 646.218\n",
      "[412]\tvalid_0's l2: 1.82509e+06\tvalid_0's l1: 646.146\n",
      "[413]\tvalid_0's l2: 1.82474e+06\tvalid_0's l1: 646.027\n",
      "[414]\tvalid_0's l2: 1.8246e+06\tvalid_0's l1: 645.921\n",
      "[415]\tvalid_0's l2: 1.82393e+06\tvalid_0's l1: 645.645\n",
      "[416]\tvalid_0's l2: 1.82351e+06\tvalid_0's l1: 645.496\n",
      "[417]\tvalid_0's l2: 1.82302e+06\tvalid_0's l1: 645.387\n",
      "[418]\tvalid_0's l2: 1.82369e+06\tvalid_0's l1: 645.404\n",
      "[419]\tvalid_0's l2: 1.82332e+06\tvalid_0's l1: 645.257\n",
      "[420]\tvalid_0's l2: 1.82293e+06\tvalid_0's l1: 645.172\n",
      "[421]\tvalid_0's l2: 1.82263e+06\tvalid_0's l1: 644.576\n",
      "[422]\tvalid_0's l2: 1.82218e+06\tvalid_0's l1: 644.402\n",
      "[423]\tvalid_0's l2: 1.82183e+06\tvalid_0's l1: 644.28\n",
      "[424]\tvalid_0's l2: 1.82117e+06\tvalid_0's l1: 644.229\n",
      "[425]\tvalid_0's l2: 1.82039e+06\tvalid_0's l1: 644.038\n",
      "[426]\tvalid_0's l2: 1.82022e+06\tvalid_0's l1: 643.978\n",
      "[427]\tvalid_0's l2: 1.8195e+06\tvalid_0's l1: 643.865\n",
      "[428]\tvalid_0's l2: 1.81963e+06\tvalid_0's l1: 643.873\n",
      "[429]\tvalid_0's l2: 1.81906e+06\tvalid_0's l1: 643.468\n",
      "[430]\tvalid_0's l2: 1.81887e+06\tvalid_0's l1: 643.279\n",
      "[431]\tvalid_0's l2: 1.81868e+06\tvalid_0's l1: 643.193\n",
      "[432]\tvalid_0's l2: 1.8184e+06\tvalid_0's l1: 643.104\n",
      "[433]\tvalid_0's l2: 1.81792e+06\tvalid_0's l1: 642.783\n",
      "[434]\tvalid_0's l2: 1.81752e+06\tvalid_0's l1: 642.77\n",
      "[435]\tvalid_0's l2: 1.81617e+06\tvalid_0's l1: 642.339\n",
      "[436]\tvalid_0's l2: 1.81534e+06\tvalid_0's l1: 642.11\n",
      "[437]\tvalid_0's l2: 1.8148e+06\tvalid_0's l1: 642.038\n",
      "[438]\tvalid_0's l2: 1.81397e+06\tvalid_0's l1: 642.011\n",
      "[439]\tvalid_0's l2: 1.81395e+06\tvalid_0's l1: 641.95\n",
      "[440]\tvalid_0's l2: 1.81266e+06\tvalid_0's l1: 641.632\n",
      "[441]\tvalid_0's l2: 1.81279e+06\tvalid_0's l1: 641.666\n",
      "[442]\tvalid_0's l2: 1.81328e+06\tvalid_0's l1: 641.643\n",
      "[443]\tvalid_0's l2: 1.8124e+06\tvalid_0's l1: 641.561\n",
      "[444]\tvalid_0's l2: 1.8116e+06\tvalid_0's l1: 641.365\n",
      "[445]\tvalid_0's l2: 1.8107e+06\tvalid_0's l1: 641.053\n",
      "[446]\tvalid_0's l2: 1.8102e+06\tvalid_0's l1: 640.91\n",
      "[447]\tvalid_0's l2: 1.8097e+06\tvalid_0's l1: 640.776\n",
      "[448]\tvalid_0's l2: 1.80954e+06\tvalid_0's l1: 640.731\n",
      "[449]\tvalid_0's l2: 1.80919e+06\tvalid_0's l1: 640.54\n",
      "[450]\tvalid_0's l2: 1.80891e+06\tvalid_0's l1: 640.494\n",
      "[451]\tvalid_0's l2: 1.80825e+06\tvalid_0's l1: 640.375\n",
      "[452]\tvalid_0's l2: 1.80793e+06\tvalid_0's l1: 640.323\n",
      "[453]\tvalid_0's l2: 1.80838e+06\tvalid_0's l1: 640.369\n",
      "[454]\tvalid_0's l2: 1.80756e+06\tvalid_0's l1: 640.12\n",
      "[455]\tvalid_0's l2: 1.80768e+06\tvalid_0's l1: 640.098\n",
      "[456]\tvalid_0's l2: 1.80722e+06\tvalid_0's l1: 639.9\n",
      "[457]\tvalid_0's l2: 1.8065e+06\tvalid_0's l1: 639.618\n",
      "[458]\tvalid_0's l2: 1.80552e+06\tvalid_0's l1: 639.205\n",
      "[459]\tvalid_0's l2: 1.80505e+06\tvalid_0's l1: 639.176\n",
      "[460]\tvalid_0's l2: 1.80494e+06\tvalid_0's l1: 639.15\n",
      "[461]\tvalid_0's l2: 1.80445e+06\tvalid_0's l1: 638.853\n",
      "[462]\tvalid_0's l2: 1.80379e+06\tvalid_0's l1: 638.803\n",
      "[463]\tvalid_0's l2: 1.80316e+06\tvalid_0's l1: 638.706\n",
      "[464]\tvalid_0's l2: 1.80281e+06\tvalid_0's l1: 638.535\n",
      "[465]\tvalid_0's l2: 1.802e+06\tvalid_0's l1: 638.292\n",
      "[466]\tvalid_0's l2: 1.80139e+06\tvalid_0's l1: 638.246\n",
      "[467]\tvalid_0's l2: 1.80094e+06\tvalid_0's l1: 637.885\n",
      "[468]\tvalid_0's l2: 1.8003e+06\tvalid_0's l1: 637.605\n",
      "[469]\tvalid_0's l2: 1.79974e+06\tvalid_0's l1: 637.464\n",
      "[470]\tvalid_0's l2: 1.79945e+06\tvalid_0's l1: 637.402\n",
      "[471]\tvalid_0's l2: 1.79809e+06\tvalid_0's l1: 637.193\n",
      "[472]\tvalid_0's l2: 1.79776e+06\tvalid_0's l1: 637.146\n",
      "[473]\tvalid_0's l2: 1.79695e+06\tvalid_0's l1: 637.002\n",
      "[474]\tvalid_0's l2: 1.79649e+06\tvalid_0's l1: 636.9\n",
      "[475]\tvalid_0's l2: 1.79622e+06\tvalid_0's l1: 636.855\n",
      "[476]\tvalid_0's l2: 1.79607e+06\tvalid_0's l1: 636.708\n",
      "[477]\tvalid_0's l2: 1.79587e+06\tvalid_0's l1: 636.652\n",
      "[478]\tvalid_0's l2: 1.79609e+06\tvalid_0's l1: 636.627\n",
      "[479]\tvalid_0's l2: 1.79552e+06\tvalid_0's l1: 636.362\n",
      "[480]\tvalid_0's l2: 1.79527e+06\tvalid_0's l1: 636.331\n",
      "[481]\tvalid_0's l2: 1.79504e+06\tvalid_0's l1: 636.196\n",
      "[482]\tvalid_0's l2: 1.79455e+06\tvalid_0's l1: 636.044\n",
      "[483]\tvalid_0's l2: 1.79448e+06\tvalid_0's l1: 635.803\n",
      "[484]\tvalid_0's l2: 1.79464e+06\tvalid_0's l1: 635.775\n",
      "[485]\tvalid_0's l2: 1.795e+06\tvalid_0's l1: 635.578\n",
      "[486]\tvalid_0's l2: 1.79476e+06\tvalid_0's l1: 635.387\n",
      "[487]\tvalid_0's l2: 1.79443e+06\tvalid_0's l1: 635.301\n",
      "[488]\tvalid_0's l2: 1.79377e+06\tvalid_0's l1: 635.146\n",
      "[489]\tvalid_0's l2: 1.79312e+06\tvalid_0's l1: 634.952\n",
      "[490]\tvalid_0's l2: 1.79237e+06\tvalid_0's l1: 634.845\n",
      "[491]\tvalid_0's l2: 1.79212e+06\tvalid_0's l1: 634.796\n",
      "[492]\tvalid_0's l2: 1.79158e+06\tvalid_0's l1: 634.657\n",
      "[493]\tvalid_0's l2: 1.79145e+06\tvalid_0's l1: 634.565\n",
      "[494]\tvalid_0's l2: 1.79125e+06\tvalid_0's l1: 634.544\n",
      "[495]\tvalid_0's l2: 1.7905e+06\tvalid_0's l1: 634.251\n",
      "[496]\tvalid_0's l2: 1.79048e+06\tvalid_0's l1: 634.188\n",
      "[497]\tvalid_0's l2: 1.78996e+06\tvalid_0's l1: 633.963\n",
      "[498]\tvalid_0's l2: 1.7896e+06\tvalid_0's l1: 633.753\n",
      "[499]\tvalid_0's l2: 1.78934e+06\tvalid_0's l1: 633.601\n",
      "[500]\tvalid_0's l2: 1.78872e+06\tvalid_0's l1: 633.495\n",
      "[501]\tvalid_0's l2: 1.78864e+06\tvalid_0's l1: 633.433\n",
      "[502]\tvalid_0's l2: 1.78851e+06\tvalid_0's l1: 633.379\n",
      "[503]\tvalid_0's l2: 1.78773e+06\tvalid_0's l1: 633.172\n",
      "[504]\tvalid_0's l2: 1.78736e+06\tvalid_0's l1: 633.128\n",
      "[505]\tvalid_0's l2: 1.78724e+06\tvalid_0's l1: 633.039\n",
      "[506]\tvalid_0's l2: 1.78653e+06\tvalid_0's l1: 632.818\n",
      "[507]\tvalid_0's l2: 1.78656e+06\tvalid_0's l1: 632.763\n",
      "[508]\tvalid_0's l2: 1.78636e+06\tvalid_0's l1: 632.659\n",
      "[509]\tvalid_0's l2: 1.7857e+06\tvalid_0's l1: 632.47\n",
      "[510]\tvalid_0's l2: 1.78556e+06\tvalid_0's l1: 632.434\n",
      "[511]\tvalid_0's l2: 1.78494e+06\tvalid_0's l1: 632.092\n",
      "[512]\tvalid_0's l2: 1.78443e+06\tvalid_0's l1: 632.001\n",
      "[513]\tvalid_0's l2: 1.78425e+06\tvalid_0's l1: 631.839\n",
      "[514]\tvalid_0's l2: 1.78357e+06\tvalid_0's l1: 631.438\n",
      "[515]\tvalid_0's l2: 1.78357e+06\tvalid_0's l1: 631.464\n",
      "[516]\tvalid_0's l2: 1.78321e+06\tvalid_0's l1: 630.994\n",
      "[517]\tvalid_0's l2: 1.78234e+06\tvalid_0's l1: 630.704\n",
      "[518]\tvalid_0's l2: 1.78254e+06\tvalid_0's l1: 630.714\n",
      "[519]\tvalid_0's l2: 1.78191e+06\tvalid_0's l1: 630.526\n",
      "[520]\tvalid_0's l2: 1.78151e+06\tvalid_0's l1: 630.222\n",
      "[521]\tvalid_0's l2: 1.78117e+06\tvalid_0's l1: 630.086\n",
      "[522]\tvalid_0's l2: 1.78073e+06\tvalid_0's l1: 629.901\n",
      "[523]\tvalid_0's l2: 1.78021e+06\tvalid_0's l1: 629.518\n",
      "[524]\tvalid_0's l2: 1.77982e+06\tvalid_0's l1: 629.284\n",
      "[525]\tvalid_0's l2: 1.77912e+06\tvalid_0's l1: 629.2\n",
      "[526]\tvalid_0's l2: 1.77894e+06\tvalid_0's l1: 629.151\n",
      "[527]\tvalid_0's l2: 1.77881e+06\tvalid_0's l1: 628.794\n",
      "[528]\tvalid_0's l2: 1.77853e+06\tvalid_0's l1: 628.611\n",
      "[529]\tvalid_0's l2: 1.7779e+06\tvalid_0's l1: 628.557\n",
      "[530]\tvalid_0's l2: 1.77747e+06\tvalid_0's l1: 628.412\n",
      "[531]\tvalid_0's l2: 1.77697e+06\tvalid_0's l1: 627.841\n",
      "[532]\tvalid_0's l2: 1.7765e+06\tvalid_0's l1: 627.819\n",
      "[533]\tvalid_0's l2: 1.77625e+06\tvalid_0's l1: 627.508\n",
      "[534]\tvalid_0's l2: 1.77549e+06\tvalid_0's l1: 627.396\n",
      "[535]\tvalid_0's l2: 1.775e+06\tvalid_0's l1: 627.291\n",
      "[536]\tvalid_0's l2: 1.77417e+06\tvalid_0's l1: 627.152\n",
      "[537]\tvalid_0's l2: 1.77391e+06\tvalid_0's l1: 626.972\n",
      "[538]\tvalid_0's l2: 1.77309e+06\tvalid_0's l1: 626.718\n",
      "[539]\tvalid_0's l2: 1.77272e+06\tvalid_0's l1: 626.349\n",
      "[540]\tvalid_0's l2: 1.77268e+06\tvalid_0's l1: 626.306\n",
      "[541]\tvalid_0's l2: 1.77246e+06\tvalid_0's l1: 626.233\n",
      "[542]\tvalid_0's l2: 1.77245e+06\tvalid_0's l1: 626.219\n",
      "[543]\tvalid_0's l2: 1.77258e+06\tvalid_0's l1: 626.069\n",
      "[544]\tvalid_0's l2: 1.77244e+06\tvalid_0's l1: 626.031\n",
      "[545]\tvalid_0's l2: 1.77189e+06\tvalid_0's l1: 626.01\n",
      "[546]\tvalid_0's l2: 1.77158e+06\tvalid_0's l1: 625.775\n",
      "[547]\tvalid_0's l2: 1.77155e+06\tvalid_0's l1: 625.715\n",
      "[548]\tvalid_0's l2: 1.77076e+06\tvalid_0's l1: 625.499\n",
      "[549]\tvalid_0's l2: 1.77037e+06\tvalid_0's l1: 625.477\n",
      "[550]\tvalid_0's l2: 1.77013e+06\tvalid_0's l1: 625.36\n",
      "[551]\tvalid_0's l2: 1.76971e+06\tvalid_0's l1: 625.25\n",
      "[552]\tvalid_0's l2: 1.76923e+06\tvalid_0's l1: 625.183\n",
      "[553]\tvalid_0's l2: 1.76895e+06\tvalid_0's l1: 625.085\n",
      "[554]\tvalid_0's l2: 1.76851e+06\tvalid_0's l1: 624.935\n",
      "[555]\tvalid_0's l2: 1.76837e+06\tvalid_0's l1: 624.908\n",
      "[556]\tvalid_0's l2: 1.76804e+06\tvalid_0's l1: 624.798\n",
      "[557]\tvalid_0's l2: 1.7675e+06\tvalid_0's l1: 624.544\n",
      "[558]\tvalid_0's l2: 1.76717e+06\tvalid_0's l1: 624.471\n",
      "[559]\tvalid_0's l2: 1.76703e+06\tvalid_0's l1: 624.45\n",
      "[560]\tvalid_0's l2: 1.76681e+06\tvalid_0's l1: 624.368\n",
      "[561]\tvalid_0's l2: 1.76642e+06\tvalid_0's l1: 624.308\n",
      "[562]\tvalid_0's l2: 1.76638e+06\tvalid_0's l1: 624.269\n",
      "[563]\tvalid_0's l2: 1.76619e+06\tvalid_0's l1: 624.26\n",
      "[564]\tvalid_0's l2: 1.76571e+06\tvalid_0's l1: 623.844\n",
      "[565]\tvalid_0's l2: 1.76506e+06\tvalid_0's l1: 623.74\n",
      "[566]\tvalid_0's l2: 1.76484e+06\tvalid_0's l1: 623.364\n",
      "[567]\tvalid_0's l2: 1.7645e+06\tvalid_0's l1: 623.193\n",
      "[568]\tvalid_0's l2: 1.76433e+06\tvalid_0's l1: 623.158\n",
      "[569]\tvalid_0's l2: 1.76353e+06\tvalid_0's l1: 623.029\n",
      "[570]\tvalid_0's l2: 1.76374e+06\tvalid_0's l1: 622.966\n",
      "[571]\tvalid_0's l2: 1.76351e+06\tvalid_0's l1: 622.922\n",
      "[572]\tvalid_0's l2: 1.76302e+06\tvalid_0's l1: 622.773\n",
      "[573]\tvalid_0's l2: 1.76275e+06\tvalid_0's l1: 622.606\n",
      "[574]\tvalid_0's l2: 1.763e+06\tvalid_0's l1: 622.582\n",
      "[575]\tvalid_0's l2: 1.76293e+06\tvalid_0's l1: 622.536\n",
      "[576]\tvalid_0's l2: 1.76257e+06\tvalid_0's l1: 622.46\n",
      "[577]\tvalid_0's l2: 1.7623e+06\tvalid_0's l1: 622.358\n",
      "[578]\tvalid_0's l2: 1.76209e+06\tvalid_0's l1: 622.157\n",
      "[579]\tvalid_0's l2: 1.76173e+06\tvalid_0's l1: 622.031\n",
      "[580]\tvalid_0's l2: 1.7614e+06\tvalid_0's l1: 621.835\n",
      "[581]\tvalid_0's l2: 1.76144e+06\tvalid_0's l1: 621.795\n",
      "[582]\tvalid_0's l2: 1.76125e+06\tvalid_0's l1: 621.758\n",
      "[583]\tvalid_0's l2: 1.76131e+06\tvalid_0's l1: 621.72\n",
      "[584]\tvalid_0's l2: 1.76064e+06\tvalid_0's l1: 621.636\n",
      "[585]\tvalid_0's l2: 1.76072e+06\tvalid_0's l1: 621.611\n",
      "[586]\tvalid_0's l2: 1.76063e+06\tvalid_0's l1: 621.526\n",
      "[587]\tvalid_0's l2: 1.76049e+06\tvalid_0's l1: 621.443\n",
      "[588]\tvalid_0's l2: 1.76002e+06\tvalid_0's l1: 621.266\n",
      "[589]\tvalid_0's l2: 1.75943e+06\tvalid_0's l1: 621.073\n",
      "[590]\tvalid_0's l2: 1.75954e+06\tvalid_0's l1: 621.025\n",
      "[591]\tvalid_0's l2: 1.75919e+06\tvalid_0's l1: 620.78\n",
      "[592]\tvalid_0's l2: 1.75872e+06\tvalid_0's l1: 620.65\n",
      "[593]\tvalid_0's l2: 1.75873e+06\tvalid_0's l1: 620.615\n",
      "[594]\tvalid_0's l2: 1.75857e+06\tvalid_0's l1: 620.443\n",
      "[595]\tvalid_0's l2: 1.75814e+06\tvalid_0's l1: 620.294\n",
      "[596]\tvalid_0's l2: 1.75774e+06\tvalid_0's l1: 620.14\n",
      "[597]\tvalid_0's l2: 1.75739e+06\tvalid_0's l1: 620\n",
      "[598]\tvalid_0's l2: 1.75712e+06\tvalid_0's l1: 619.932\n",
      "[599]\tvalid_0's l2: 1.75673e+06\tvalid_0's l1: 619.871\n",
      "[600]\tvalid_0's l2: 1.75711e+06\tvalid_0's l1: 619.888\n",
      "[601]\tvalid_0's l2: 1.75664e+06\tvalid_0's l1: 619.823\n",
      "[602]\tvalid_0's l2: 1.75616e+06\tvalid_0's l1: 619.684\n",
      "[603]\tvalid_0's l2: 1.7558e+06\tvalid_0's l1: 619.388\n",
      "[604]\tvalid_0's l2: 1.75552e+06\tvalid_0's l1: 619.157\n",
      "[605]\tvalid_0's l2: 1.75498e+06\tvalid_0's l1: 618.898\n",
      "[606]\tvalid_0's l2: 1.75459e+06\tvalid_0's l1: 618.864\n",
      "[607]\tvalid_0's l2: 1.7547e+06\tvalid_0's l1: 618.842\n",
      "[608]\tvalid_0's l2: 1.75504e+06\tvalid_0's l1: 618.864\n",
      "[609]\tvalid_0's l2: 1.75491e+06\tvalid_0's l1: 618.762\n",
      "[610]\tvalid_0's l2: 1.75525e+06\tvalid_0's l1: 618.762\n",
      "[611]\tvalid_0's l2: 1.75513e+06\tvalid_0's l1: 618.712\n",
      "Early stopping, best iteration is:\n",
      "[606]\tvalid_0's l2: 1.75459e+06\tvalid_0's l1: 618.864\n"
     ]
    },
    {
     "ename": "AttributeError",
     "evalue": "ignored",
     "output_type": "error",
     "traceback": [
      "\u001b[0;31m---------------------------------------------------------------------------\u001b[0m",
      "\u001b[0;31mAttributeError\u001b[0m                            Traceback (most recent call last)",
      "\u001b[0;32m<ipython-input-70-0ceb078745d7>\u001b[0m in \u001b[0;36m<module>\u001b[0;34m()\u001b[0m\n\u001b[1;32m     12\u001b[0m \u001b[0;34m\u001b[0m\u001b[0m\n\u001b[1;32m     13\u001b[0m     \u001b[0mscore\u001b[0m \u001b[0;34m=\u001b[0m \u001b[0mmean_absolute_error\u001b[0m\u001b[0;34m(\u001b[0m\u001b[0my\u001b[0m\u001b[0;34m.\u001b[0m\u001b[0miloc\u001b[0m\u001b[0;34m[\u001b[0m\u001b[0mval_idx\u001b[0m\u001b[0;34m]\u001b[0m\u001b[0;34m,\u001b[0m\u001b[0mval_pred\u001b[0m\u001b[0;34m)\u001b[0m\u001b[0;34m\u001b[0m\u001b[0;34m\u001b[0m\u001b[0m\n\u001b[0;32m---> 14\u001b[0;31m     \u001b[0mscores\u001b[0m\u001b[0;34m.\u001b[0m\u001b[0mappend\u001b[0m\u001b[0;34m(\u001b[0m\u001b[0mscore\u001b[0m\u001b[0;34m)\u001b[0m\u001b[0;34m\u001b[0m\u001b[0;34m\u001b[0m\u001b[0m\n\u001b[0m\u001b[1;32m     15\u001b[0m     \u001b[0mprint\u001b[0m\u001b[0;34m(\u001b[0m \u001b[0;34m'--------------'\u001b[0m\u001b[0;34m)\u001b[0m\u001b[0;34m\u001b[0m\u001b[0;34m\u001b[0m\u001b[0m\n\u001b[1;32m     16\u001b[0m     \u001b[0mprint\u001b[0m\u001b[0;34m(\u001b[0m\u001b[0;34m'val mae:'\u001b[0m\u001b[0;34m,\u001b[0m \u001b[0mnp\u001b[0m\u001b[0;34m.\u001b[0m\u001b[0mmean\u001b[0m\u001b[0;34m(\u001b[0m\u001b[0mscore\u001b[0m\u001b[0;34m)\u001b[0m\u001b[0;34m)\u001b[0m\u001b[0;34m\u001b[0m\u001b[0;34m\u001b[0m\u001b[0m\n",
      "\u001b[0;31mAttributeError\u001b[0m: 'numpy.ndarray' object has no attribute 'append'"
     ]
    }
   ],
   "source": [
    "k = 5\n",
    "fold = StratifiedKFold(n_splits = k, shuffle = True, random_state = 21)\n",
    "\n",
    "models = []\n",
    "\n",
    "for train_idx, val_idx in fold.split(X, y):\n",
    "    model = lgb.LGBMRegressor(objective='regression',num_leaves=31,learning_rate=0.05,n_estimators=2000)\n",
    "    model.fit(X.iloc[train_idx], y.iloc[train_idx],eval_set=[(X.iloc[val_idx], y.iloc[val_idx])],eval_metric='l1',early_stopping_rounds=5)\n",
    "    \n",
    "    models.append(model)\n",
    "    val_pred = model.predict(X.iloc[val_idx])\n",
    "    \n",
    "    score = mean_absolute_error(y.iloc[val_idx],val_pred)\n",
    "    scores.append(score)\n",
    "    print( '--------------')\n",
    "    print('val mae:', np.mean(score))"
   ]
  },
  {
   "cell_type": "markdown",
   "metadata": {
    "colab_type": "text",
    "id": "AvAHBfXrMsC0"
   },
   "source": [
    "### Time series validation"
   ]
  },
  {
   "cell_type": "markdown",
   "metadata": {
    "colab_type": "text",
    "id": "AhbgXO5nMsC1"
   },
   "source": [
    "One of the unique natures of this particular dataset is its time series feature, it would be inappropriate to use the later data to validate on the old ones.\n",
    "\n",
    "So one better solution is to split the dataset while incorporating its time series order, which can achieve quite good performance compared to random 5-fold validation.\n",
    "\n",
    "Below, the first 4/5 will be used as training set and the last 1/5 as validation set."
   ]
  },
  {
   "cell_type": "code",
   "execution_count": 0,
   "metadata": {
    "colab": {},
    "colab_type": "code",
    "id": "R1YWrrcjMsC2"
   },
   "outputs": [],
   "source": [
    "import datetime"
   ]
  },
  {
   "cell_type": "code",
   "execution_count": 0,
   "metadata": {
    "colab": {},
    "colab_type": "code",
    "id": "DKM5T0GcMsC4"
   },
   "outputs": [],
   "source": [
    "sample_feature = sample_feature.reset_index(drop=True)"
   ]
  },
  {
   "cell_type": "code",
   "execution_count": 0,
   "metadata": {
    "colab": {},
    "colab_type": "code",
    "id": "gWxSTrqtMsC6"
   },
   "outputs": [],
   "source": [
    "split_point = len(sample_feature)//5*4"
   ]
  },
  {
   "cell_type": "code",
   "execution_count": 0,
   "metadata": {
    "colab": {},
    "colab_type": "code",
    "id": "UAz3E4kEMsC9"
   },
   "outputs": [],
   "source": [
    "train = sample_feature.loc[:split_point].dropna()\n",
    "val = sample_feature.loc[split_point:].dropna()\n",
    "\n",
    "train_X = train[continuous_feature_names]\n",
    "train_y_ln = np.log(train['price'] + 1)\n",
    "val_X = val[continuous_feature_names]\n",
    "val_y_ln = np.log(val['price'] + 1)"
   ]
  },
  {
   "cell_type": "code",
   "execution_count": 28,
   "metadata": {
    "colab": {
     "base_uri": "https://localhost:8080/",
     "height": 34
    },
    "colab_type": "code",
    "id": "2RrQIZAiMsC_",
    "outputId": "ae559246-3601-4ae8-ced7-9cc3c4ae30be"
   },
   "outputs": [
    {
     "data": {
      "text/plain": [
       "0.19622076130372976"
      ]
     },
     "execution_count": 28,
     "metadata": {
      "tags": []
     },
     "output_type": "execute_result"
    }
   ],
   "source": [
    "# check the MAE with random 5-fold cross validation\n",
    "mean_absolute_error(val_y_ln, model_2.predict(val_X))"
   ]
  },
  {
   "cell_type": "code",
   "execution_count": 0,
   "metadata": {
    "colab": {},
    "colab_type": "code",
    "id": "mPwdVlyxMsDC"
   },
   "outputs": [],
   "source": [
    "model_3 = model.fit(train_X, train_y_ln)"
   ]
  },
  {
   "cell_type": "code",
   "execution_count": 30,
   "metadata": {
    "colab": {
     "base_uri": "https://localhost:8080/",
     "height": 34
    },
    "colab_type": "code",
    "id": "ZFth7B3WMsDF",
    "outputId": "2ba032e8-3330-47c7-dccd-6fd6e402243c"
   },
   "outputs": [
    {
     "data": {
      "text/plain": [
       "0.196139609272794"
      ]
     },
     "execution_count": 30,
     "metadata": {
      "tags": []
     },
     "output_type": "execute_result"
    }
   ],
   "source": [
    "# check the MAE with time series cross validation\n",
    "mean_absolute_error(val_y_ln, model_3.predict(val_X))"
   ]
  },
  {
   "cell_type": "markdown",
   "metadata": {
    "colab_type": "text",
    "id": "tfkAnJS5MsDH"
   },
   "source": [
    "Here, in this case, there is no major difference between the two cross validation method in terms of MAE here. It is always good to try different methods when fitting the data."
   ]
  },
  {
   "cell_type": "code",
   "execution_count": 0,
   "metadata": {
    "colab": {},
    "colab_type": "code",
    "id": "d089bV0jMsDH"
   },
   "outputs": [],
   "source": []
  },
  {
   "cell_type": "code",
   "execution_count": 0,
   "metadata": {
    "colab": {},
    "colab_type": "code",
    "id": "2HKz2CbcMsDJ"
   },
   "outputs": [],
   "source": [
    "from sklearn.model_selection import learning_curve, validation_curve"
   ]
  },
  {
   "cell_type": "code",
   "execution_count": 0,
   "metadata": {
    "colab": {},
    "colab_type": "code",
    "id": "iOF_ncK3MsDP"
   },
   "outputs": [],
   "source": [
    "def plot_learning_curve(estimator, title, X, y, ylim=None, cv=None,n_jobs=1, train_size=np.linspace(.1, 1.0, 5 )):  \n",
    "    \n",
    "    plt.figure()  \n",
    "    plt.title(title)  \n",
    "    \n",
    "    if ylim is not None:  \n",
    "        plt.ylim(*ylim)  \n",
    "        \n",
    "    plt.xlabel('Training example')  \n",
    "    plt.ylabel('score')  \n",
    "    train_sizes, train_scores, test_scores = learning_curve(estimator, X, y, cv=cv, n_jobs=n_jobs, train_sizes=train_size, scoring = make_scorer(mean_absolute_error))  \n",
    "    train_scores_mean = np.mean(train_scores, axis=1)  \n",
    "    train_scores_std = np.std(train_scores, axis=1)  \n",
    "    test_scores_mean = np.mean(test_scores, axis=1)  \n",
    "    test_scores_std = np.std(test_scores, axis=1)  \n",
    "    plt.grid()\n",
    "    plt.fill_between(train_sizes, train_scores_mean - train_scores_std,  \n",
    "                     train_scores_mean + train_scores_std, alpha=0.1,  \n",
    "                     color=\"r\")  \n",
    "    plt.fill_between(train_sizes, test_scores_mean - test_scores_std,  \n",
    "                     test_scores_mean + test_scores_std, alpha=0.1,  \n",
    "                     color=\"g\")  \n",
    "    plt.plot(train_sizes, train_scores_mean, 'o-', color='r',  \n",
    "             label=\"Training score\")  \n",
    "    plt.plot(train_sizes, test_scores_mean,'o-',color=\"g\",  \n",
    "             label=\"Cross-validation score\")  \n",
    "    plt.legend(loc=\"best\")  \n",
    "    \n",
    "    return plt  "
   ]
  },
  {
   "cell_type": "code",
   "execution_count": 33,
   "metadata": {
    "colab": {
     "base_uri": "https://localhost:8080/",
     "height": 312
    },
    "colab_type": "code",
    "id": "fg3X4s0zMsDR",
    "outputId": "1b2ea6dd-1648-477b-8637-523b46f23b02"
   },
   "outputs": [
    {
     "data": {
      "text/plain": [
       "<module 'matplotlib.pyplot' from '/usr/local/lib/python3.6/dist-packages/matplotlib/pyplot.py'>"
      ]
     },
     "execution_count": 33,
     "metadata": {
      "tags": []
     },
     "output_type": "execute_result"
    },
    {
     "data": {
      "image/png": "[encoded data removed]",
      "text/plain": [
       "<Figure size 432x288 with 1 Axes>"
      ]
     },
     "metadata": {
      "tags": []
     },
     "output_type": "display_data"
    }
   ],
   "source": [
    "plot_learning_curve(LinearRegression(), 'Liner_model', \n",
    "                    train_X[:1000], train_y_ln[:1000], \n",
    "                    ylim=(0.0, 0.5), cv=5, n_jobs=1)  "
   ]
  },
  {
   "cell_type": "code",
   "execution_count": 0,
   "metadata": {
    "colab": {},
    "colab_type": "code",
    "id": "a_y2d-UxMsDZ"
   },
   "outputs": [],
   "source": [
    "## prepare for other models"
   ]
  },
  {
   "cell_type": "code",
   "execution_count": 0,
   "metadata": {
    "colab": {},
    "colab_type": "code",
    "id": "Kec5rOktMsDW"
   },
   "outputs": [],
   "source": [
    "train = sample_feature[continuous_feature_names + ['price']].dropna()\n",
    "\n",
    "train_X = train[continuous_feature_names]\n",
    "train_y = train['price']\n",
    "train_y_ln = np.log(train_y + 1)"
   ]
  },
  {
   "cell_type": "markdown",
   "metadata": {
    "colab_type": "text",
    "id": "166hXxCAMsDa"
   },
   "source": [
    "### 2. Linear models & L1/L2 Regularization"
   ]
  },
  {
   "cell_type": "markdown",
   "metadata": {
    "colab_type": "text",
    "id": "88R3qUMlMsDb"
   },
   "source": [
    "Feature selection using Embedding Method"
   ]
  },
  {
   "cell_type": "code",
   "execution_count": 0,
   "metadata": {
    "colab": {},
    "colab_type": "code",
    "id": "nYtpI4mNMsDb"
   },
   "outputs": [],
   "source": [
    "from sklearn.linear_model import LinearRegression\n",
    "from sklearn.linear_model import Ridge  # L2 regularization\n",
    "from sklearn.linear_model import Lasso  # L1 regularization"
   ]
  },
  {
   "cell_type": "code",
   "execution_count": 0,
   "metadata": {
    "colab": {},
    "colab_type": "code",
    "id": "-CuIpD0JMsDg"
   },
   "outputs": [],
   "source": [
    "models = [LinearRegression(),\n",
    "          Ridge(),\n",
    "          Lasso()]"
   ]
  },
  {
   "cell_type": "code",
   "execution_count": 37,
   "metadata": {
    "colab": {
     "base_uri": "https://localhost:8080/",
     "height": 68
    },
    "colab_type": "code",
    "id": "WvEQ1-QkMsDi",
    "outputId": "96e504c9-eaf5-40d1-efa9-7767462c32c2"
   },
   "outputs": [
    {
     "name": "stdout",
     "output_type": "stream",
     "text": [
      "LinearRegression is finished\n",
      "Ridge is finished\n",
      "Lasso is finished\n"
     ]
    }
   ],
   "source": [
    "result = dict()\n",
    "\n",
    "for model in models:\n",
    "    model_name = str(model).split('(')[0]\n",
    "    scores = cross_val_score(model, X=train_X, y=train_y_ln, verbose=0, cv = 5, scoring=make_scorer(mean_absolute_error))\n",
    "    result[model_name] = scores\n",
    "    \n",
    "    print(model_name + ' is finished')"
   ]
  },
  {
   "cell_type": "code",
   "execution_count": 38,
   "metadata": {
    "colab": {
     "base_uri": "https://localhost:8080/",
     "height": 204
    },
    "colab_type": "code",
    "id": "9skQWCVsMsDm",
    "outputId": "4a84e49b-342b-463f-9889-c237f0a7f676"
   },
   "outputs": [
    {
     "data": {
      "text/html": [
       "<div>\n",
       "<style scoped>\n",
       "    .dataframe tbody tr th:only-of-type {\n",
       "        vertical-align: middle;\n",
       "    }\n",
       "\n",
       "    .dataframe tbody tr th {\n",
       "        vertical-align: top;\n",
       "    }\n",
       "\n",
       "    .dataframe thead th {\n",
       "        text-align: right;\n",
       "    }\n",
       "</style>\n",
       "<table border=\"1\" class=\"dataframe\">\n",
       "  <thead>\n",
       "    <tr style=\"text-align: right;\">\n",
       "      <th></th>\n",
       "      <th>LinearRegression</th>\n",
       "      <th>Ridge</th>\n",
       "      <th>Lasso</th>\n",
       "    </tr>\n",
       "  </thead>\n",
       "  <tbody>\n",
       "    <tr>\n",
       "      <th>cv1</th>\n",
       "      <td>0.191031</td>\n",
       "      <td>0.195177</td>\n",
       "      <td>0.416100</td>\n",
       "    </tr>\n",
       "    <tr>\n",
       "      <th>cv2</th>\n",
       "      <td>0.194096</td>\n",
       "      <td>0.197969</td>\n",
       "      <td>0.413232</td>\n",
       "    </tr>\n",
       "    <tr>\n",
       "      <th>cv3</th>\n",
       "      <td>0.194609</td>\n",
       "      <td>0.198633</td>\n",
       "      <td>0.416634</td>\n",
       "    </tr>\n",
       "    <tr>\n",
       "      <th>cv4</th>\n",
       "      <td>0.192132</td>\n",
       "      <td>0.196118</td>\n",
       "      <td>0.412651</td>\n",
       "    </tr>\n",
       "    <tr>\n",
       "      <th>cv5</th>\n",
       "      <td>0.196119</td>\n",
       "      <td>0.200163</td>\n",
       "      <td>0.416120</td>\n",
       "    </tr>\n",
       "  </tbody>\n",
       "</table>\n",
       "</div>"
      ],
      "text/plain": [
       "     LinearRegression     Ridge     Lasso\n",
       "cv1          0.191031  0.195177  0.416100\n",
       "cv2          0.194096  0.197969  0.413232\n",
       "cv3          0.194609  0.198633  0.416634\n",
       "cv4          0.192132  0.196118  0.412651\n",
       "cv5          0.196119  0.200163  0.416120"
      ]
     },
     "execution_count": 38,
     "metadata": {
      "tags": []
     },
     "output_type": "execute_result"
    }
   ],
   "source": [
    "# comparison\n",
    "result = pd.DataFrame(result)\n",
    "result.index = ['cv' + str(x) for x in range(1, 6)]\n",
    "result"
   ]
  },
  {
   "cell_type": "code",
   "execution_count": 39,
   "metadata": {
    "colab": {
     "base_uri": "https://localhost:8080/",
     "height": 34
    },
    "colab_type": "code",
    "id": "7O-vd-d2MsDp",
    "outputId": "79892734-6a54-4d07-f453-5460fe48371f"
   },
   "outputs": [
    {
     "name": "stdout",
     "output_type": "stream",
     "text": [
      "intercept:17.65731814291572\n"
     ]
    }
   ],
   "source": [
    "model_ln = LinearRegression().fit(train_X, train_y_ln)\n",
    "print('intercept:'+ str(model_ln.intercept_))"
   ]
  },
  {
   "cell_type": "code",
   "execution_count": 40,
   "metadata": {
    "colab": {
     "base_uri": "https://localhost:8080/",
     "height": 500
    },
    "colab_type": "code",
    "id": "ZzWVV2FdMsDr",
    "outputId": "3ff7a957-7c6a-458d-82ea-5fde400cc99f"
   },
   "outputs": [
    {
     "data": {
      "text/plain": [
       "<matplotlib.axes._subplots.AxesSubplot at 0x7f4e0c09f518>"
      ]
     },
     "execution_count": 40,
     "metadata": {
      "tags": []
     },
     "output_type": "execute_result"
    },
    {
     "data": {
      "image/png": "[encoded data removed]",
      "text/plain": [
       "<Figure size 432x576 with 1 Axes>"
      ]
     },
     "metadata": {
      "tags": []
     },
     "output_type": "display_data"
    }
   ],
   "source": [
    "plt.figure(figsize=(6,8))\n",
    "sns.barplot(abs(model_ln.coef_), continuous_feature_names)"
   ]
  },
  {
   "cell_type": "code",
   "execution_count": 41,
   "metadata": {
    "colab": {
     "base_uri": "https://localhost:8080/",
     "height": 34
    },
    "colab_type": "code",
    "id": "cxQBo3paMsDw",
    "outputId": "df3d332b-9f47-47b4-cfa5-38ccdb61c47c"
   },
   "outputs": [
    {
     "name": "stdout",
     "output_type": "stream",
     "text": [
      "intercept:0.5195908553242843\n"
     ]
    }
   ],
   "source": [
    "model_l2 = Ridge().fit(train_X, train_y_ln)\n",
    "print('intercept:'+ str(model_l2.intercept_))"
   ]
  },
  {
   "cell_type": "code",
   "execution_count": 42,
   "metadata": {
    "colab": {
     "base_uri": "https://localhost:8080/",
     "height": 500
    },
    "colab_type": "code",
    "id": "qOLXYf_1MsDy",
    "outputId": "53a87f3f-c943-4423-dc07-016dc77e0c05"
   },
   "outputs": [
    {
     "data": {
      "text/plain": [
       "<matplotlib.axes._subplots.AxesSubplot at 0x7f4e0bf68d30>"
      ]
     },
     "execution_count": 42,
     "metadata": {
      "tags": []
     },
     "output_type": "execute_result"
    },
    {
     "data": {
      "image/png": "[encoded data removed]",
      "text/plain": [
       "<Figure size 432x576 with 1 Axes>"
      ]
     },
     "metadata": {
      "tags": []
     },
     "output_type": "display_data"
    }
   ],
   "source": [
    "plt.figure(figsize=(6,8))\n",
    "sns.barplot(abs(model_l2.coef_), continuous_feature_names)"
   ]
  },
  {
   "cell_type": "code",
   "execution_count": 45,
   "metadata": {
    "colab": {
     "base_uri": "https://localhost:8080/",
     "height": 34
    },
    "colab_type": "code",
    "id": "LSkjTiDFMsD3",
    "outputId": "0a28f5b7-d821-4246-eaac-2b9670bb2e7f"
   },
   "outputs": [
    {
     "name": "stdout",
     "output_type": "stream",
     "text": [
      "intercept:8.843978897722572\n"
     ]
    }
   ],
   "source": [
    "model_l1 = Lasso().fit(train_X, train_y_ln)\n",
    "print('intercept:'+ str(model_l1.intercept_))"
   ]
  },
  {
   "cell_type": "code",
   "execution_count": 46,
   "metadata": {
    "colab": {
     "base_uri": "https://localhost:8080/",
     "height": 500
    },
    "colab_type": "code",
    "id": "gbsBLZkrMsD6",
    "outputId": "69f96a6d-879b-4f96-eb77-4563f0a2bbf2"
   },
   "outputs": [
    {
     "data": {
      "text/plain": [
       "<matplotlib.axes._subplots.AxesSubplot at 0x7f4e0c2ddba8>"
      ]
     },
     "execution_count": 46,
     "metadata": {
      "tags": []
     },
     "output_type": "execute_result"
    },
    {
     "data": {
      "image/png": "[encoded data removed]",
      "text/plain": [
       "<Figure size 432x576 with 1 Axes>"
      ]
     },
     "metadata": {
      "tags": []
     },
     "output_type": "display_data"
    }
   ],
   "source": [
    "plt.figure(figsize=(6,8))\n",
    "sns.barplot(abs(model_l1.coef_), continuous_feature_names)"
   ]
  },
  {
   "cell_type": "markdown",
   "metadata": {
    "colab_type": "text",
    "id": "HJJH8BEKMsD-"
   },
   "source": [
    "### Intuition\n",
    "\n",
    "From the above performances of three linear models, we can see that L1 & L2 regression do play a part in feature selection. \n",
    "\n",
    "**L2 Ridge Regression** tends to result in all feature coeff_ small enough but non-zero to prevent overfitting and enhance model generalization, robust to outliers.\n",
    "\n",
    "Whereas, **L1 Lasso Regression** tends to create sparse matrix, which shrinks the less important feature’s coeff_ to zero thus, removing some features altogether. This would work well for feature selection in case of have a huge number of features.\n",
    "\n"
   ]
  },
  {
   "cell_type": "markdown",
   "metadata": {
    "colab_type": "text",
    "id": "_Hmhb6LZMsD-"
   },
   "source": [
    "Likewise, one can also generate inferences from other tree models like **Decision Tree** in view of feature selection. "
   ]
  },
  {
   "cell_type": "markdown",
   "metadata": {
    "colab_type": "text",
    "id": "CMYoqCu7MsD-"
   },
   "source": [
    "Below, we will look at other advanced non-linear models in term of performance on our dataset."
   ]
  },
  {
   "cell_type": "markdown",
   "metadata": {
    "colab_type": "text",
    "id": "w0JjWL-QMsD_"
   },
   "source": [
    "### Other Non-linear models"
   ]
  },
  {
   "cell_type": "code",
   "execution_count": 0,
   "metadata": {
    "colab": {},
    "colab_type": "code",
    "id": "L3o33IotMsD_"
   },
   "outputs": [],
   "source": [
    "from sklearn.linear_model import LinearRegression\n",
    "from sklearn.svm import SVC\n",
    "from sklearn.tree import DecisionTreeRegressor\n",
    "from sklearn.ensemble import RandomForestRegressor\n",
    "from sklearn.ensemble import GradientBoostingRegressor\n",
    "from sklearn.neural_network import MLPRegressor\n",
    "from xgboost.sklearn import XGBRegressor\n",
    "from lightgbm.sklearn import LGBMRegressor"
   ]
  },
  {
   "cell_type": "code",
   "execution_count": 0,
   "metadata": {
    "colab": {},
    "colab_type": "code",
    "id": "At5j20PQMsEB"
   },
   "outputs": [],
   "source": [
    "models = [LinearRegression(),\n",
    "          DecisionTreeRegressor(),\n",
    "          RandomForestRegressor(),\n",
    "          GradientBoostingRegressor(),\n",
    "          MLPRegressor(solver='lbfgs', max_iter=100),\n",
    "          XGBRegressor(n_estimators = 100, objective='reg:squarederror'), \n",
    "          LGBMRegressor(n_estimators = 100)]"
   ]
  },
  {
   "cell_type": "code",
   "execution_count": 49,
   "metadata": {
    "colab": {
     "base_uri": "https://localhost:8080/",
     "height": 136
    },
    "colab_type": "code",
    "id": "5w0u50EUMsED",
    "outputId": "b3e775c6-b653-4149-ff3a-b5aad8825624"
   },
   "outputs": [
    {
     "name": "stdout",
     "output_type": "stream",
     "text": [
      "LinearRegression is finished\n",
      "DecisionTreeRegressor is finished\n",
      "RandomForestRegressor is finished\n",
      "GradientBoostingRegressor is finished\n",
      "MLPRegressor is finished\n",
      "XGBRegressor is finished\n",
      "LGBMRegressor is finished\n"
     ]
    }
   ],
   "source": [
    "result = dict()\n",
    "\n",
    "for model in models:\n",
    "    model_name = str(model).split('(')[0]\n",
    "    scores = cross_val_score(model, X=train_X, y=train_y_ln, verbose=0, cv = 5, \n",
    "                             scoring=make_scorer(mean_absolute_error))\n",
    "    result[model_name] = scores\n",
    "    print(model_name + ' is finished')"
   ]
  },
  {
   "cell_type": "code",
   "execution_count": 50,
   "metadata": {
    "colab": {
     "base_uri": "https://localhost:8080/",
     "height": 204
    },
    "colab_type": "code",
    "id": "5AZO-eInMsEI",
    "outputId": "880dfe7c-90dd-4213-f418-02e0f2e75a8e"
   },
   "outputs": [
    {
     "data": {
      "text/html": [
       "<div>\n",
       "<style scoped>\n",
       "    .dataframe tbody tr th:only-of-type {\n",
       "        vertical-align: middle;\n",
       "    }\n",
       "\n",
       "    .dataframe tbody tr th {\n",
       "        vertical-align: top;\n",
       "    }\n",
       "\n",
       "    .dataframe thead th {\n",
       "        text-align: right;\n",
       "    }\n",
       "</style>\n",
       "<table border=\"1\" class=\"dataframe\">\n",
       "  <thead>\n",
       "    <tr style=\"text-align: right;\">\n",
       "      <th></th>\n",
       "      <th>LinearRegression</th>\n",
       "      <th>DecisionTreeRegressor</th>\n",
       "      <th>RandomForestRegressor</th>\n",
       "      <th>GradientBoostingRegressor</th>\n",
       "      <th>MLPRegressor</th>\n",
       "      <th>XGBRegressor</th>\n",
       "      <th>LGBMRegressor</th>\n",
       "    </tr>\n",
       "  </thead>\n",
       "  <tbody>\n",
       "    <tr>\n",
       "      <th>cv1</th>\n",
       "      <td>0.191031</td>\n",
       "      <td>0.200449</td>\n",
       "      <td>0.133338</td>\n",
       "      <td>0.169583</td>\n",
       "      <td>122.336829</td>\n",
       "      <td>0.171218</td>\n",
       "      <td>0.142148</td>\n",
       "    </tr>\n",
       "    <tr>\n",
       "      <th>cv2</th>\n",
       "      <td>0.194096</td>\n",
       "      <td>0.194855</td>\n",
       "      <td>0.135061</td>\n",
       "      <td>0.173833</td>\n",
       "      <td>33.093792</td>\n",
       "      <td>0.172410</td>\n",
       "      <td>0.145427</td>\n",
       "    </tr>\n",
       "    <tr>\n",
       "      <th>cv3</th>\n",
       "      <td>0.194609</td>\n",
       "      <td>0.191127</td>\n",
       "      <td>0.134102</td>\n",
       "      <td>0.172177</td>\n",
       "      <td>29.623255</td>\n",
       "      <td>0.171880</td>\n",
       "      <td>0.144962</td>\n",
       "    </tr>\n",
       "    <tr>\n",
       "      <th>cv4</th>\n",
       "      <td>0.192132</td>\n",
       "      <td>0.191191</td>\n",
       "      <td>0.132834</td>\n",
       "      <td>0.169578</td>\n",
       "      <td>26.169109</td>\n",
       "      <td>0.170606</td>\n",
       "      <td>0.142064</td>\n",
       "    </tr>\n",
       "    <tr>\n",
       "      <th>cv5</th>\n",
       "      <td>0.196119</td>\n",
       "      <td>0.205914</td>\n",
       "      <td>0.137794</td>\n",
       "      <td>0.173843</td>\n",
       "      <td>35.373959</td>\n",
       "      <td>0.174510</td>\n",
       "      <td>0.145031</td>\n",
       "    </tr>\n",
       "  </tbody>\n",
       "</table>\n",
       "</div>"
      ],
      "text/plain": [
       "     LinearRegression  DecisionTreeRegressor  ...  XGBRegressor  LGBMRegressor\n",
       "cv1          0.191031               0.200449  ...      0.171218       0.142148\n",
       "cv2          0.194096               0.194855  ...      0.172410       0.145427\n",
       "cv3          0.194609               0.191127  ...      0.171880       0.144962\n",
       "cv4          0.192132               0.191191  ...      0.170606       0.142064\n",
       "cv5          0.196119               0.205914  ...      0.174510       0.145031\n",
       "\n",
       "[5 rows x 7 columns]"
      ]
     },
     "execution_count": 50,
     "metadata": {
      "tags": []
     },
     "output_type": "execute_result"
    }
   ],
   "source": [
    "result = pd.DataFrame(result)\n",
    "result.index = ['cv' + str(x) for x in range(1, 6)]\n",
    "result"
   ]
  },
  {
   "cell_type": "markdown",
   "metadata": {
    "colab_type": "text",
    "id": "gRONwKPoX6gX"
   },
   "source": [
    "The performance of Random Forest is the best among all validation set, the second best choice is Light GBM."
   ]
  },
  {
   "cell_type": "code",
   "execution_count": 0,
   "metadata": {
    "colab": {},
    "colab_type": "code",
    "id": "d8SedTXmMsEP"
   },
   "outputs": [],
   "source": []
  },
  {
   "cell_type": "markdown",
   "metadata": {
    "colab_type": "text",
    "id": "-AVW6FBR5Gp2"
   },
   "source": [
    "Embedding Method combines feature selection process and the model training process together, both are completed in the same optimization process, in other words, the feature selection is automatically performed during the model training process."
   ]
  },
  {
   "cell_type": "code",
   "execution_count": 72,
   "metadata": {
    "colab": {
     "base_uri": "https://localhost:8080/",
     "height": 255
    },
    "colab_type": "code",
    "id": "CP08avaj49Lv",
    "outputId": "760394fb-e4e7-4155-d333-a006976b1b6f"
   },
   "outputs": [
    {
     "data": {
      "text/plain": [
       "SelectFromModel(estimator=LGBMRegressor(boosting_type='gbdt', class_weight=None,\n",
       "                                        colsample_bytree=1.0,\n",
       "                                        importance_type='split',\n",
       "                                        learning_rate=0.1, max_depth=-1,\n",
       "                                        min_child_samples=20,\n",
       "                                        min_child_weight=0.001,\n",
       "                                        min_split_gain=0.0, n_estimators=100,\n",
       "                                        n_jobs=-1, num_leaves=31,\n",
       "                                        objective=None, random_state=None,\n",
       "                                        reg_alpha=0.0, reg_lambda=0.0,\n",
       "                                        silent=True, subsample=1.0,\n",
       "                                        subsample_for_bin=200000,\n",
       "                                        subsample_freq=0),\n",
       "                max_features=30, norm_order=1, prefit=False, threshold=None)"
      ]
     },
     "execution_count": 72,
     "metadata": {
      "tags": []
     },
     "output_type": "execute_result"
    }
   ],
   "source": [
    "from sklearn.feature_selection import SelectFromModel\n",
    "import lightgbm as lgb\n",
    "\n",
    "lgb_model = lgb.LGBMRegressor()\n",
    "embeded_lgb_selector = SelectFromModel(lgb_model, max_features=30)\n",
    "embeded_lgb_selector.fit(X, y)"
   ]
  },
  {
   "cell_type": "code",
   "execution_count": 73,
   "metadata": {
    "colab": {
     "base_uri": "https://localhost:8080/",
     "height": 204
    },
    "colab_type": "code",
    "id": "LnaExBJh56Sf",
    "outputId": "5ba12369-3656-4f35-d400-4cd612b7365d"
   },
   "outputs": [
    {
     "name": "stdout",
     "output_type": "stream",
     "text": [
      "10 selected features\n"
     ]
    },
    {
     "data": {
      "text/plain": [
       "['kilometer',\n",
       " 'power',\n",
       " 'v_0',\n",
       " 'v_1',\n",
       " 'v_10',\n",
       " 'v_12',\n",
       " 'v_14',\n",
       " 'v_3',\n",
       " 'v_6',\n",
       " 'used_time']"
      ]
     },
     "execution_count": 73,
     "metadata": {
      "tags": []
     },
     "output_type": "execute_result"
    }
   ],
   "source": [
    "embeded_lgb_support = embeded_lgb_selector.get_support()\n",
    "embeded_lgb_feature = X.loc[:,embeded_lgb_support].columns.tolist()\n",
    "print(str(len(embeded_lgb_feature)), 'selected features') \n",
    "\n",
    "embeded_lgb_feature"
   ]
  },
  {
   "cell_type": "markdown",
   "metadata": {
    "colab_type": "text",
    "id": "i1DOs3ihMsER"
   },
   "source": [
    "### Model Tuning - Hyperparameters"
   ]
  },
  {
   "cell_type": "markdown",
   "metadata": {
    "colab_type": "text",
    "id": "qtlMwHTNMsER"
   },
   "source": [
    "1. Greedy Search\n",
    "2. Grid Search\n",
    "3. Bayesian Optimization\n",
    "https://towardsdatascience.com/automated-machine-learning-hyperparameter-tuning-in-python-dfda59b72f8a"
   ]
  },
  {
   "cell_type": "code",
   "execution_count": 0,
   "metadata": {
    "colab": {},
    "colab_type": "code",
    "id": "hHx29LqnMsER"
   },
   "outputs": [],
   "source": [
    "# using LGB as an example\n",
    "objective = ['regression', 'regression_l1', 'mape', 'huber', 'fair']\n",
    "\n",
    "num_leaves = [3,5,10,15,20,40, 55]\n",
    "max_depth = [3,5,10,15,20,40, 55]\n",
    "bagging_fraction = []\n",
    "feature_fraction = []\n",
    "drop_rate = []"
   ]
  },
  {
   "cell_type": "code",
   "execution_count": 0,
   "metadata": {
    "colab": {},
    "colab_type": "code",
    "id": "7989-ziGMsEW"
   },
   "outputs": [],
   "source": [
    "# greedy search - takes really long time\n",
    "best_obj = dict()\n",
    "for obj in objective:\n",
    "    model = LGBMRegressor(objective=obj)\n",
    "    score = np.mean(cross_val_score(model, X=train_X, y=train_y_ln, verbose=0, cv = 5, scoring=make_scorer(mean_absolute_error)))\n",
    "    best_obj[obj] = score\n",
    "    \n",
    "best_leaves = dict()\n",
    "for leaves in num_leaves:\n",
    "    model = LGBMRegressor(objective=min(best_obj.items(), key=lambda x:x[1])[0], num_leaves=leaves)\n",
    "    score = np.mean(cross_val_score(model, X=train_X, y=train_y_ln, verbose=0, cv = 5, scoring=make_scorer(mean_absolute_error)))\n",
    "    best_leaves[leaves] = score\n",
    "    \n",
    "best_depth = dict()\n",
    "for depth in max_depth:\n",
    "    model = LGBMRegressor(objective=min(best_obj.items(), key=lambda x:x[1])[0],\n",
    "                          num_leaves=min(best_leaves.items(), key=lambda x:x[1])[0],\n",
    "                          max_depth=depth)\n",
    "    score = np.mean(cross_val_score(model, X=train_X, y=train_y_ln, verbose=0, cv = 5, scoring=make_scorer(mean_absolute_error)))\n",
    "    best_depth[depth] = score"
   ]
  },
  {
   "cell_type": "code",
   "execution_count": 53,
   "metadata": {
    "colab": {
     "base_uri": "https://localhost:8080/",
     "height": 501
    },
    "colab_type": "code",
    "id": "OtLATLF9MsEY",
    "outputId": "dfa91c93-0238-4f8c-fa88-4c5198a49844"
   },
   "outputs": [
    {
     "data": {
      "text/plain": [
       "<matplotlib.axes._subplots.AxesSubplot at 0x7f4e00e7e198>"
      ]
     },
     "execution_count": 53,
     "metadata": {
      "tags": []
     },
     "output_type": "execute_result"
    },
    {
     "data": {
      "image/png": "[encoded data removed]",
      "text/plain": [
       "<Figure size 576x576 with 1 Axes>"
      ]
     },
     "metadata": {
      "tags": []
     },
     "output_type": "display_data"
    }
   ],
   "source": [
    "plt.figure(figsize=(8,8))\n",
    "sns.lineplot(x=['0_initial','1_turning_obj','2_turning_leaves','3_turning_depth'],\n",
    "             y=[0.143 ,min(best_obj.values()), min(best_leaves.values()), min(best_depth.values())])"
   ]
  },
  {
   "cell_type": "code",
   "execution_count": 0,
   "metadata": {
    "colab": {},
    "colab_type": "code",
    "id": "By_Z_bx2MsEZ"
   },
   "outputs": [],
   "source": []
  },
  {
   "cell_type": "code",
   "execution_count": 0,
   "metadata": {
    "colab": {},
    "colab_type": "code",
    "id": "l0leOT24MsEc"
   },
   "outputs": [],
   "source": [
    "# grid search - also takes long time\n",
    "from sklearn.model_selection import GridSearchCV"
   ]
  },
  {
   "cell_type": "code",
   "execution_count": 0,
   "metadata": {
    "colab": {},
    "colab_type": "code",
    "id": "IXvOnv5LMsEf"
   },
   "outputs": [],
   "source": [
    "parameters = {'objective': objective , 'num_leaves': num_leaves, 'max_depth': max_depth}\n",
    "model = LGBMRegressor()\n",
    "clf = GridSearchCV(model, parameters, cv=5)\n",
    "clf = clf.fit(train_X, train_y)"
   ]
  },
  {
   "cell_type": "code",
   "execution_count": 56,
   "metadata": {
    "colab": {
     "base_uri": "https://localhost:8080/",
     "height": 34
    },
    "colab_type": "code",
    "id": "4QKEBbXZMsEj",
    "outputId": "e1d958ba-d2c8-452b-e754-c6685330934e"
   },
   "outputs": [
    {
     "data": {
      "text/plain": [
       "{'max_depth': 10, 'num_leaves': 55, 'objective': 'regression'}"
      ]
     },
     "execution_count": 56,
     "metadata": {
      "tags": []
     },
     "output_type": "execute_result"
    }
   ],
   "source": [
    "clf.best_params_"
   ]
  },
  {
   "cell_type": "code",
   "execution_count": 0,
   "metadata": {
    "colab": {},
    "colab_type": "code",
    "id": "uKeGsgvaMsEl"
   },
   "outputs": [],
   "source": [
    "# using the best params from GridSearch to predict \n",
    "model = LGBMRegressor(objective='regression',\n",
    "                          num_leaves=55,\n",
    "                          max_depth=15)"
   ]
  },
  {
   "cell_type": "code",
   "execution_count": 58,
   "metadata": {
    "colab": {
     "base_uri": "https://localhost:8080/",
     "height": 34
    },
    "colab_type": "code",
    "id": "JiH6ZAoUMsEo",
    "outputId": "fdf33b3e-a50d-4fcb-b9ba-61cc73771b39"
   },
   "outputs": [
    {
     "data": {
      "text/plain": [
       "0.13807174800052277"
      ]
     },
     "execution_count": 58,
     "metadata": {
      "tags": []
     },
     "output_type": "execute_result"
    }
   ],
   "source": [
    "np.mean(cross_val_score(model, X=train_X, y=train_y_ln, \n",
    "                        verbose=0, cv = 5, \n",
    "                        scoring=make_scorer(mean_absolute_error)))"
   ]
  },
  {
   "cell_type": "code",
   "execution_count": 0,
   "metadata": {
    "colab": {},
    "colab_type": "code",
    "id": "QvRYjXP2MsEp"
   },
   "outputs": [],
   "source": []
  },
  {
   "cell_type": "code",
   "execution_count": 76,
   "metadata": {
    "colab": {
     "base_uri": "https://localhost:8080/",
     "height": 190
    },
    "colab_type": "code",
    "id": "dIbeYAaE-c30",
    "outputId": "2516b7b6-2bc0-4734-d2b2-5da63a7a076a"
   },
   "outputs": [
    {
     "name": "stdout",
     "output_type": "stream",
     "text": [
      "ERROR! Session/line number was not unique in database. History logging moved to new session 60\n",
      "Collecting bayesian-optimization\n",
      "  Downloading https://files.pythonhosted.org/packages/b5/26/9842333adbb8f17bcb3d699400a8b1ccde0af0b6de8d07224e183728acdf/bayesian_optimization-1.1.0-py3-none-any.whl\n",
      "Requirement already satisfied: numpy>=1.9.0 in /usr/local/lib/python3.6/dist-packages (from bayesian-optimization) (1.18.2)\n",
      "Requirement already satisfied: scipy>=0.14.0 in /usr/local/lib/python3.6/dist-packages (from bayesian-optimization) (1.4.1)\n",
      "Requirement already satisfied: scikit-learn>=0.18.0 in /usr/local/lib/python3.6/dist-packages (from bayesian-optimization) (0.22.2.post1)\n",
      "Requirement already satisfied: joblib>=0.11 in /usr/local/lib/python3.6/dist-packages (from scikit-learn>=0.18.0->bayesian-optimization) (0.14.1)\n",
      "Installing collected packages: bayesian-optimization\n",
      "Successfully installed bayesian-optimization-1.1.0\n"
     ]
    }
   ],
   "source": [
    "# bayesian optimization\n",
    "!pip install bayesian-optimization\n",
    "from bayes_opt import BayesianOptimization"
   ]
  },
  {
   "cell_type": "code",
   "execution_count": 0,
   "metadata": {
    "colab": {},
    "colab_type": "code",
    "id": "PpQ9fYpdMsEt"
   },
   "outputs": [],
   "source": [
    "def rf_cv(num_leaves, max_depth, subsample, min_child_samples):\n",
    "    \n",
    "    val = cross_val_score(\n",
    "        LGBMRegressor(objective = 'regression_l1',\n",
    "            num_leaves=int(num_leaves),\n",
    "            max_depth=int(max_depth),\n",
    "            subsample = subsample,\n",
    "            min_child_samples = int(min_child_samples)),\n",
    "        X=train_X, y=train_y_ln, verbose=0, cv = 5, \n",
    "        scoring=make_scorer(mean_absolute_error)).mean()\n",
    "    \n",
    "    return 1 - val"
   ]
  },
  {
   "cell_type": "code",
   "execution_count": 0,
   "metadata": {
    "colab": {},
    "colab_type": "code",
    "id": "aJkdlKJJMsEx"
   },
   "outputs": [],
   "source": [
    "rf_bo = BayesianOptimization(\n",
    "    rf_cv,\n",
    "    {\n",
    "    'num_leaves': (2, 100),\n",
    "    'max_depth': (2, 100),\n",
    "    'subsample': (0.1, 1),\n",
    "    'min_child_samples' : (2, 100)\n",
    "    }\n",
    ")"
   ]
  },
  {
   "cell_type": "code",
   "execution_count": 79,
   "metadata": {
    "colab": {
     "base_uri": "https://localhost:8080/",
     "height": 578
    },
    "colab_type": "code",
    "id": "8TyV0m8bMsEy",
    "outputId": "eafb6d2b-e30b-48b1-c8a5-2992b31c58a8"
   },
   "outputs": [
    {
     "name": "stdout",
     "output_type": "stream",
     "text": [
      "|   iter    |  target   | max_depth | min_ch... | num_le... | subsample |\n",
      "-------------------------------------------------------------------------\n",
      "| \u001b[0m 1       \u001b[0m | \u001b[0m 0.827   \u001b[0m | \u001b[0m 63.57   \u001b[0m | \u001b[0m 80.78   \u001b[0m | \u001b[0m 6.3     \u001b[0m | \u001b[0m 0.8933  \u001b[0m |\n",
      "| \u001b[95m 2       \u001b[0m | \u001b[95m 0.8572  \u001b[0m | \u001b[95m 98.27   \u001b[0m | \u001b[95m 33.22   \u001b[0m | \u001b[95m 31.72   \u001b[0m | \u001b[95m 0.8862  \u001b[0m |\n",
      "| \u001b[95m 3       \u001b[0m | \u001b[95m 0.8598  \u001b[0m | \u001b[95m 27.28   \u001b[0m | \u001b[95m 10.44   \u001b[0m | \u001b[95m 39.37   \u001b[0m | \u001b[95m 0.3586  \u001b[0m |\n",
      "| \u001b[95m 4       \u001b[0m | \u001b[95m 0.8636  \u001b[0m | \u001b[95m 48.49   \u001b[0m | \u001b[95m 71.13   \u001b[0m | \u001b[95m 54.85   \u001b[0m | \u001b[95m 0.191   \u001b[0m |\n",
      "| \u001b[95m 5       \u001b[0m | \u001b[95m 0.8677  \u001b[0m | \u001b[95m 72.85   \u001b[0m | \u001b[95m 80.68   \u001b[0m | \u001b[95m 92.59   \u001b[0m | \u001b[95m 0.333   \u001b[0m |\n",
      "| \u001b[0m 6       \u001b[0m | \u001b[0m 0.8063  \u001b[0m | \u001b[0m 2.245   \u001b[0m | \u001b[0m 8.397   \u001b[0m | \u001b[0m 99.19   \u001b[0m | \u001b[0m 0.8056  \u001b[0m |\n",
      "| \u001b[95m 7       \u001b[0m | \u001b[95m 0.868   \u001b[0m | \u001b[95m 99.5    \u001b[0m | \u001b[95m 4.547   \u001b[0m | \u001b[95m 99.78   \u001b[0m | \u001b[95m 0.6918  \u001b[0m |\n",
      "| \u001b[0m 8       \u001b[0m | \u001b[0m 0.85    \u001b[0m | \u001b[0m 5.04    \u001b[0m | \u001b[0m 99.7    \u001b[0m | \u001b[0m 90.21   \u001b[0m | \u001b[0m 0.5335  \u001b[0m |\n",
      "| \u001b[0m 9       \u001b[0m | \u001b[0m 0.772   \u001b[0m | \u001b[0m 3.505   \u001b[0m | \u001b[0m 43.38   \u001b[0m | \u001b[0m 2.055   \u001b[0m | \u001b[0m 0.8382  \u001b[0m |\n",
      "| \u001b[0m 10      \u001b[0m | \u001b[0m 0.8678  \u001b[0m | \u001b[0m 75.73   \u001b[0m | \u001b[0m 82.59   \u001b[0m | \u001b[0m 93.8    \u001b[0m | \u001b[0m 0.3263  \u001b[0m |\n",
      "| \u001b[0m 11      \u001b[0m | \u001b[0m 0.8016  \u001b[0m | \u001b[0m 83.91   \u001b[0m | \u001b[0m 2.099   \u001b[0m | \u001b[0m 3.315   \u001b[0m | \u001b[0m 0.5655  \u001b[0m |\n",
      "| \u001b[0m 12      \u001b[0m | \u001b[0m 0.8636  \u001b[0m | \u001b[0m 99.97   \u001b[0m | \u001b[0m 98.49   \u001b[0m | \u001b[0m 55.9    \u001b[0m | \u001b[0m 0.6746  \u001b[0m |\n",
      "| \u001b[0m 13      \u001b[0m | \u001b[0m 0.8647  \u001b[0m | \u001b[0m 70.43   \u001b[0m | \u001b[0m 2.596   \u001b[0m | \u001b[0m 62.96   \u001b[0m | \u001b[0m 0.793   \u001b[0m |\n",
      "| \u001b[0m 14      \u001b[0m | \u001b[0m 0.8679  \u001b[0m | \u001b[0m 99.66   \u001b[0m | \u001b[0m 46.24   \u001b[0m | \u001b[0m 95.3    \u001b[0m | \u001b[0m 0.34    \u001b[0m |\n",
      "| \u001b[95m 15      \u001b[0m | \u001b[95m 0.868   \u001b[0m | \u001b[95m 98.63   \u001b[0m | \u001b[95m 97.67   \u001b[0m | \u001b[95m 97.7    \u001b[0m | \u001b[95m 0.6158  \u001b[0m |\n",
      "| \u001b[95m 16      \u001b[0m | \u001b[95m 0.8681  \u001b[0m | \u001b[95m 48.96   \u001b[0m | \u001b[95m 99.59   \u001b[0m | \u001b[95m 99.13   \u001b[0m | \u001b[95m 0.5635  \u001b[0m |\n",
      "| \u001b[0m 17      \u001b[0m | \u001b[0m 0.8654  \u001b[0m | \u001b[0m 50.1    \u001b[0m | \u001b[0m 33.22   \u001b[0m | \u001b[0m 67.1    \u001b[0m | \u001b[0m 0.1238  \u001b[0m |\n",
      "| \u001b[0m 18      \u001b[0m | \u001b[0m 0.8657  \u001b[0m | \u001b[0m 99.97   \u001b[0m | \u001b[0m 2.442   \u001b[0m | \u001b[0m 70.66   \u001b[0m | \u001b[0m 0.6664  \u001b[0m |\n",
      "| \u001b[0m 19      \u001b[0m | \u001b[0m 0.8654  \u001b[0m | \u001b[0m 64.92   \u001b[0m | \u001b[0m 98.51   \u001b[0m | \u001b[0m 69.11   \u001b[0m | \u001b[0m 0.9209  \u001b[0m |\n",
      "| \u001b[0m 20      \u001b[0m | \u001b[0m 0.8642  \u001b[0m | \u001b[0m 87.4    \u001b[0m | \u001b[0m 58.2    \u001b[0m | \u001b[0m 58.51   \u001b[0m | \u001b[0m 0.1037  \u001b[0m |\n",
      "| \u001b[0m 21      \u001b[0m | \u001b[0m 0.8614  \u001b[0m | \u001b[0m 52.5    \u001b[0m | \u001b[0m 34.77   \u001b[0m | \u001b[0m 44.48   \u001b[0m | \u001b[0m 0.9915  \u001b[0m |\n",
      "| \u001b[0m 22      \u001b[0m | \u001b[0m 0.8397  \u001b[0m | \u001b[0m 99.56   \u001b[0m | \u001b[0m 97.59   \u001b[0m | \u001b[0m 10.86   \u001b[0m | \u001b[0m 0.6206  \u001b[0m |\n",
      "| \u001b[0m 23      \u001b[0m | \u001b[0m 0.8671  \u001b[0m | \u001b[0m 38.41   \u001b[0m | \u001b[0m 77.79   \u001b[0m | \u001b[0m 85.82   \u001b[0m | \u001b[0m 0.9618  \u001b[0m |\n",
      "| \u001b[0m 24      \u001b[0m | \u001b[0m 0.8666  \u001b[0m | \u001b[0m 99.88   \u001b[0m | \u001b[0m 79.55   \u001b[0m | \u001b[0m 79.32   \u001b[0m | \u001b[0m 0.9952  \u001b[0m |\n",
      "| \u001b[0m 25      \u001b[0m | \u001b[0m 0.8659  \u001b[0m | \u001b[0m 37.48   \u001b[0m | \u001b[0m 99.66   \u001b[0m | \u001b[0m 72.87   \u001b[0m | \u001b[0m 0.18    \u001b[0m |\n",
      "| \u001b[0m 26      \u001b[0m | \u001b[0m 0.8666  \u001b[0m | \u001b[0m 99.86   \u001b[0m | \u001b[0m 26.94   \u001b[0m | \u001b[0m 81.39   \u001b[0m | \u001b[0m 0.6774  \u001b[0m |\n",
      "| \u001b[0m 27      \u001b[0m | \u001b[0m 0.8647  \u001b[0m | \u001b[0m 40.16   \u001b[0m | \u001b[0m 2.324   \u001b[0m | \u001b[0m 62.36   \u001b[0m | \u001b[0m 0.9659  \u001b[0m |\n",
      "| \u001b[0m 28      \u001b[0m | \u001b[0m 0.8679  \u001b[0m | \u001b[0m 98.47   \u001b[0m | \u001b[0m 70.72   \u001b[0m | \u001b[0m 99.36   \u001b[0m | \u001b[0m 0.2126  \u001b[0m |\n",
      "| \u001b[0m 29      \u001b[0m | \u001b[0m 0.8676  \u001b[0m | \u001b[0m 50.32   \u001b[0m | \u001b[0m 98.6    \u001b[0m | \u001b[0m 91.35   \u001b[0m | \u001b[0m 0.1052  \u001b[0m |\n",
      "| \u001b[95m 30      \u001b[0m | \u001b[95m 0.8681  \u001b[0m | \u001b[95m 75.56   \u001b[0m | \u001b[95m 46.1    \u001b[0m | \u001b[95m 99.73   \u001b[0m | \u001b[95m 0.7836  \u001b[0m |\n",
      "=========================================================================\n"
     ]
    }
   ],
   "source": [
    "rf_bo.maximize()"
   ]
  },
  {
   "cell_type": "code",
   "execution_count": 80,
   "metadata": {
    "colab": {
     "base_uri": "https://localhost:8080/",
     "height": 34
    },
    "colab_type": "code",
    "id": "h__ihu6QMsE0",
    "outputId": "3976618b-8556-43d6-cf8e-7e78b41bb4dc"
   },
   "outputs": [
    {
     "data": {
      "text/plain": [
       "0.13186119791448414"
      ]
     },
     "execution_count": 80,
     "metadata": {
      "tags": []
     },
     "output_type": "execute_result"
    }
   ],
   "source": [
    "1 - rf_bo.max['target']"
   ]
  },
  {
   "cell_type": "code",
   "execution_count": 0,
   "metadata": {
    "colab": {},
    "colab_type": "code",
    "id": "21S_iN3dMsE3"
   },
   "outputs": [],
   "source": []
  }
 ],
 "metadata": {
  "colab": {
   "collapsed_sections": [],
   "name": "Hyperparameter_Model_Tuning_V1",
   "provenance": []
  },
  "kernelspec": {
   "display_name": "Python 3",
   "language": "python",
   "name": "python3"
  },
  "language_info": {
   "codemirror_mode": {
    "name": "ipython",
    "version": 3
   },
   "file_extension": ".py",
   "mimetype": "text/x-python",
   "name": "python",
   "nbconvert_exporter": "python",
   "pygments_lexer": "ipython3",
   "version": "3.7.3"
  }
 },
 "nbformat": 4,
 "nbformat_minor": 1
}
