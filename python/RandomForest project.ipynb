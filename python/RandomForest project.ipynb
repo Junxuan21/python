{
 "cells": [
  {
   "cell_type": "code",
   "execution_count": 1,
   "metadata": {},
   "outputs": [],
   "source": [
    "import pandas as pd\n",
    "import numpy as np\n",
    "import scipy.stats as sps \n",
    "import matplotlib.pyplot as plt \n",
    "import seaborn as sns\n",
    "import sklearn as skl\n",
    "from sklearn import preprocessing \n",
    "%matplotlib inline "
   ]
  },
  {
   "cell_type": "code",
   "execution_count": 2,
   "metadata": {},
   "outputs": [
    {
     "name": "stdout",
     "output_type": "stream",
     "text": [
      "CPU times: user 505 ms, sys: 70.6 ms, total: 576 ms\n",
      "Wall time: 581 ms\n"
     ]
    }
   ],
   "source": [
    "%%time\n",
    "data=pd.read_csv(\"data_1.csv\")\n",
    "data=data.drop('Unnamed: 0',1)"
   ]
  },
  {
   "cell_type": "code",
   "execution_count": 3,
   "metadata": {},
   "outputs": [],
   "source": [
    "X= pd.DataFrame(data.iloc[:,1:].values)\n",
    "y=data.iloc[:,0]"
   ]
  },
  {
   "cell_type": "code",
   "execution_count": 4,
   "metadata": {},
   "outputs": [],
   "source": [
    "oot1=pd.read_csv(\"oot_1.csv\")\n",
    "oot1=oot1.drop('Unnamed: 0',1)\n",
    "X_oot1= pd.DataFrame(oot1.iloc[:,1:21].values)\n",
    "y_oot1 =oot1.iloc[:,0]"
   ]
  },
  {
   "cell_type": "code",
   "execution_count": 6,
   "metadata": {},
   "outputs": [],
   "source": [
    "from sklearn.model_selection import train_test_split\n",
    "X_train, X_test, y_train, y_test = train_test_split(X, y, test_size=0.3, random_state=3)"
   ]
  },
  {
   "cell_type": "code",
   "execution_count": 7,
   "metadata": {},
   "outputs": [
    {
     "name": "stdout",
     "output_type": "stream",
     "text": [
      "(59009, 20)\n",
      "(25290, 20)\n",
      "(12454, 20)\n"
     ]
    }
   ],
   "source": [
    "print(X_train.shape)\n",
    "print(X_test.shape)\n",
    "print(X_oot1.shape)"
   ]
  },
  {
   "cell_type": "code",
   "execution_count": 8,
   "metadata": {},
   "outputs": [
    {
     "name": "stdout",
     "output_type": "stream",
     "text": [
      "CPU times: user 14.5 s, sys: 61.1 ms, total: 14.5 s\n",
      "Wall time: 14.6 s\n"
     ]
    }
   ],
   "source": [
    "%%time\n",
    "from sklearn.ensemble import RandomForestClassifier\n",
    "rf = RandomForestClassifier(n_estimators=400, max_depth=2, random_state=0)\n",
    "rf.fit(X_train, y_train)"
   ]
  },
  {
   "cell_type": "code",
   "execution_count": 47,
   "metadata": {},
   "outputs": [
    {
     "name": "stderr",
     "output_type": "stream",
     "text": [
      "/anaconda3/lib/python3.7/site-packages/pandas/core/frame.py:4025: SettingWithCopyWarning: \n",
      "A value is trying to be set on a copy of a slice from a DataFrame\n",
      "\n",
      "See the caveats in the documentation: http://pandas.pydata.org/pandas-docs/stable/indexing.html#indexing-view-versus-copy\n",
      "  return super(DataFrame, self).rename(**kwargs)\n",
      "/anaconda3/lib/python3.7/site-packages/pandas/core/indexing.py:362: SettingWithCopyWarning: \n",
      "A value is trying to be set on a copy of a slice from a DataFrame.\n",
      "Try using .loc[row_indexer,col_indexer] = value instead\n",
      "\n",
      "See the caveats in the documentation: http://pandas.pydata.org/pandas-docs/stable/indexing.html#indexing-view-versus-copy\n",
      "  self.obj[key] = _infer_fill_value(value)\n",
      "/anaconda3/lib/python3.7/site-packages/pandas/core/indexing.py:366: SettingWithCopyWarning: \n",
      "A value is trying to be set on a copy of a slice from a DataFrame\n",
      "\n",
      "See the caveats in the documentation: http://pandas.pydata.org/pandas-docs/stable/indexing.html#indexing-view-versus-copy\n",
      "  self._setitem_with_indexer(new_indexer, value)\n",
      "/anaconda3/lib/python3.7/site-packages/pandas/core/indexing.py:190: SettingWithCopyWarning: \n",
      "A value is trying to be set on a copy of a slice from a DataFrame\n",
      "\n",
      "See the caveats in the documentation: http://pandas.pydata.org/pandas-docs/stable/indexing.html#indexing-view-versus-copy\n",
      "  self._setitem_with_indexer(indexer, value)\n"
     ]
    },
    {
     "name": "stdout",
     "output_type": "stream",
     "text": [
      "CPU times: user 11min 50s, sys: 4.66 s, total: 11min 55s\n",
      "Wall time: 12min 12s\n"
     ]
    }
   ],
   "source": [
    "%%time\n",
    "# testing\n",
    "rf_temp = pd.DataFrame\n",
    "rf_temp = X_test.iloc[:,-1:]\n",
    "rf_temp.rename(columns={'mean_Cardnum_0d_zscore':'Prob'}, inplace=True)\n",
    "for k in X_test.index:\n",
    "    rf_temp.at[k,'Prob']=rf.predict_proba(X_test.loc[(k,k),:])[1,1]"
   ]
  },
  {
   "cell_type": "code",
   "execution_count": 48,
   "metadata": {},
   "outputs": [
    {
     "data": {
      "text/plain": [
       "0.6666666666666666"
      ]
     },
     "execution_count": 48,
     "metadata": {},
     "output_type": "execute_result"
    }
   ],
   "source": [
    "#testing\n",
    "import numpy as np\n",
    "selected_index = []\n",
    "a = np.percentile(rf_temp['Prob'], 97)\n",
    "for i in rf_temp.index:\n",
    "    if rf_temp.at[i,'Prob'] >=a:\n",
    "        selected_index.append(i)\n",
    "records=sum(y_test)\n",
    "frauds = 0\n",
    "for i in y_test.index:\n",
    "    if i in selected_index:\n",
    "        frauds+=y_test[i]\n",
    "frauds/records"
   ]
  },
  {
   "cell_type": "code",
   "execution_count": null,
   "metadata": {},
   "outputs": [
    {
     "name": "stderr",
     "output_type": "stream",
     "text": [
      "/anaconda3/lib/python3.7/site-packages/pandas/core/frame.py:4025: SettingWithCopyWarning: \n",
      "A value is trying to be set on a copy of a slice from a DataFrame\n",
      "\n",
      "See the caveats in the documentation: http://pandas.pydata.org/pandas-docs/stable/indexing.html#indexing-view-versus-copy\n",
      "  return super(DataFrame, self).rename(**kwargs)\n",
      "/anaconda3/lib/python3.7/site-packages/pandas/core/indexing.py:362: SettingWithCopyWarning: \n",
      "A value is trying to be set on a copy of a slice from a DataFrame.\n",
      "Try using .loc[row_indexer,col_indexer] = value instead\n",
      "\n",
      "See the caveats in the documentation: http://pandas.pydata.org/pandas-docs/stable/indexing.html#indexing-view-versus-copy\n",
      "  self.obj[key] = _infer_fill_value(value)\n",
      "/anaconda3/lib/python3.7/site-packages/pandas/core/indexing.py:366: SettingWithCopyWarning: \n",
      "A value is trying to be set on a copy of a slice from a DataFrame\n",
      "\n",
      "See the caveats in the documentation: http://pandas.pydata.org/pandas-docs/stable/indexing.html#indexing-view-versus-copy\n",
      "  self._setitem_with_indexer(new_indexer, value)\n",
      "/anaconda3/lib/python3.7/site-packages/pandas/core/indexing.py:190: SettingWithCopyWarning: \n",
      "A value is trying to be set on a copy of a slice from a DataFrame\n",
      "\n",
      "See the caveats in the documentation: http://pandas.pydata.org/pandas-docs/stable/indexing.html#indexing-view-versus-copy\n",
      "  self._setitem_with_indexer(indexer, value)\n"
     ]
    }
   ],
   "source": [
    "%%time\n",
    "# training\n",
    "rf_temp=pd.DataFrame\n",
    "rf_temp = X_train.iloc[:,-1:]\n",
    "rf_temp.rename(columns={'mean_Cardnum_0d_zscore':'Prob'}, inplace=True)\n",
    "for k in X_train.index:\n",
    "    rf_temp.at[k,'Prob']=rf.predict_proba(X_train.loc[(k,k),:])[1,1]"
   ]
  },
  {
   "cell_type": "code",
   "execution_count": null,
   "metadata": {},
   "outputs": [],
   "source": [
    "#training\n",
    "selected_index = []\n",
    "a = np.percentile(rf_temp['Prob'], 97)\n",
    "for i in rf_temp.index:\n",
    "    if rf_temp.at[i,'Prob'] >=a:\n",
    "        selected_index.append(i)\n",
    "records=sum(y_train)\n",
    "frauds = 0\n",
    "for i in y_train.index:\n",
    "    if i in selected_index:\n",
    "        frauds+=y_train[i]\n",
    "frauds/records"
   ]
  },
  {
   "cell_type": "code",
   "execution_count": null,
   "metadata": {},
   "outputs": [],
   "source": [
    "%%time\n",
    "# oot1\n",
    "rf_temp=pd.DataFrame\n",
    "rf_temp = X_oot1.iloc[:,-1:]\n",
    "rf_temp.rename(columns={'mean_Cardnum_0d_zscore':'Prob'}, inplace=True)\n",
    "for k in X_oot1.index:\n",
    "    rf_temp.at[k,'Prob']=rf.predict_proba(X_oot1.loc[(k,k),:])[1,1]"
   ]
  },
  {
   "cell_type": "code",
   "execution_count": null,
   "metadata": {},
   "outputs": [],
   "source": [
    "#oot1\n",
    "selected_index = []\n",
    "a = np.percentile(rf_temp['Prob'], 97)\n",
    "for i in rf_temp.index:\n",
    "    if rf_temp.at[i,'Prob'] >=a:\n",
    "        selected_index.append(i)\n",
    "records=sum(y_oot1)\n",
    "frauds = 0\n",
    "for i in y_oot1.index:\n",
    "    if i in selected_index:\n",
    "        frauds+=y_oot1[i]\n",
    "frauds/records"
   ]
  },
  {
   "cell_type": "code",
   "execution_count": null,
   "metadata": {},
   "outputs": [],
   "source": [
    "from sklearn.model_selection import train_test_split\n",
    "X_train, X_test, y_train, y_test = train_test_split(X, y, test_size=0.3, random_state=2)"
   ]
  },
  {
   "cell_type": "code",
   "execution_count": null,
   "metadata": {},
   "outputs": [],
   "source": [
    "from sklearn.ensemble import RandomForestClassifier\n",
    "rf = RandomForestClassifier(n_estimators=100, max_depth=2, random_state=0)\n",
    "rf.fit(X_train, y_train)"
   ]
  },
  {
   "cell_type": "code",
   "execution_count": null,
   "metadata": {},
   "outputs": [],
   "source": [
    "%%time\n",
    "# testing\n",
    "rf_temp = pd.DataFrame\n",
    "rf_temp = X_test.iloc[:,-1:]\n",
    "rf_temp.rename(columns={'mean_Cardnum_0d_zscore':'Prob'}, inplace=True)\n",
    "for k in X_test.index:\n",
    "    rf_temp.at[k,'Prob']=rf.predict_proba(X_test.loc[(k,k),:])[1,1]"
   ]
  },
  {
   "cell_type": "code",
   "execution_count": null,
   "metadata": {},
   "outputs": [],
   "source": [
    "#testing\n",
    "import numpy as np\n",
    "selected_index = []\n",
    "a = np.percentile(rf_temp['Prob'], 97)\n",
    "for i in rf_temp.index:\n",
    "    if rf_temp.at[i,'Prob'] >=a:\n",
    "        selected_index.append(i)\n",
    "records=sum(y_test)\n",
    "frauds = 0\n",
    "for i in y_test.index:\n",
    "    if i in selected_index:\n",
    "        frauds+=y_test[i]\n",
    "frauds/records"
   ]
  },
  {
   "cell_type": "code",
   "execution_count": null,
   "metadata": {},
   "outputs": [],
   "source": [
    "%%time\n",
    "# training\n",
    "rf_temp=pd.DataFrame\n",
    "rf_temp = X_train.iloc[:,-1:]\n",
    "rf_temp.rename(columns={'mean_Cardnum_0d_zscore':'Prob'}, inplace=True)\n",
    "for k in X_train.index:\n",
    "    rf_temp.at[k,'Prob']=rf.predict_proba(X_train.loc[(k,k),:])[1,1]"
   ]
  },
  {
   "cell_type": "code",
   "execution_count": null,
   "metadata": {},
   "outputs": [],
   "source": [
    "#training\n",
    "selected_index = []\n",
    "a = np.percentile(rf_temp['Prob'], 97)\n",
    "for i in rf_temp.index:\n",
    "    if rf_temp.at[i,'Prob'] >=a:\n",
    "        selected_index.append(i)\n",
    "records=sum(y_train)\n",
    "frauds = 0\n",
    "for i in y_train.index:\n",
    "    if i in selected_index:\n",
    "        frauds+=y_train[i]\n",
    "frauds/records"
   ]
  },
  {
   "cell_type": "code",
   "execution_count": null,
   "metadata": {},
   "outputs": [],
   "source": [
    "%%time\n",
    "# oot1\n",
    "rf_temp=pd.DataFrame\n",
    "rf_temp = X_oot1.iloc[:,-1:]\n",
    "rf_temp.rename(columns={'mean_Cardnum_0d_zscore':'Prob'}, inplace=True)\n",
    "for k in X_oot1.index:\n",
    "    rf_temp.at[k,'Prob']=rf.predict_proba(X_oot1.loc[(k,k),:])[1,1]"
   ]
  },
  {
   "cell_type": "code",
   "execution_count": null,
   "metadata": {},
   "outputs": [],
   "source": [
    "#oot1\n",
    "selected_index = []\n",
    "a = np.percentile(rf_temp['Prob'], 97)\n",
    "for i in rf_temp.index:\n",
    "    if rf_temp.at[i,'Prob'] >=a:\n",
    "        selected_index.append(i)\n",
    "records=sum(y_oot1)\n",
    "frauds = 0\n",
    "for i in y_oot1.index:\n",
    "    if i in selected_index:\n",
    "        frauds+=y_oot1[i]\n",
    "frauds/records"
   ]
  },
  {
   "cell_type": "code",
   "execution_count": null,
   "metadata": {},
   "outputs": [],
   "source": [
    "from sklearn.model_selection import train_test_split\n",
    "X_train, X_test, y_train, y_test = train_test_split(X, y, test_size=0.3, random_state=4)"
   ]
  },
  {
   "cell_type": "code",
   "execution_count": null,
   "metadata": {},
   "outputs": [],
   "source": [
    "from sklearn.ensemble import RandomForestClassifier\n",
    "rf = RandomForestClassifier(n_estimators=100, max_depth=2, random_state=0)\n",
    "rf.fit(X_train, y_train)"
   ]
  },
  {
   "cell_type": "code",
   "execution_count": null,
   "metadata": {},
   "outputs": [],
   "source": [
    "%%time\n",
    "# testing\n",
    "rf_temp = pd.DataFrame\n",
    "rf_temp = X_test.iloc[:,-1:]\n",
    "rf_temp.rename(columns={'mean_Cardnum_0d_zscore':'Prob'}, inplace=True)\n",
    "for k in X_test.index:\n",
    "    rf_temp.at[k,'Prob']=rf.predict_proba(X_test.loc[(k,k),:])[1,1]"
   ]
  },
  {
   "cell_type": "code",
   "execution_count": null,
   "metadata": {},
   "outputs": [],
   "source": [
    "#testing\n",
    "import numpy as np\n",
    "selected_index = []\n",
    "a = np.percentile(rf_temp['Prob'], 97)\n",
    "for i in rf_temp.index:\n",
    "    if rf_temp.at[i,'Prob'] >=a:\n",
    "        selected_index.append(i)\n",
    "records=sum(y_test)\n",
    "frauds = 0\n",
    "for i in y_test.index:\n",
    "    if i in selected_index:\n",
    "        frauds+=y_test[i]\n",
    "frauds/records"
   ]
  },
  {
   "cell_type": "code",
   "execution_count": null,
   "metadata": {},
   "outputs": [],
   "source": [
    "%%time\n",
    "# training\n",
    "rf_temp=pd.DataFrame\n",
    "rf_temp = X_train.iloc[:,-1:]\n",
    "rf_temp.rename(columns={'mean_Cardnum_0d_zscore':'Prob'}, inplace=True)\n",
    "for k in X_train.index:\n",
    "    rf_temp.at[k,'Prob']=rf.predict_proba(X_train.loc[(k,k),:])[1,1]"
   ]
  },
  {
   "cell_type": "code",
   "execution_count": null,
   "metadata": {},
   "outputs": [],
   "source": [
    "#training\n",
    "selected_index = []\n",
    "a = np.percentile(rf_temp['Prob'], 97)\n",
    "for i in rf_temp.index:\n",
    "    if rf_temp.at[i,'Prob'] >=a:\n",
    "        selected_index.append(i)\n",
    "records=sum(y_train)\n",
    "frauds = 0\n",
    "for i in y_train.index:\n",
    "    if i in selected_index:\n",
    "        frauds+=y_train[i]\n",
    "frauds/records"
   ]
  },
  {
   "cell_type": "code",
   "execution_count": null,
   "metadata": {},
   "outputs": [],
   "source": [
    "%%time\n",
    "# oot1\n",
    "rf_temp=pd.DataFrame\n",
    "rf_temp = X_oot1.iloc[:,-1:]\n",
    "rf_temp.rename(columns={'mean_Cardnum_0d_zscore':'Prob'}, inplace=True)\n",
    "for k in X_oot1.index:\n",
    "    rf_temp.at[k,'Prob']=rf.predict_proba(X_oot1.loc[(k,k),:])[1,1]"
   ]
  },
  {
   "cell_type": "code",
   "execution_count": null,
   "metadata": {},
   "outputs": [],
   "source": [
    "#oot1\n",
    "selected_index = []\n",
    "a = np.percentile(rf_temp['Prob'], 97)\n",
    "for i in rf_temp.index:\n",
    "    if rf_temp.at[i,'Prob'] >=a:\n",
    "        selected_index.append(i)\n",
    "records=sum(y_oot1)\n",
    "frauds = 0\n",
    "for i in y_oot1.index:\n",
    "    if i in selected_index:\n",
    "        frauds+=y_oot1[i]\n",
    "frauds/records"
   ]
  },
  {
   "cell_type": "code",
   "execution_count": null,
   "metadata": {},
   "outputs": [],
   "source": [
    "from sklearn.model_selection import train_test_split\n",
    "X_train, X_test, y_train, y_test = train_test_split(X, y, test_size=0.3, random_state=4)\n",
    "from sklearn.ensemble import RandomForestClassifier\n",
    "rf = RandomForestClassifier(n_estimators=400, max_depth=2, random_state=0)\n",
    "rf.fit(X_train, y_train)"
   ]
  },
  {
   "cell_type": "code",
   "execution_count": null,
   "metadata": {},
   "outputs": [],
   "source": [
    "%%time\n",
    "# testing\n",
    "rf_temp = pd.DataFrame\n",
    "rf_temp = X_test.iloc[:,-1:]\n",
    "rf_temp.rename(columns={'mean_Cardnum_0d_zscore':'Prob'}, inplace=True)\n",
    "for k in X_test.index:\n",
    "    rf_temp.at[k,'Prob']=rf.predict_proba(X_test.loc[(k,k),:])[1,1]"
   ]
  },
  {
   "cell_type": "code",
   "execution_count": null,
   "metadata": {},
   "outputs": [],
   "source": [
    "#testing\n",
    "import numpy as np\n",
    "selected_index = []\n",
    "a = np.percentile(rf_temp['Prob'], 97)\n",
    "for i in rf_temp.index:\n",
    "    if rf_temp.at[i,'Prob'] >=a:\n",
    "        selected_index.append(i)\n",
    "records=sum(y_test)\n",
    "frauds = 0\n",
    "for i in y_test.index:\n",
    "    if i in selected_index:\n",
    "        frauds+=y_test[i]\n",
    "frauds/records"
   ]
  },
  {
   "cell_type": "code",
   "execution_count": null,
   "metadata": {},
   "outputs": [],
   "source": [
    "%%time\n",
    "# training\n",
    "rf_temp=pd.DataFrame\n",
    "rf_temp = X_train.iloc[:,-1:]\n",
    "rf_temp.rename(columns={'mean_Cardnum_0d_zscore':'Prob'}, inplace=True)\n",
    "for k in X_train.index:\n",
    "    rf_temp.at[k,'Prob']=rf.predict_proba(X_train.loc[(k,k),:])[1,1]"
   ]
  },
  {
   "cell_type": "code",
   "execution_count": null,
   "metadata": {},
   "outputs": [],
   "source": [
    "#training\n",
    "selected_index = []\n",
    "a = np.percentile(rf_temp['Prob'], 97)\n",
    "for i in rf_temp.index:\n",
    "    if rf_temp.at[i,'Prob'] >=a:\n",
    "        selected_index.append(i)\n",
    "records=sum(y_train)\n",
    "frauds = 0\n",
    "for i in y_train.index:\n",
    "    if i in selected_index:\n",
    "        frauds+=y_train[i]\n",
    "frauds/records"
   ]
  },
  {
   "cell_type": "code",
   "execution_count": null,
   "metadata": {},
   "outputs": [],
   "source": [
    "%%time\n",
    "# oot1\n",
    "rf_temp=pd.DataFrame\n",
    "rf_temp = X_oot1.iloc[:,-1:]\n",
    "rf_temp.rename(columns={'mean_Cardnum_0d_zscore':'Prob'}, inplace=True)\n",
    "for k in X_oot1.index:\n",
    "    rf_temp.at[k,'Prob']=rf.predict_proba(X_oot1.loc[(k,k),:])[1,1]"
   ]
  },
  {
   "cell_type": "code",
   "execution_count": null,
   "metadata": {},
   "outputs": [],
   "source": [
    "#oot1\n",
    "selected_index = []\n",
    "a = np.percentile(rf_temp['Prob'], 97)\n",
    "for i in rf_temp.index:\n",
    "    if rf_temp.at[i,'Prob'] >=a:\n",
    "        selected_index.append(i)\n",
    "records=sum(y_oot1)\n",
    "frauds = 0\n",
    "for i in y_oot1.index:\n",
    "    if i in selected_index:\n",
    "        frauds+=y_oot1[i]\n",
    "frauds/records"
   ]
  },
  {
   "cell_type": "code",
   "execution_count": null,
   "metadata": {},
   "outputs": [],
   "source": []
  }
 ],
 "metadata": {
  "kernelspec": {
   "display_name": "Python 3",
   "language": "python",
   "name": "python3"
  },
  "language_info": {
   "codemirror_mode": {
    "name": "ipython",
    "version": 3
   },
   "file_extension": ".py",
   "mimetype": "text/x-python",
   "name": "python",
   "nbconvert_exporter": "python",
   "pygments_lexer": "ipython3",
   "version": "3.7.2"
  }
 },
 "nbformat": 4,
 "nbformat_minor": 2
}
